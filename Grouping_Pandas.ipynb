{
 "cells": [
  {
   "cell_type": "code",
   "execution_count": 1,
   "metadata": {
    "collapsed": true
   },
   "outputs": [],
   "source": [
    "import pandas as pd"
   ]
  },
  {
   "cell_type": "code",
   "execution_count": 2,
   "metadata": {
    "collapsed": true
   },
   "outputs": [],
   "source": [
    "df = pd.read_table('VF_HMM/Bitscore_Threshold.txt')"
   ]
  },
  {
   "cell_type": "code",
   "execution_count": 4,
   "metadata": {},
   "outputs": [
    {
     "data": {
      "text/plain": [
       "Index([u'query_id', u'subject_id', u'identity', u'alignment_length',\n",
       "       u'mismatches', u'gap_opens', u'q_start', u'q_end', u's_start', u's_end',\n",
       "       u'evalue', u'bit_score'],\n",
       "      dtype='object')"
      ]
     },
     "execution_count": 4,
     "metadata": {},
     "output_type": "execute_result"
    }
   ],
   "source": [
    "df.columns"
   ]
  },
  {
   "cell_type": "code",
   "execution_count": 6,
   "metadata": {},
   "outputs": [
    {
     "name": "stdout",
     "output_type": "stream",
     "text": [
      "<class 'pandas.core.frame.DataFrame'>\n",
      "RangeIndex: 19149 entries, 0 to 19148\n",
      "Data columns (total 12 columns):\n",
      "query_id            19149 non-null object\n",
      "subject_id          19149 non-null object\n",
      "identity            19149 non-null float64\n",
      "alignment_length    19149 non-null int64\n",
      "mismatches          19149 non-null int64\n",
      "gap_opens           19149 non-null int64\n",
      "q_start             19149 non-null int64\n",
      "q_end               19149 non-null int64\n",
      "s_start             19149 non-null int64\n",
      "s_end               19149 non-null int64\n",
      "evalue              19149 non-null float64\n",
      "bit_score           19149 non-null int64\n",
      "dtypes: float64(2), int64(8), object(2)\n",
      "memory usage: 1.8+ MB\n"
     ]
    }
   ],
   "source": [
    "df.info()"
   ]
  },
  {
   "cell_type": "code",
   "execution_count": 10,
   "metadata": {
    "collapsed": true
   },
   "outputs": [],
   "source": [
    "organized = df.set_index(['query_id', 'subject_id']).sort_index()"
   ]
  },
  {
   "cell_type": "raw",
   "metadata": {},
   "source": []
  },
  {
   "cell_type": "code",
   "execution_count": 11,
   "metadata": {},
   "outputs": [
    {
     "data": {
      "text/html": [
       "<div>\n",
       "<style>\n",
       "    .dataframe thead tr:only-child th {\n",
       "        text-align: right;\n",
       "    }\n",
       "\n",
       "    .dataframe thead th {\n",
       "        text-align: left;\n",
       "    }\n",
       "\n",
       "    .dataframe tbody tr th {\n",
       "        vertical-align: top;\n",
       "    }\n",
       "</style>\n",
       "<table border=\"1\" class=\"dataframe\">\n",
       "  <thead>\n",
       "    <tr style=\"text-align: right;\">\n",
       "      <th></th>\n",
       "      <th></th>\n",
       "      <th>identity</th>\n",
       "      <th>alignment_length</th>\n",
       "      <th>mismatches</th>\n",
       "      <th>gap_opens</th>\n",
       "      <th>q_start</th>\n",
       "      <th>q_end</th>\n",
       "      <th>s_start</th>\n",
       "      <th>s_end</th>\n",
       "      <th>evalue</th>\n",
       "      <th>bit_score</th>\n",
       "    </tr>\n",
       "    <tr>\n",
       "      <th>query_id</th>\n",
       "      <th>subject_id</th>\n",
       "      <th></th>\n",
       "      <th></th>\n",
       "      <th></th>\n",
       "      <th></th>\n",
       "      <th></th>\n",
       "      <th></th>\n",
       "      <th></th>\n",
       "      <th></th>\n",
       "      <th></th>\n",
       "      <th></th>\n",
       "    </tr>\n",
       "  </thead>\n",
       "  <tbody>\n",
       "    <tr>\n",
       "      <th rowspan=\"3\" valign=\"top\">PATRIC_VF|APECO1_2093</th>\n",
       "      <th>PATRIC_VF|APECO1_2093</th>\n",
       "      <td>100.000</td>\n",
       "      <td>456</td>\n",
       "      <td>0</td>\n",
       "      <td>0</td>\n",
       "      <td>1</td>\n",
       "      <td>456</td>\n",
       "      <td>1</td>\n",
       "      <td>456</td>\n",
       "      <td>0.0</td>\n",
       "      <td>946</td>\n",
       "    </tr>\n",
       "    <tr>\n",
       "      <th>PATRIC_VF|UTI89_C5035</th>\n",
       "      <td>100.000</td>\n",
       "      <td>456</td>\n",
       "      <td>0</td>\n",
       "      <td>0</td>\n",
       "      <td>1</td>\n",
       "      <td>456</td>\n",
       "      <td>1</td>\n",
       "      <td>456</td>\n",
       "      <td>0.0</td>\n",
       "      <td>946</td>\n",
       "    </tr>\n",
       "    <tr>\n",
       "      <th>VFDB|VFG001442</th>\n",
       "      <td>98.684</td>\n",
       "      <td>456</td>\n",
       "      <td>6</td>\n",
       "      <td>0</td>\n",
       "      <td>1</td>\n",
       "      <td>456</td>\n",
       "      <td>1</td>\n",
       "      <td>456</td>\n",
       "      <td>0.0</td>\n",
       "      <td>934</td>\n",
       "    </tr>\n",
       "    <tr>\n",
       "      <th rowspan=\"2\" valign=\"top\">PATRIC_VF|APECO1_3527</th>\n",
       "      <th>PATRIC_VF|APECO1_3527</th>\n",
       "      <td>100.000</td>\n",
       "      <td>336</td>\n",
       "      <td>0</td>\n",
       "      <td>0</td>\n",
       "      <td>1</td>\n",
       "      <td>336</td>\n",
       "      <td>1</td>\n",
       "      <td>336</td>\n",
       "      <td>0.0</td>\n",
       "      <td>700</td>\n",
       "    </tr>\n",
       "    <tr>\n",
       "      <th>VFDB|VFG000890</th>\n",
       "      <td>99.107</td>\n",
       "      <td>336</td>\n",
       "      <td>3</td>\n",
       "      <td>0</td>\n",
       "      <td>1</td>\n",
       "      <td>336</td>\n",
       "      <td>1</td>\n",
       "      <td>336</td>\n",
       "      <td>0.0</td>\n",
       "      <td>694</td>\n",
       "    </tr>\n",
       "  </tbody>\n",
       "</table>\n",
       "</div>"
      ],
      "text/plain": [
       "                                             identity  alignment_length  \\\n",
       "query_id              subject_id                                          \n",
       "PATRIC_VF|APECO1_2093 PATRIC_VF|APECO1_2093   100.000               456   \n",
       "                      PATRIC_VF|UTI89_C5035   100.000               456   \n",
       "                      VFDB|VFG001442           98.684               456   \n",
       "PATRIC_VF|APECO1_3527 PATRIC_VF|APECO1_3527   100.000               336   \n",
       "                      VFDB|VFG000890           99.107               336   \n",
       "\n",
       "                                             mismatches  gap_opens  q_start  \\\n",
       "query_id              subject_id                                              \n",
       "PATRIC_VF|APECO1_2093 PATRIC_VF|APECO1_2093           0          0        1   \n",
       "                      PATRIC_VF|UTI89_C5035           0          0        1   \n",
       "                      VFDB|VFG001442                  6          0        1   \n",
       "PATRIC_VF|APECO1_3527 PATRIC_VF|APECO1_3527           0          0        1   \n",
       "                      VFDB|VFG000890                  3          0        1   \n",
       "\n",
       "                                             q_end  s_start  s_end  evalue  \\\n",
       "query_id              subject_id                                             \n",
       "PATRIC_VF|APECO1_2093 PATRIC_VF|APECO1_2093    456        1    456     0.0   \n",
       "                      PATRIC_VF|UTI89_C5035    456        1    456     0.0   \n",
       "                      VFDB|VFG001442           456        1    456     0.0   \n",
       "PATRIC_VF|APECO1_3527 PATRIC_VF|APECO1_3527    336        1    336     0.0   \n",
       "                      VFDB|VFG000890           336        1    336     0.0   \n",
       "\n",
       "                                             bit_score  \n",
       "query_id              subject_id                        \n",
       "PATRIC_VF|APECO1_2093 PATRIC_VF|APECO1_2093        946  \n",
       "                      PATRIC_VF|UTI89_C5035        946  \n",
       "                      VFDB|VFG001442               934  \n",
       "PATRIC_VF|APECO1_3527 PATRIC_VF|APECO1_3527        700  \n",
       "                      VFDB|VFG000890               694  "
      ]
     },
     "execution_count": 11,
     "metadata": {},
     "output_type": "execute_result"
    }
   ],
   "source": [
    "organized.head()"
   ]
  },
  {
   "cell_type": "code",
   "execution_count": null,
   "metadata": {
    "collapsed": true
   },
   "outputs": [],
   "source": []
  }
 ],
 "metadata": {
  "kernelspec": {
   "display_name": "Python 2",
   "language": "python",
   "name": "python2"
  },
  "language_info": {
   "codemirror_mode": {
    "name": "ipython",
    "version": 2
   },
   "file_extension": ".py",
   "mimetype": "text/x-python",
   "name": "python",
   "nbconvert_exporter": "python",
   "pygments_lexer": "ipython2",
   "version": "2.7.14"
  }
 },
 "nbformat": 4,
 "nbformat_minor": 2
}
