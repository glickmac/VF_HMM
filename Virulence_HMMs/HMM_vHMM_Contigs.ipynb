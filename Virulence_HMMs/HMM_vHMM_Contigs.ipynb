{
 "cells": [
  {
   "cell_type": "code",
   "execution_count": 1,
   "metadata": {
    "collapsed": true
   },
   "outputs": [],
   "source": [
    "### Virulance HMM Table Output Anaylsis"
   ]
  },
  {
   "cell_type": "markdown",
   "metadata": {},
   "source": []
  },
  {
   "cell_type": "code",
   "execution_count": 38,
   "metadata": {},
   "outputs": [],
   "source": [
    "import pandas as pd\n",
    "import numpy as np\n",
    "import matplotlib.pyplot as plt\n",
    "from Bio import SearchIO\n",
    "%matplotlib inline"
   ]
  },
  {
   "cell_type": "code",
   "execution_count": 36,
   "metadata": {},
   "outputs": [],
   "source": [
    "df = pd.read_table('vhmm_hmm_table.txt', header=None)"
   ]
  },
  {
   "cell_type": "code",
   "execution_count": 52,
   "metadata": {},
   "outputs": [],
   "source": [
    "num_hit = 0\n",
    "#now parse the output\n",
    "hit_list = []\n",
    "hit_ids = []\n",
    "with open('vhmm_hmm_table.txt', 'r') as input:\n",
    "    for qresult in SearchIO.parse(input, 'hmmer3-tab'):\n",
    "        query_id = qresult.id  #sequence ID from fasta\n",
    "        hits = qresult.hits\n",
    "        hit_ids = hit_ids+qresult.hit_keys\n",
    "        hit_list.append(hits)\n",
    "        "
   ]
  },
  {
   "cell_type": "code",
   "execution_count": 69,
   "metadata": {},
   "outputs": [
    {
     "data": {
      "text/plain": [
       "Hit(id='3300000167.a:SI39nov09_120mDRAFT_c1000196_51', query_id='GTP_EFTU', 1 hsps)"
      ]
     },
     "execution_count": 69,
     "metadata": {},
     "output_type": "execute_result"
    }
   ],
   "source": [
    "hit_list[1][1]"
   ]
  },
  {
   "cell_type": "code",
   "execution_count": 68,
   "metadata": {},
   "outputs": [
    {
     "data": {
      "text/plain": [
       "183431"
      ]
     },
     "execution_count": 68,
     "metadata": {},
     "output_type": "execute_result"
    }
   ],
   "source": [
    "len(hit_ids)"
   ]
  },
  {
   "cell_type": "code",
   "execution_count": 82,
   "metadata": {
    "collapsed": true
   },
   "outputs": [],
   "source": [
    "JGI_ids = []\n",
    "Scaffolds = []\n",
    "for hit in hit_ids:\n",
    "    z = hit.split(':')\n",
    "    JGI_ids.append(z[0])\n",
    "    Scaffolds.append(z[1])"
   ]
  },
  {
   "cell_type": "code",
   "execution_count": 84,
   "metadata": {},
   "outputs": [
    {
     "data": {
      "text/plain": [
       "183431"
      ]
     },
     "execution_count": 84,
     "metadata": {},
     "output_type": "execute_result"
    }
   ],
   "source": [
    "len(JGI_ids)"
   ]
  },
  {
   "cell_type": "code",
   "execution_count": null,
   "metadata": {},
   "outputs": [],
   "source": []
  },
  {
   "cell_type": "code",
   "execution_count": 101,
   "metadata": {},
   "outputs": [],
   "source": [
    "from collections import defaultdict\n",
    "\n",
    "d = defaultdict(list)\n",
    "for key, value in zip(JGI_ids, Scaffolds):\n",
    "    d[key].append(value)"
   ]
  },
  {
   "cell_type": "code",
   "execution_count": 111,
   "metadata": {},
   "outputs": [
    {
     "data": {
      "text/plain": [
       "{'3300001915.a': ['JGI24741J21665_1000159_11',\n",
       "  'JGI24741J21665_1000159_11',\n",
       "  'JGI24741J21665_1000906_3',\n",
       "  'JGI24741J21665_1000388_14',\n",
       "  'JGI24741J21665_1000906_2',\n",
       "  'JGI24741J21665_1000007_69',\n",
       "  'JGI24741J21665_1000388_19',\n",
       "  'JGI24741J21665_1000551_2',\n",
       "  'JGI24741J21665_1000007_70',\n",
       "  'JGI24741J21665_1000159_11',\n",
       "  'JGI24741J21665_1000159_11',\n",
       "  'JGI24741J21665_1000906_1',\n",
       "  'JGI24741J21665_1000388_30',\n",
       "  'JGI24741J21665_1000007_51'],\n",
       " '3300003752.a': ['Ga0055539_1000308_1',\n",
       "  'Ga0055539_1000200_67',\n",
       "  'Ga0055539_1000308_13',\n",
       "  'Ga0055539_1000329_3']}"
      ]
     },
     "execution_count": 111,
     "metadata": {},
     "output_type": "execute_result"
    }
   ],
   "source": [
    "x = dict(d)\n",
    "dict(x.items()[2:4])"
   ]
  },
  {
   "cell_type": "code",
   "execution_count": 85,
   "metadata": {},
   "outputs": [
    {
     "data": {
      "text/plain": [
       "1760"
      ]
     },
     "execution_count": 85,
     "metadata": {},
     "output_type": "execute_result"
    }
   ],
   "source": [
    "uniq_JGI_ids = list(set(JGI_ids))\n",
    "len(uniq_JGI_ids)"
   ]
  },
  {
   "cell_type": "code",
   "execution_count": 87,
   "metadata": {},
   "outputs": [
    {
     "data": {
      "text/plain": [
       "142746"
      ]
     },
     "execution_count": 87,
     "metadata": {},
     "output_type": "execute_result"
    }
   ],
   "source": [
    "uniq_Scaffold = list(set(Scaffolds))\n",
    "len(uniq_Scaffold)"
   ]
  },
  {
   "cell_type": "code",
   "execution_count": null,
   "metadata": {},
   "outputs": [],
   "source": []
  },
  {
   "cell_type": "code",
   "execution_count": null,
   "metadata": {},
   "outputs": [],
   "source": []
  },
  {
   "cell_type": "code",
   "execution_count": null,
   "metadata": {
    "collapsed": true
   },
   "outputs": [],
   "source": []
  }
 ],
 "metadata": {
  "kernelspec": {
   "display_name": "Python 2",
   "language": "python",
   "name": "python2"
  },
  "language_info": {
   "codemirror_mode": {
    "name": "ipython",
    "version": 2
   },
   "file_extension": ".py",
   "mimetype": "text/x-python",
   "name": "python",
   "nbconvert_exporter": "python",
   "pygments_lexer": "ipython2",
   "version": "2.7.14"
  }
 },
 "nbformat": 4,
 "nbformat_minor": 2
}
