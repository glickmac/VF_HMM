{
 "cells": [
  {
   "cell_type": "code",
   "execution_count": 1,
   "metadata": {
    "collapsed": true
   },
   "outputs": [],
   "source": [
    "### Virulance HMM Table Output Anaylsis"
   ]
  },
  {
   "cell_type": "markdown",
   "metadata": {},
   "source": []
  },
  {
   "cell_type": "code",
   "execution_count": 1,
   "metadata": {},
   "outputs": [
    {
     "name": "stderr",
     "output_type": "stream",
     "text": [
      "/Users/stronglab2/anaconda2/lib/python2.7/site-packages/Bio/SearchIO/__init__.py:211: BiopythonExperimentalWarning: Bio.SearchIO is an experimental submodule which may undergo significant changes prior to its future official release.\n",
      "  BiopythonExperimentalWarning)\n"
     ]
    }
   ],
   "source": [
    "import pandas as pd\n",
    "import numpy as np\n",
    "import matplotlib.pyplot as plt\n",
    "from Bio import SearchIO\n",
    "%matplotlib inline"
   ]
  },
  {
   "cell_type": "code",
   "execution_count": 2,
   "metadata": {
    "collapsed": true
   },
   "outputs": [],
   "source": [
    "#df = pd.read_table('vhmm_hmm_table.txt', header=None)"
   ]
  },
  {
   "cell_type": "code",
   "execution_count": 2,
   "metadata": {
    "collapsed": true
   },
   "outputs": [],
   "source": [
    "num_hit = 0\n",
    "#now parse the output\n",
    "hit_list = []\n",
    "hit_ids = []\n",
    "with open('vhmm_hmm_table.txt', 'r') as input:\n",
    "    for qresult in SearchIO.parse(input, 'hmmer3-tab'):\n",
    "        query_id = qresult.id  #sequence ID from fasta\n",
    "        hits = qresult.hits\n",
    "        hit_ids = hit_ids+qresult.hit_keys\n",
    "        hit_list.append(hits)\n",
    "        "
   ]
  },
  {
   "cell_type": "code",
   "execution_count": 4,
   "metadata": {},
   "outputs": [
    {
     "data": {
      "text/plain": [
       "Hit(id='3300000167.a:SI39nov09_120mDRAFT_c1000196_51', query_id='GTP_EFTU', 1 hsps)"
      ]
     },
     "execution_count": 4,
     "metadata": {},
     "output_type": "execute_result"
    }
   ],
   "source": [
    "hit_list[1][1]"
   ]
  },
  {
   "cell_type": "code",
   "execution_count": 5,
   "metadata": {},
   "outputs": [
    {
     "data": {
      "text/plain": [
       "183431"
      ]
     },
     "execution_count": 5,
     "metadata": {},
     "output_type": "execute_result"
    }
   ],
   "source": [
    "len(hit_ids)"
   ]
  },
  {
   "cell_type": "code",
   "execution_count": 3,
   "metadata": {
    "collapsed": true
   },
   "outputs": [],
   "source": [
    "JGI_ids = []\n",
    "Scaffolds = []\n",
    "for hit in hit_ids:\n",
    "    z = hit.split(':')\n",
    "    JGI_ids.append(z[0])\n",
    "    Scaffolds.append(z[1])"
   ]
  },
  {
   "cell_type": "code",
   "execution_count": 7,
   "metadata": {},
   "outputs": [
    {
     "data": {
      "text/plain": [
       "183431"
      ]
     },
     "execution_count": 7,
     "metadata": {},
     "output_type": "execute_result"
    }
   ],
   "source": [
    "len(JGI_ids)"
   ]
  },
  {
   "cell_type": "code",
   "execution_count": 4,
   "metadata": {
    "collapsed": true
   },
   "outputs": [],
   "source": [
    "JGI_ids = [x.split('.', 2)[0] for x in JGI_ids]"
   ]
  },
  {
   "cell_type": "code",
   "execution_count": 5,
   "metadata": {
    "collapsed": true
   },
   "outputs": [],
   "source": [
    "from collections import defaultdict\n",
    "\n",
    "d = defaultdict(list)\n",
    "for key, value in zip(JGI_ids, Scaffolds):\n",
    "    d[key].append(value)"
   ]
  },
  {
   "cell_type": "code",
   "execution_count": 6,
   "metadata": {},
   "outputs": [
    {
     "data": {
      "text/plain": [
       "{'3300000192': ['SI60aug11_100mDRAFT_c1000573_10',\n",
       "  'SI60aug11_100mDRAFT_c1001443_12',\n",
       "  'SI60aug11_100mDRAFT_c1000573_13',\n",
       "  'SI60aug11_100mDRAFT_c1001334_9',\n",
       "  'SI60aug11_100mDRAFT_c1000294_6',\n",
       "  'SI60aug11_100mDRAFT_c1000573_9',\n",
       "  'SI60aug11_100mDRAFT_c1001107_9',\n",
       "  'SI60aug11_100mDRAFT_c1000294_3',\n",
       "  'SI60aug11_100mDRAFT_c1000573_9',\n",
       "  'SI60aug11_100mDRAFT_c1000573_9']}"
      ]
     },
     "execution_count": 6,
     "metadata": {},
     "output_type": "execute_result"
    }
   ],
   "source": [
    "my_dict = dict(d)\n",
    "dict(my_dict.items()[4:5])"
   ]
  },
  {
   "cell_type": "code",
   "execution_count": 13,
   "metadata": {},
   "outputs": [
    {
     "data": {
      "text/html": [
       "<div>\n",
       "<style>\n",
       "    .dataframe thead tr:only-child th {\n",
       "        text-align: right;\n",
       "    }\n",
       "\n",
       "    .dataframe thead th {\n",
       "        text-align: left;\n",
       "    }\n",
       "\n",
       "    .dataframe tbody tr th {\n",
       "        vertical-align: top;\n",
       "    }\n",
       "</style>\n",
       "<table border=\"1\" class=\"dataframe\">\n",
       "  <thead>\n",
       "    <tr style=\"text-align: right;\">\n",
       "      <th></th>\n",
       "      <th>Scaffold</th>\n",
       "      <th>Study_Id</th>\n",
       "    </tr>\n",
       "  </thead>\n",
       "  <tbody>\n",
       "    <tr>\n",
       "      <th>0</th>\n",
       "      <td>WSSedL1C_c10000174_2</td>\n",
       "      <td>3300000091</td>\n",
       "    </tr>\n",
       "    <tr>\n",
       "      <th>1</th>\n",
       "      <td>WSSedL1CaDRAFT_10000174_2</td>\n",
       "      <td>3300000318</td>\n",
       "    </tr>\n",
       "    <tr>\n",
       "      <th>2</th>\n",
       "      <td>JGI24740J21852_10000380_1</td>\n",
       "      <td>3300001979</td>\n",
       "    </tr>\n",
       "    <tr>\n",
       "      <th>3</th>\n",
       "      <td>rumenHiSeq_NODE_726704_len_57544_cov_1_739330_44</td>\n",
       "      <td>2061766007</td>\n",
       "    </tr>\n",
       "    <tr>\n",
       "      <th>4</th>\n",
       "      <td>SRS049318_LANL_scaffold_15428_13</td>\n",
       "      <td>7000000584</td>\n",
       "    </tr>\n",
       "  </tbody>\n",
       "</table>\n",
       "</div>"
      ],
      "text/plain": [
       "                                           Scaffold    Study_Id\n",
       "0                              WSSedL1C_c10000174_2  3300000091\n",
       "1                         WSSedL1CaDRAFT_10000174_2  3300000318\n",
       "2                         JGI24740J21852_10000380_1  3300001979\n",
       "3  rumenHiSeq_NODE_726704_len_57544_cov_1_739330_44  2061766007\n",
       "4                  SRS049318_LANL_scaffold_15428_13  7000000584"
      ]
     },
     "execution_count": 13,
     "metadata": {},
     "output_type": "execute_result"
    }
   ],
   "source": [
    "df_full = pd.DataFrame({'Study_Id': JGI_ids,\n",
    "                      'Scaffold': Scaffolds})\n",
    "df_full.head()"
   ]
  },
  {
   "cell_type": "code",
   "execution_count": 14,
   "metadata": {},
   "outputs": [
    {
     "data": {
      "text/plain": [
       "1760"
      ]
     },
     "execution_count": 14,
     "metadata": {},
     "output_type": "execute_result"
    }
   ],
   "source": [
    "uniq_JGI_ids = list(set(JGI_ids))\n",
    "len(uniq_JGI_ids)"
   ]
  },
  {
   "cell_type": "code",
   "execution_count": null,
   "metadata": {
    "collapsed": true
   },
   "outputs": [],
   "source": []
  },
  {
   "cell_type": "code",
   "execution_count": 15,
   "metadata": {},
   "outputs": [
    {
     "data": {
      "text/plain": [
       "[('Draft_10000146_99', 12),\n",
       " ('Draft_10010688_10', 12),\n",
       " ('Draft_10001099_43', 12),\n",
       " ('Draft_10001190_42', 12),\n",
       " ('SRS018971_WUGC_scaffold_10797_26', 10),\n",
       " ('Draft_10001610_24', 10),\n",
       " ('SRS018975_WUGC_scaffold_47375_19', 10),\n",
       " ('SRS015899_WUGC_scaffold_35320_19', 10),\n",
       " ('Draft_10001648_26', 10),\n",
       " ('Draft_10002066_39', 10)]"
      ]
     },
     "execution_count": 15,
     "metadata": {},
     "output_type": "execute_result"
    }
   ],
   "source": [
    "from collections import Counter\n",
    "c = Counter(Scaffolds)\n",
    "c.most_common(10)"
   ]
  },
  {
   "cell_type": "code",
   "execution_count": 36,
   "metadata": {},
   "outputs": [
    {
     "data": {
      "text/plain": [
       "142746"
      ]
     },
     "execution_count": 36,
     "metadata": {},
     "output_type": "execute_result"
    }
   ],
   "source": [
    "uniq_Scaffold = list(set(Scaffolds))\n",
    "len(uniq_Scaffold)"
   ]
  },
  {
   "cell_type": "code",
   "execution_count": 16,
   "metadata": {},
   "outputs": [
    {
     "data": {
      "text/plain": [
       "[('2061766007', 5950),\n",
       " ('3300002641', 3104),\n",
       " ('3300001450', 2596),\n",
       " ('3300000117', 2324),\n",
       " ('3300000553', 2294),\n",
       " ('3300000116', 2236),\n",
       " ('3300001605', 2067),\n",
       " ('3300001460', 1999),\n",
       " ('3300002466', 1960)]"
      ]
     },
     "execution_count": 16,
     "metadata": {},
     "output_type": "execute_result"
    }
   ],
   "source": [
    "y = {k:sum(1 for x in v if x) for k,v in my_dict.items()}\n",
    "#sum(y.values())\n",
    "\n",
    "\n",
    "q = sorted(y.items(), key=lambda x: x[1], reverse=True)\n",
    "q[1:10]"
   ]
  },
  {
   "cell_type": "markdown",
   "metadata": {
    "collapsed": true
   },
   "source": [
    "### Load Key Information"
   ]
  },
  {
   "cell_type": "code",
   "execution_count": 17,
   "metadata": {
    "collapsed": true
   },
   "outputs": [],
   "source": [
    "df = pd.read_table('Viral_Projects.txt')"
   ]
  },
  {
   "cell_type": "code",
   "execution_count": 18,
   "metadata": {},
   "outputs": [
    {
     "data": {
      "text/html": [
       "<div>\n",
       "<style>\n",
       "    .dataframe thead tr:only-child th {\n",
       "        text-align: right;\n",
       "    }\n",
       "\n",
       "    .dataframe thead th {\n",
       "        text-align: left;\n",
       "    }\n",
       "\n",
       "    .dataframe tbody tr th {\n",
       "        vertical-align: top;\n",
       "    }\n",
       "</style>\n",
       "<table border=\"1\" class=\"dataframe\">\n",
       "  <thead>\n",
       "    <tr style=\"text-align: right;\">\n",
       "      <th></th>\n",
       "      <th>Domain</th>\n",
       "      <th>Status</th>\n",
       "      <th>Study Name</th>\n",
       "      <th>Taxon OID</th>\n",
       "      <th>Genome Name</th>\n",
       "      <th>Habitat Type</th>\n",
       "      <th>Habitat (from GOLD)</th>\n",
       "      <th>Depth</th>\n",
       "      <th>Viral Contig Count</th>\n",
       "    </tr>\n",
       "  </thead>\n",
       "  <tbody>\n",
       "    <tr>\n",
       "      <th>0</th>\n",
       "      <td>*</td>\n",
       "      <td>P</td>\n",
       "      <td>Human microbial communities from the National ...</td>\n",
       "      <td>7000000203</td>\n",
       "      <td>Human tongue dorsum microbial communities from...</td>\n",
       "      <td>Host-associated(human)</td>\n",
       "      <td>Human</td>\n",
       "      <td>NaN</td>\n",
       "      <td>115</td>\n",
       "    </tr>\n",
       "    <tr>\n",
       "      <th>1</th>\n",
       "      <td>*</td>\n",
       "      <td>P</td>\n",
       "      <td>Microbial and viral regulation of community ca...</td>\n",
       "      <td>3300005508</td>\n",
       "      <td>Marine microbial and viral communities from ox...</td>\n",
       "      <td>Marine</td>\n",
       "      <td>Marine</td>\n",
       "      <td>NaN</td>\n",
       "      <td>86</td>\n",
       "    </tr>\n",
       "    <tr>\n",
       "      <th>2</th>\n",
       "      <td>*</td>\n",
       "      <td>P</td>\n",
       "      <td>Permafrost soil microbial communities from the...</td>\n",
       "      <td>3300005994</td>\n",
       "      <td>Permafrost soil microbial communities from the...</td>\n",
       "      <td>Terrestrial(soil)</td>\n",
       "      <td>Soil</td>\n",
       "      <td>0</td>\n",
       "      <td>2</td>\n",
       "    </tr>\n",
       "    <tr>\n",
       "      <th>3</th>\n",
       "      <td>*</td>\n",
       "      <td>P</td>\n",
       "      <td>Amended soil microbial communities from New Yo...</td>\n",
       "      <td>3300012988</td>\n",
       "      <td>Soil microbial communities amended with fresh ...</td>\n",
       "      <td>Terrestrial(soil)</td>\n",
       "      <td>soil</td>\n",
       "      <td>0</td>\n",
       "      <td>113</td>\n",
       "    </tr>\n",
       "    <tr>\n",
       "      <th>4</th>\n",
       "      <td>*</td>\n",
       "      <td>P</td>\n",
       "      <td>Permafrost soil microbial communities from the...</td>\n",
       "      <td>3300006864</td>\n",
       "      <td>Permafrost soil microbial communities from the...</td>\n",
       "      <td>Terrestrial(soil)</td>\n",
       "      <td>Soil</td>\n",
       "      <td>NaN</td>\n",
       "      <td>4</td>\n",
       "    </tr>\n",
       "  </tbody>\n",
       "</table>\n",
       "</div>"
      ],
      "text/plain": [
       "  Domain Status                                         Study Name  \\\n",
       "0      *      P  Human microbial communities from the National ...   \n",
       "1      *      P  Microbial and viral regulation of community ca...   \n",
       "2      *      P  Permafrost soil microbial communities from the...   \n",
       "3      *      P  Amended soil microbial communities from New Yo...   \n",
       "4      *      P  Permafrost soil microbial communities from the...   \n",
       "\n",
       "    Taxon OID                                        Genome Name  \\\n",
       "0  7000000203  Human tongue dorsum microbial communities from...   \n",
       "1  3300005508  Marine microbial and viral communities from ox...   \n",
       "2  3300005994  Permafrost soil microbial communities from the...   \n",
       "3  3300012988  Soil microbial communities amended with fresh ...   \n",
       "4  3300006864  Permafrost soil microbial communities from the...   \n",
       "\n",
       "             Habitat Type Habitat (from GOLD) Depth  Viral Contig Count  \n",
       "0  Host-associated(human)               Human   NaN                 115  \n",
       "1                  Marine              Marine   NaN                  86  \n",
       "2       Terrestrial(soil)                Soil     0                   2  \n",
       "3       Terrestrial(soil)                soil     0                 113  \n",
       "4       Terrestrial(soil)                Soil   NaN                   4  "
      ]
     },
     "execution_count": 18,
     "metadata": {},
     "output_type": "execute_result"
    }
   ],
   "source": [
    "df.head()"
   ]
  },
  {
   "cell_type": "code",
   "execution_count": 19,
   "metadata": {},
   "outputs": [
    {
     "data": {
      "text/plain": [
       "4687"
      ]
     },
     "execution_count": 19,
     "metadata": {},
     "output_type": "execute_result"
    }
   ],
   "source": [
    "len(df)"
   ]
  },
  {
   "cell_type": "code",
   "execution_count": 20,
   "metadata": {
    "collapsed": true
   },
   "outputs": [],
   "source": [
    "df2 = df[df['Taxon OID'].isin(uniq_JGI_ids)]"
   ]
  },
  {
   "cell_type": "code",
   "execution_count": 21,
   "metadata": {},
   "outputs": [
    {
     "data": {
      "text/plain": [
       "1633"
      ]
     },
     "execution_count": 21,
     "metadata": {},
     "output_type": "execute_result"
    }
   ],
   "source": [
    "len(df2)"
   ]
  },
  {
   "cell_type": "code",
   "execution_count": 22,
   "metadata": {
    "collapsed": true
   },
   "outputs": [],
   "source": [
    "## Find those not in list\n",
    "overlap = list(df2['Taxon OID'])\n",
    "uniq_JGI_ids = list(map(int, uniq_JGI_ids))\n",
    "missing_numbers = list(set(uniq_JGI_ids) - set(overlap))"
   ]
  },
  {
   "cell_type": "code",
   "execution_count": 23,
   "metadata": {},
   "outputs": [
    {
     "data": {
      "text/plain": [
       "127"
      ]
     },
     "execution_count": 23,
     "metadata": {},
     "output_type": "execute_result"
    }
   ],
   "source": [
    "len(missing_numbers)"
   ]
  },
  {
   "cell_type": "markdown",
   "metadata": {},
   "source": []
  },
  {
   "cell_type": "code",
   "execution_count": 24,
   "metadata": {},
   "outputs": [
    {
     "data": {
      "text/plain": [
       "1633"
      ]
     },
     "execution_count": 24,
     "metadata": {},
     "output_type": "execute_result"
    }
   ],
   "source": [
    "overlap = list(map(str, overlap))\n",
    "filtered_dict = dict((k, my_dict[k]) for k in overlap if k in my_dict)\n",
    "len(filtered_dict)"
   ]
  },
  {
   "cell_type": "code",
   "execution_count": 25,
   "metadata": {},
   "outputs": [
    {
     "data": {
      "text/plain": [
       "166616"
      ]
     },
     "execution_count": 25,
     "metadata": {},
     "output_type": "execute_result"
    }
   ],
   "source": [
    "y = {k:sum(1 for x in v if x) for k,v in filtered_dict.items()}\n",
    "sum(y.values())"
   ]
  },
  {
   "cell_type": "code",
   "execution_count": 26,
   "metadata": {
    "collapsed": true
   },
   "outputs": [],
   "source": []
  },
  {
   "cell_type": "markdown",
   "metadata": {},
   "source": []
  },
  {
   "cell_type": "code",
   "execution_count": 47,
   "metadata": {},
   "outputs": [
    {
     "data": {
      "text/html": [
       "<div>\n",
       "<style>\n",
       "    .dataframe thead tr:only-child th {\n",
       "        text-align: right;\n",
       "    }\n",
       "\n",
       "    .dataframe thead th {\n",
       "        text-align: left;\n",
       "    }\n",
       "\n",
       "    .dataframe tbody tr th {\n",
       "        vertical-align: top;\n",
       "    }\n",
       "</style>\n",
       "<table border=\"1\" class=\"dataframe\">\n",
       "  <thead>\n",
       "    <tr style=\"text-align: right;\">\n",
       "      <th></th>\n",
       "      <th>Scaffold_Id</th>\n",
       "      <th>VF_Hits</th>\n",
       "    </tr>\n",
       "  </thead>\n",
       "  <tbody>\n",
       "    <tr>\n",
       "      <th>12541</th>\n",
       "      <td>SRS018971_WUGC_scaffold_10797_26</td>\n",
       "      <td>10</td>\n",
       "    </tr>\n",
       "    <tr>\n",
       "      <th>29495</th>\n",
       "      <td>SRS018975_WUGC_scaffold_47375_19</td>\n",
       "      <td>10</td>\n",
       "    </tr>\n",
       "    <tr>\n",
       "      <th>9931</th>\n",
       "      <td>SRS015899_WUGC_scaffold_35320_19</td>\n",
       "      <td>10</td>\n",
       "    </tr>\n",
       "    <tr>\n",
       "      <th>116551</th>\n",
       "      <td>SRS011306_Baylor_scaffold_85964_4</td>\n",
       "      <td>9</td>\n",
       "    </tr>\n",
       "    <tr>\n",
       "      <th>106453</th>\n",
       "      <td>SRS013502_Baylor_scaffold_30700_31</td>\n",
       "      <td>9</td>\n",
       "    </tr>\n",
       "  </tbody>\n",
       "</table>\n",
       "</div>"
      ],
      "text/plain": [
       "                               Scaffold_Id  VF_Hits\n",
       "12541     SRS018971_WUGC_scaffold_10797_26       10\n",
       "29495     SRS018975_WUGC_scaffold_47375_19       10\n",
       "9931      SRS015899_WUGC_scaffold_35320_19       10\n",
       "116551   SRS011306_Baylor_scaffold_85964_4        9\n",
       "106453  SRS013502_Baylor_scaffold_30700_31        9"
      ]
     },
     "execution_count": 47,
     "metadata": {},
     "output_type": "execute_result"
    }
   ],
   "source": [
    "test = [k for i,j in filtered_dict.items() for k in j if k]\n",
    "c = Counter(test)\n",
    "\n",
    "##\n",
    "dftest = pd.DataFrame.from_dict(c, orient='index').reset_index()\n",
    "dftest.columns = ['Scaffold_Id', \"VF_Hits\"]\n",
    "\n",
    "dftest = dftest.sort_values(by = 'VF_Hits' , ascending = False)\n",
    "dftest.head()"
   ]
  },
  {
   "cell_type": "code",
   "execution_count": 53,
   "metadata": {},
   "outputs": [
    {
     "data": {
      "text/plain": [
       "130150"
      ]
     },
     "execution_count": 53,
     "metadata": {},
     "output_type": "execute_result"
    }
   ],
   "source": [
    "df_hits = dftest[dftest['VF_Hits'] >= 1]\n",
    "len(df_hits)"
   ]
  },
  {
   "cell_type": "code",
   "execution_count": null,
   "metadata": {
    "collapsed": true
   },
   "outputs": [],
   "source": []
  },
  {
   "cell_type": "code",
   "execution_count": null,
   "metadata": {
    "collapsed": true
   },
   "outputs": [],
   "source": []
  },
  {
   "cell_type": "code",
   "execution_count": 33,
   "metadata": {},
   "outputs": [
    {
     "data": {
      "text/html": [
       "<div>\n",
       "<style>\n",
       "    .dataframe thead tr:only-child th {\n",
       "        text-align: right;\n",
       "    }\n",
       "\n",
       "    .dataframe thead th {\n",
       "        text-align: left;\n",
       "    }\n",
       "\n",
       "    .dataframe tbody tr th {\n",
       "        vertical-align: top;\n",
       "    }\n",
       "</style>\n",
       "<table border=\"1\" class=\"dataframe\">\n",
       "  <thead>\n",
       "    <tr style=\"text-align: right;\">\n",
       "      <th></th>\n",
       "      <th>Scaffold</th>\n",
       "      <th>Study_Id</th>\n",
       "    </tr>\n",
       "  </thead>\n",
       "  <tbody>\n",
       "    <tr>\n",
       "      <th>0</th>\n",
       "      <td>WSSedL1C_c10000174_2</td>\n",
       "      <td>3300000091</td>\n",
       "    </tr>\n",
       "    <tr>\n",
       "      <th>1</th>\n",
       "      <td>WSSedL1CaDRAFT_10000174_2</td>\n",
       "      <td>3300000318</td>\n",
       "    </tr>\n",
       "    <tr>\n",
       "      <th>2</th>\n",
       "      <td>JGI24740J21852_10000380_1</td>\n",
       "      <td>3300001979</td>\n",
       "    </tr>\n",
       "    <tr>\n",
       "      <th>3</th>\n",
       "      <td>rumenHiSeq_NODE_726704_len_57544_cov_1_739330_44</td>\n",
       "      <td>2061766007</td>\n",
       "    </tr>\n",
       "    <tr>\n",
       "      <th>4</th>\n",
       "      <td>SRS049318_LANL_scaffold_15428_13</td>\n",
       "      <td>7000000584</td>\n",
       "    </tr>\n",
       "  </tbody>\n",
       "</table>\n",
       "</div>"
      ],
      "text/plain": [
       "                                           Scaffold    Study_Id\n",
       "0                              WSSedL1C_c10000174_2  3300000091\n",
       "1                         WSSedL1CaDRAFT_10000174_2  3300000318\n",
       "2                         JGI24740J21852_10000380_1  3300001979\n",
       "3  rumenHiSeq_NODE_726704_len_57544_cov_1_739330_44  2061766007\n",
       "4                  SRS049318_LANL_scaffold_15428_13  7000000584"
      ]
     },
     "execution_count": 33,
     "metadata": {},
     "output_type": "execute_result"
    }
   ],
   "source": [
    "df_fl = df_full[df_full['Study_Id'].isin(overlap)]\n",
    "df_fl.head()"
   ]
  },
  {
   "cell_type": "code",
   "execution_count": null,
   "metadata": {
    "collapsed": true
   },
   "outputs": [],
   "source": []
  }
 ],
 "metadata": {
  "kernelspec": {
   "display_name": "Python 2",
   "language": "python",
   "name": "python2"
  },
  "language_info": {
   "codemirror_mode": {
    "name": "ipython",
    "version": 2
   },
   "file_extension": ".py",
   "mimetype": "text/x-python",
   "name": "python",
   "nbconvert_exporter": "python",
   "pygments_lexer": "ipython2",
   "version": "2.7.14"
  },
  "toc": {
   "base_numbering": 1,
   "nav_menu": {},
   "number_sections": true,
   "sideBar": true,
   "skip_h1_title": false,
   "title_cell": "Table of Contents",
   "title_sidebar": "Contents",
   "toc_cell": false,
   "toc_position": {},
   "toc_section_display": true,
   "toc_window_display": false
  }
 },
 "nbformat": 4,
 "nbformat_minor": 2
}
