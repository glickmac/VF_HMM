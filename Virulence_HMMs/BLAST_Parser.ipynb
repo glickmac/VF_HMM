{
 "cells": [
  {
   "cell_type": "code",
   "execution_count": 1,
   "metadata": {
    "collapsed": true
   },
   "outputs": [],
   "source": [
    "import pandas as pd\n",
    "\n",
    "df3 = pd.read_table('blast_uniprot_results.txt', header=None)\n",
    "# the default outfmt 6 columns\n",
    "default_outfmt6_cols = 'qseqid sseqid pident length mismatch gapopen qstart qend sstart send evalue bitscore'.strip().split(' ')\n",
    "df3.columns = default_outfmt6_cols"
   ]
  },
  {
   "cell_type": "code",
   "execution_count": 3,
   "metadata": {},
   "outputs": [
    {
     "data": {
      "text/plain": [
       "1484868"
      ]
     },
     "execution_count": 3,
     "metadata": {},
     "output_type": "execute_result"
    }
   ],
   "source": [
    "len(df3)"
   ]
  },
  {
   "cell_type": "code",
   "execution_count": 20,
   "metadata": {},
   "outputs": [
    {
     "name": "stderr",
     "output_type": "stream",
     "text": [
      "/Users/stronglab2/anaconda2/lib/python2.7/site-packages/ipykernel_launcher.py:8: SettingWithCopyWarning: \n",
      "A value is trying to be set on a copy of a slice from a DataFrame\n",
      "\n",
      "See the caveats in the documentation: http://pandas.pydata.org/pandas-docs/stable/indexing.html#indexing-view-versus-copy\n",
      "  \n"
     ]
    }
   ],
   "source": [
    "# filter for evalue <= 0.001\n",
    "df_filtered = df3[df3['evalue'] <= 10e-5]\n",
    "\n",
    "# filter for evalue <= 0.001\n",
    "df_filtered = df3[df3['pident'] >= 75]\n",
    "\n",
    "# sort by bitscore\n",
    "df_filtered.sort_values(by='bitscore', ascending=False, inplace=True)"
   ]
  },
  {
   "cell_type": "code",
   "execution_count": 21,
   "metadata": {},
   "outputs": [
    {
     "data": {
      "text/plain": [
       "5022"
      ]
     },
     "execution_count": 21,
     "metadata": {},
     "output_type": "execute_result"
    }
   ],
   "source": [
    "len(df_filtered)\n",
    "#df_filtered.to_csv(\"Filtered_Uniprot_BLAST_Table.txt\", sep='\\t')"
   ]
  },
  {
   "cell_type": "code",
   "execution_count": 22,
   "metadata": {},
   "outputs": [
    {
     "data": {
      "text/html": [
       "<div>\n",
       "<style>\n",
       "    .dataframe thead tr:only-child th {\n",
       "        text-align: right;\n",
       "    }\n",
       "\n",
       "    .dataframe thead th {\n",
       "        text-align: left;\n",
       "    }\n",
       "\n",
       "    .dataframe tbody tr th {\n",
       "        vertical-align: top;\n",
       "    }\n",
       "</style>\n",
       "<table border=\"1\" class=\"dataframe\">\n",
       "  <thead>\n",
       "    <tr style=\"text-align: right;\">\n",
       "      <th></th>\n",
       "      <th>qseqid</th>\n",
       "      <th>sseqid</th>\n",
       "      <th>pident</th>\n",
       "      <th>length</th>\n",
       "      <th>mismatch</th>\n",
       "      <th>gapopen</th>\n",
       "      <th>qstart</th>\n",
       "      <th>qend</th>\n",
       "      <th>sstart</th>\n",
       "      <th>send</th>\n",
       "      <th>evalue</th>\n",
       "      <th>bitscore</th>\n",
       "    </tr>\n",
       "  </thead>\n",
       "  <tbody>\n",
       "    <tr>\n",
       "      <th>710</th>\n",
       "      <td>YP_008318505.1</td>\n",
       "      <td>VFDB|VFG000671</td>\n",
       "      <td>99.177</td>\n",
       "      <td>486</td>\n",
       "      <td>4</td>\n",
       "      <td>0</td>\n",
       "      <td>1</td>\n",
       "      <td>486</td>\n",
       "      <td>1</td>\n",
       "      <td>486</td>\n",
       "      <td>0.0</td>\n",
       "      <td>961.0</td>\n",
       "    </tr>\n",
       "    <tr>\n",
       "      <th>636630</th>\n",
       "      <td>YP_004286239.1</td>\n",
       "      <td>VFDB|VFG000109</td>\n",
       "      <td>100.000</td>\n",
       "      <td>399</td>\n",
       "      <td>0</td>\n",
       "      <td>0</td>\n",
       "      <td>1</td>\n",
       "      <td>399</td>\n",
       "      <td>1</td>\n",
       "      <td>399</td>\n",
       "      <td>0.0</td>\n",
       "      <td>831.0</td>\n",
       "    </tr>\n",
       "    <tr>\n",
       "      <th>1011892</th>\n",
       "      <td>YP_001449320.1</td>\n",
       "      <td>VFDB|VFG002121</td>\n",
       "      <td>85.033</td>\n",
       "      <td>461</td>\n",
       "      <td>47</td>\n",
       "      <td>3</td>\n",
       "      <td>1</td>\n",
       "      <td>459</td>\n",
       "      <td>1</td>\n",
       "      <td>441</td>\n",
       "      <td>0.0</td>\n",
       "      <td>758.0</td>\n",
       "    </tr>\n",
       "    <tr>\n",
       "      <th>1028668</th>\n",
       "      <td>NP_795593.1</td>\n",
       "      <td>VFDB|VFG000965</td>\n",
       "      <td>99.703</td>\n",
       "      <td>337</td>\n",
       "      <td>1</td>\n",
       "      <td>0</td>\n",
       "      <td>1</td>\n",
       "      <td>337</td>\n",
       "      <td>1</td>\n",
       "      <td>337</td>\n",
       "      <td>0.0</td>\n",
       "      <td>683.0</td>\n",
       "    </tr>\n",
       "    <tr>\n",
       "      <th>420709</th>\n",
       "      <td>NP_438157.1</td>\n",
       "      <td>VFDB|VFG000965</td>\n",
       "      <td>99.703</td>\n",
       "      <td>337</td>\n",
       "      <td>1</td>\n",
       "      <td>0</td>\n",
       "      <td>1</td>\n",
       "      <td>337</td>\n",
       "      <td>1</td>\n",
       "      <td>337</td>\n",
       "      <td>0.0</td>\n",
       "      <td>683.0</td>\n",
       "    </tr>\n",
       "  </tbody>\n",
       "</table>\n",
       "</div>"
      ],
      "text/plain": [
       "                 qseqid          sseqid   pident  length  mismatch  gapopen  \\\n",
       "710      YP_008318505.1  VFDB|VFG000671   99.177     486         4        0   \n",
       "636630   YP_004286239.1  VFDB|VFG000109  100.000     399         0        0   \n",
       "1011892  YP_001449320.1  VFDB|VFG002121   85.033     461        47        3   \n",
       "1028668     NP_795593.1  VFDB|VFG000965   99.703     337         1        0   \n",
       "420709      NP_438157.1  VFDB|VFG000965   99.703     337         1        0   \n",
       "\n",
       "         qstart  qend  sstart  send  evalue  bitscore  \n",
       "710           1   486       1   486     0.0     961.0  \n",
       "636630        1   399       1   399     0.0     831.0  \n",
       "1011892       1   459       1   441     0.0     758.0  \n",
       "1028668       1   337       1   337     0.0     683.0  \n",
       "420709        1   337       1   337     0.0     683.0  "
      ]
     },
     "execution_count": 22,
     "metadata": {},
     "output_type": "execute_result"
    }
   ],
   "source": [
    "df_filtered.head()"
   ]
  },
  {
   "cell_type": "code",
   "execution_count": 23,
   "metadata": {},
   "outputs": [
    {
     "data": {
      "text/plain": [
       "3993"
      ]
     },
     "execution_count": 23,
     "metadata": {},
     "output_type": "execute_result"
    }
   ],
   "source": [
    "hits = df_filtered['qseqid']\n",
    "uniq_hits = list(set(hits))\n",
    "len(uniq_hits)"
   ]
  },
  {
   "cell_type": "markdown",
   "metadata": {},
   "source": [
    "### Load in Uniprot Protein Sequence IDs"
   ]
  },
  {
   "cell_type": "code",
   "execution_count": 9,
   "metadata": {
    "collapsed": true
   },
   "outputs": [],
   "source": [
    "from Bio import SeqIO\n",
    "ids = []\n",
    "names = []\n",
    "for seq_record in SeqIO.parse(\"viral.1.protein.faa\", \"fasta\"):\n",
    "    ids.append(seq_record.id)\n",
    "    names.append(seq_record.description)\n",
    "    \n",
    "viral_names = [x.split('[', 1)[1].split(']')[0] for x in names]"
   ]
  },
  {
   "cell_type": "code",
   "execution_count": 10,
   "metadata": {
    "collapsed": true
   },
   "outputs": [],
   "source": [
    "df = pd.DataFrame({'IDs': ids, \n",
    "                   'Viral Names': viral_names, \n",
    "                   'CompleteRecord': names}, columns=['IDs','Viral Names', 'Complete Record'])"
   ]
  },
  {
   "cell_type": "code",
   "execution_count": 11,
   "metadata": {},
   "outputs": [
    {
     "data": {
      "text/plain": [
       "155606"
      ]
     },
     "execution_count": 11,
     "metadata": {},
     "output_type": "execute_result"
    }
   ],
   "source": [
    "y = df['Viral Names'].str.contains('phage')\n",
    "df2=df[y]\n",
    "len(df2)"
   ]
  },
  {
   "cell_type": "code",
   "execution_count": null,
   "metadata": {
    "collapsed": true
   },
   "outputs": [],
   "source": []
  },
  {
   "cell_type": "code",
   "execution_count": 12,
   "metadata": {},
   "outputs": [
    {
     "name": "stderr",
     "output_type": "stream",
     "text": [
      "/Users/stronglab2/anaconda2/lib/python2.7/site-packages/ipykernel_launcher.py:1: SettingWithCopyWarning: \n",
      "A value is trying to be set on a copy of a slice from a DataFrame.\n",
      "Try using .loc[row_indexer,col_indexer] = value instead\n",
      "\n",
      "See the caveats in the documentation: http://pandas.pydata.org/pandas-docs/stable/indexing.html#indexing-view-versus-copy\n",
      "  \"\"\"Entry point for launching an IPython kernel.\n"
     ]
    }
   ],
   "source": [
    "df2['Virulence'] = [1 if x in uniq_hits else 0 for x in df2['IDs']]"
   ]
  },
  {
   "cell_type": "code",
   "execution_count": 13,
   "metadata": {
    "collapsed": true
   },
   "outputs": [],
   "source": [
    "## Group by\n",
    "test = df2.groupby('Viral Names').sum()"
   ]
  },
  {
   "cell_type": "code",
   "execution_count": 14,
   "metadata": {
    "collapsed": true
   },
   "outputs": [],
   "source": [
    "## Group by Bacterial Genus\n",
    "genus_name = test.index\n",
    "demo2 = [x.split(' ',1)[0] for x in genus_name]"
   ]
  },
  {
   "cell_type": "code",
   "execution_count": 15,
   "metadata": {
    "collapsed": true
   },
   "outputs": [],
   "source": [
    "test['Genus'] = demo2"
   ]
  },
  {
   "cell_type": "code",
   "execution_count": 16,
   "metadata": {},
   "outputs": [
    {
     "data": {
      "text/html": [
       "<div>\n",
       "<style>\n",
       "    .dataframe thead tr:only-child th {\n",
       "        text-align: right;\n",
       "    }\n",
       "\n",
       "    .dataframe thead th {\n",
       "        text-align: left;\n",
       "    }\n",
       "\n",
       "    .dataframe tbody tr th {\n",
       "        vertical-align: top;\n",
       "    }\n",
       "</style>\n",
       "<table border=\"1\" class=\"dataframe\">\n",
       "  <thead>\n",
       "    <tr style=\"text-align: right;\">\n",
       "      <th></th>\n",
       "      <th>Avg Number of Virulent Matches</th>\n",
       "    </tr>\n",
       "    <tr>\n",
       "      <th>Genus</th>\n",
       "      <th></th>\n",
       "    </tr>\n",
       "  </thead>\n",
       "  <tbody>\n",
       "    <tr>\n",
       "      <th>Halorubrum</th>\n",
       "      <td>8.000000</td>\n",
       "    </tr>\n",
       "    <tr>\n",
       "      <th>Nitrincola</th>\n",
       "      <td>7.000000</td>\n",
       "    </tr>\n",
       "    <tr>\n",
       "      <th>Prochlorococcus</th>\n",
       "      <td>6.333333</td>\n",
       "    </tr>\n",
       "    <tr>\n",
       "      <th>Sinorhizobium</th>\n",
       "      <td>5.800000</td>\n",
       "    </tr>\n",
       "    <tr>\n",
       "      <th>Aeromonas</th>\n",
       "      <td>4.000000</td>\n",
       "    </tr>\n",
       "  </tbody>\n",
       "</table>\n",
       "</div>"
      ],
      "text/plain": [
       "                 Avg Number of Virulent Matches\n",
       "Genus                                          \n",
       "Halorubrum                             8.000000\n",
       "Nitrincola                             7.000000\n",
       "Prochlorococcus                        6.333333\n",
       "Sinorhizobium                          5.800000\n",
       "Aeromonas                              4.000000"
      ]
     },
     "execution_count": 16,
     "metadata": {},
     "output_type": "execute_result"
    }
   ],
   "source": [
    "Virulence_Avg = test.groupby('Genus').mean()\n",
    "Virulence_Avg = Virulence_Avg.sort_values(by=['Virulence'], ascending=False)\n",
    "Virulence_Avg.columns = ['Avg Number of Virulent Matches']\n",
    "Virulence_Avg.head()"
   ]
  },
  {
   "cell_type": "code",
   "execution_count": 17,
   "metadata": {},
   "outputs": [
    {
     "data": {
      "text/html": [
       "<div>\n",
       "<style>\n",
       "    .dataframe thead tr:only-child th {\n",
       "        text-align: right;\n",
       "    }\n",
       "\n",
       "    .dataframe thead th {\n",
       "        text-align: left;\n",
       "    }\n",
       "\n",
       "    .dataframe tbody tr th {\n",
       "        vertical-align: top;\n",
       "    }\n",
       "</style>\n",
       "<table border=\"1\" class=\"dataframe\">\n",
       "  <thead>\n",
       "    <tr style=\"text-align: right;\">\n",
       "      <th></th>\n",
       "      <th>Number of Phages in Genus</th>\n",
       "    </tr>\n",
       "    <tr>\n",
       "      <th>Genus</th>\n",
       "      <th></th>\n",
       "    </tr>\n",
       "  </thead>\n",
       "  <tbody>\n",
       "    <tr>\n",
       "      <th>Mycobacterium</th>\n",
       "      <td>249</td>\n",
       "    </tr>\n",
       "    <tr>\n",
       "      <th>Pseudomonas</th>\n",
       "      <td>112</td>\n",
       "    </tr>\n",
       "    <tr>\n",
       "      <th>Escherichia</th>\n",
       "      <td>92</td>\n",
       "    </tr>\n",
       "    <tr>\n",
       "      <th>Bacillus</th>\n",
       "      <td>82</td>\n",
       "    </tr>\n",
       "    <tr>\n",
       "      <th>Salmonella</th>\n",
       "      <td>67</td>\n",
       "    </tr>\n",
       "  </tbody>\n",
       "</table>\n",
       "</div>"
      ],
      "text/plain": [
       "               Number of Phages in Genus\n",
       "Genus                                   \n",
       "Mycobacterium                        249\n",
       "Pseudomonas                          112\n",
       "Escherichia                           92\n",
       "Bacillus                              82\n",
       "Salmonella                            67"
      ]
     },
     "execution_count": 17,
     "metadata": {},
     "output_type": "execute_result"
    }
   ],
   "source": [
    "Number_of_phages = test.groupby('Genus').count()\n",
    "Number_of_phages = Number_of_phages.sort_values(by=['Virulence'], ascending=False)\n",
    "Number_of_phages.columns = ['Number of Phages in Genus']\n",
    "Number_of_phages.head()"
   ]
  },
  {
   "cell_type": "code",
   "execution_count": 18,
   "metadata": {
    "collapsed": true
   },
   "outputs": [],
   "source": [
    "### Number of Viruses over 30 in Genus\n",
    "x = Number_of_phages[Number_of_phages['Number of Phages in Genus']>=30]\n",
    "abundant_phages = x.index"
   ]
  },
  {
   "cell_type": "code",
   "execution_count": 19,
   "metadata": {},
   "outputs": [
    {
     "data": {
      "text/html": [
       "<div>\n",
       "<style>\n",
       "    .dataframe thead tr:only-child th {\n",
       "        text-align: right;\n",
       "    }\n",
       "\n",
       "    .dataframe thead th {\n",
       "        text-align: left;\n",
       "    }\n",
       "\n",
       "    .dataframe tbody tr th {\n",
       "        vertical-align: top;\n",
       "    }\n",
       "</style>\n",
       "<table border=\"1\" class=\"dataframe\">\n",
       "  <thead>\n",
       "    <tr style=\"text-align: right;\">\n",
       "      <th></th>\n",
       "      <th>Avg Number of Virulent Matches</th>\n",
       "    </tr>\n",
       "    <tr>\n",
       "      <th>Genus</th>\n",
       "      <th></th>\n",
       "    </tr>\n",
       "  </thead>\n",
       "  <tbody>\n",
       "    <tr>\n",
       "      <th>Bacillus</th>\n",
       "      <td>2.987805</td>\n",
       "    </tr>\n",
       "    <tr>\n",
       "      <th>Mycobacterium</th>\n",
       "      <td>2.887550</td>\n",
       "    </tr>\n",
       "    <tr>\n",
       "      <th>Escherichia</th>\n",
       "      <td>2.760870</td>\n",
       "    </tr>\n",
       "    <tr>\n",
       "      <th>Salmonella</th>\n",
       "      <td>2.223881</td>\n",
       "    </tr>\n",
       "    <tr>\n",
       "      <th>Vibrio</th>\n",
       "      <td>1.939394</td>\n",
       "    </tr>\n",
       "    <tr>\n",
       "      <th>Enterobacteria</th>\n",
       "      <td>1.881356</td>\n",
       "    </tr>\n",
       "    <tr>\n",
       "      <th>Pseudomonas</th>\n",
       "      <td>1.866071</td>\n",
       "    </tr>\n",
       "    <tr>\n",
       "      <th>Gordonia</th>\n",
       "      <td>1.861538</td>\n",
       "    </tr>\n",
       "    <tr>\n",
       "      <th>Lactococcus</th>\n",
       "      <td>1.685714</td>\n",
       "    </tr>\n",
       "    <tr>\n",
       "      <th>Staphylococcus</th>\n",
       "      <td>1.620690</td>\n",
       "    </tr>\n",
       "    <tr>\n",
       "      <th>Streptococcus</th>\n",
       "      <td>1.139535</td>\n",
       "    </tr>\n",
       "    <tr>\n",
       "      <th>Lactobacillus</th>\n",
       "      <td>0.969697</td>\n",
       "    </tr>\n",
       "    <tr>\n",
       "      <th>Propionibacterium</th>\n",
       "      <td>0.536585</td>\n",
       "    </tr>\n",
       "  </tbody>\n",
       "</table>\n",
       "</div>"
      ],
      "text/plain": [
       "                   Avg Number of Virulent Matches\n",
       "Genus                                            \n",
       "Bacillus                                 2.987805\n",
       "Mycobacterium                            2.887550\n",
       "Escherichia                              2.760870\n",
       "Salmonella                               2.223881\n",
       "Vibrio                                   1.939394\n",
       "Enterobacteria                           1.881356\n",
       "Pseudomonas                              1.866071\n",
       "Gordonia                                 1.861538\n",
       "Lactococcus                              1.685714\n",
       "Staphylococcus                           1.620690\n",
       "Streptococcus                            1.139535\n",
       "Lactobacillus                            0.969697\n",
       "Propionibacterium                        0.536585"
      ]
     },
     "execution_count": 19,
     "metadata": {},
     "output_type": "execute_result"
    }
   ],
   "source": [
    "Abundant_df = Virulence_Avg[(Virulence_Avg.index).isin(abundant_phages)]\n",
    "Abundant_df"
   ]
  },
  {
   "cell_type": "code",
   "execution_count": null,
   "metadata": {
    "collapsed": true
   },
   "outputs": [],
   "source": []
  },
  {
   "cell_type": "code",
   "execution_count": null,
   "metadata": {
    "collapsed": true
   },
   "outputs": [],
   "source": []
  },
  {
   "cell_type": "code",
   "execution_count": null,
   "metadata": {
    "collapsed": true
   },
   "outputs": [],
   "source": []
  },
  {
   "cell_type": "code",
   "execution_count": null,
   "metadata": {
    "collapsed": true
   },
   "outputs": [],
   "source": []
  },
  {
   "cell_type": "code",
   "execution_count": null,
   "metadata": {
    "collapsed": true
   },
   "outputs": [],
   "source": []
  }
 ],
 "metadata": {
  "kernelspec": {
   "display_name": "Python 2",
   "language": "python",
   "name": "python2"
  },
  "language_info": {
   "codemirror_mode": {
    "name": "ipython",
    "version": 2
   },
   "file_extension": ".py",
   "mimetype": "text/x-python",
   "name": "python",
   "nbconvert_exporter": "python",
   "pygments_lexer": "ipython2",
   "version": "2.7.14"
  }
 },
 "nbformat": 4,
 "nbformat_minor": 2
}
