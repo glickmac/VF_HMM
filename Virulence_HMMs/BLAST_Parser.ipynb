{
 "cells": [
  {
   "cell_type": "code",
   "execution_count": 2,
   "metadata": {},
   "outputs": [],
   "source": [
    "import pandas as pd\n",
    "\n",
    "df3 = pd.read_table('blast_uniprot_results.txt', header=None)\n",
    "# the default outfmt 6 columns\n",
    "default_outfmt6_cols = 'qseqid sseqid pident length mismatch gapopen qstart qend sstart send evalue bitscore'.strip().split(' ')\n",
    "df3.columns = default_outfmt6_cols"
   ]
  },
  {
   "cell_type": "code",
   "execution_count": 3,
   "metadata": {},
   "outputs": [
    {
     "data": {
      "text/plain": [
       "1484868"
      ]
     },
     "execution_count": 3,
     "metadata": {},
     "output_type": "execute_result"
    }
   ],
   "source": [
    "len(df3)"
   ]
  },
  {
   "cell_type": "code",
   "execution_count": 4,
   "metadata": {},
   "outputs": [
    {
     "name": "stderr",
     "output_type": "stream",
     "text": [
      "/Users/stronglab2/anaconda2/lib/python2.7/site-packages/ipykernel_launcher.py:5: SettingWithCopyWarning: \n",
      "A value is trying to be set on a copy of a slice from a DataFrame\n",
      "\n",
      "See the caveats in the documentation: http://pandas.pydata.org/pandas-docs/stable/indexing.html#indexing-view-versus-copy\n",
      "  \"\"\"\n"
     ]
    }
   ],
   "source": [
    "# filter for evalue <= 0.001\n",
    "df_filtered = df3[df3['evalue'] <= 0.05]\n",
    "\n",
    "# sort by bitscore\n",
    "df_filtered.sort_values(by='bitscore', ascending=False, inplace=True)"
   ]
  },
  {
   "cell_type": "code",
   "execution_count": null,
   "metadata": {},
   "outputs": [],
   "source": [
    "len(df_filtered)"
   ]
  },
  {
   "cell_type": "code",
   "execution_count": null,
   "metadata": {},
   "outputs": [],
   "source": [
    "df_filtered.head()"
   ]
  },
  {
   "cell_type": "code",
   "execution_count": 5,
   "metadata": {},
   "outputs": [
    {
     "data": {
      "text/plain": [
       "16694"
      ]
     },
     "execution_count": 5,
     "metadata": {},
     "output_type": "execute_result"
    }
   ],
   "source": [
    "hits = df_filtered['qseqid']\n",
    "uniq_hits = list(set(hits))\n",
    "len(uniq_hits)"
   ]
  },
  {
   "cell_type": "markdown",
   "metadata": {},
   "source": [
    "### Load in Uniprot Protein Sequence IDs"
   ]
  },
  {
   "cell_type": "code",
   "execution_count": 6,
   "metadata": {
    "collapsed": true
   },
   "outputs": [],
   "source": [
    "from Bio import SeqIO\n",
    "ids = []\n",
    "names = []\n",
    "for seq_record in SeqIO.parse(\"viral.1.protein.faa\", \"fasta\"):\n",
    "    ids.append(seq_record.id)\n",
    "    names.append(seq_record.description)\n",
    "    \n",
    "viral_names = [x.split('[', 1)[1].split(']')[0] for x in names]"
   ]
  },
  {
   "cell_type": "code",
   "execution_count": 7,
   "metadata": {
    "collapsed": true
   },
   "outputs": [],
   "source": [
    "df = pd.DataFrame({'IDs': ids, \n",
    "                   'Viral Names': viral_names, \n",
    "                   'CompleteRecord': names}, columns=['IDs','Viral Names', 'Complete Record'])"
   ]
  },
  {
   "cell_type": "code",
   "execution_count": 8,
   "metadata": {},
   "outputs": [
    {
     "data": {
      "text/plain": [
       "155606"
      ]
     },
     "execution_count": 8,
     "metadata": {},
     "output_type": "execute_result"
    }
   ],
   "source": [
    "y = df['Viral Names'].str.contains('phage')\n",
    "df2=df[y]\n",
    "len(df2)"
   ]
  },
  {
   "cell_type": "code",
   "execution_count": null,
   "metadata": {
    "collapsed": true
   },
   "outputs": [],
   "source": []
  },
  {
   "cell_type": "code",
   "execution_count": 9,
   "metadata": {},
   "outputs": [
    {
     "name": "stderr",
     "output_type": "stream",
     "text": [
      "/Users/stronglab2/anaconda2/lib/python2.7/site-packages/ipykernel_launcher.py:1: SettingWithCopyWarning: \n",
      "A value is trying to be set on a copy of a slice from a DataFrame.\n",
      "Try using .loc[row_indexer,col_indexer] = value instead\n",
      "\n",
      "See the caveats in the documentation: http://pandas.pydata.org/pandas-docs/stable/indexing.html#indexing-view-versus-copy\n",
      "  \"\"\"Entry point for launching an IPython kernel.\n"
     ]
    }
   ],
   "source": [
    "df2['Virulence'] = [1 if x in uniq_hits else 0 for x in df2['IDs']]"
   ]
  },
  {
   "cell_type": "code",
   "execution_count": 10,
   "metadata": {
    "collapsed": true
   },
   "outputs": [],
   "source": [
    "## Group by\n",
    "test = df2.groupby('Viral Names').sum()"
   ]
  },
  {
   "cell_type": "code",
   "execution_count": 11,
   "metadata": {
    "collapsed": true
   },
   "outputs": [],
   "source": [
    "## Group by Bacterial Genus\n",
    "genus_name = test.index\n",
    "demo2 = [x.split(' ',1)[0] for x in genus_name]"
   ]
  },
  {
   "cell_type": "code",
   "execution_count": 12,
   "metadata": {},
   "outputs": [],
   "source": [
    "test['Genus'] = demo2"
   ]
  },
  {
   "cell_type": "code",
   "execution_count": 13,
   "metadata": {},
   "outputs": [
    {
     "data": {
      "text/html": [
       "<div>\n",
       "<style>\n",
       "    .dataframe thead tr:only-child th {\n",
       "        text-align: right;\n",
       "    }\n",
       "\n",
       "    .dataframe thead th {\n",
       "        text-align: left;\n",
       "    }\n",
       "\n",
       "    .dataframe tbody tr th {\n",
       "        vertical-align: top;\n",
       "    }\n",
       "</style>\n",
       "<table border=\"1\" class=\"dataframe\">\n",
       "  <thead>\n",
       "    <tr style=\"text-align: right;\">\n",
       "      <th></th>\n",
       "      <th>Avg Number of Virulent Matches</th>\n",
       "    </tr>\n",
       "    <tr>\n",
       "      <th>Genus</th>\n",
       "      <th></th>\n",
       "    </tr>\n",
       "  </thead>\n",
       "  <tbody>\n",
       "    <tr>\n",
       "      <th>Aureococcus</th>\n",
       "      <td>44.000000</td>\n",
       "    </tr>\n",
       "    <tr>\n",
       "      <th>Prochlorococcus</th>\n",
       "      <td>28.000000</td>\n",
       "    </tr>\n",
       "    <tr>\n",
       "      <th>Synechococcus</th>\n",
       "      <td>18.357143</td>\n",
       "    </tr>\n",
       "    <tr>\n",
       "      <th>Campylobacter</th>\n",
       "      <td>18.000000</td>\n",
       "    </tr>\n",
       "    <tr>\n",
       "      <th>Cronobacter</th>\n",
       "      <td>17.200000</td>\n",
       "    </tr>\n",
       "  </tbody>\n",
       "</table>\n",
       "</div>"
      ],
      "text/plain": [
       "                 Avg Number of Virulent Matches\n",
       "Genus                                          \n",
       "Aureococcus                           44.000000\n",
       "Prochlorococcus                       28.000000\n",
       "Synechococcus                         18.357143\n",
       "Campylobacter                         18.000000\n",
       "Cronobacter                           17.200000"
      ]
     },
     "execution_count": 13,
     "metadata": {},
     "output_type": "execute_result"
    }
   ],
   "source": [
    "Virulence_Avg = test.groupby('Genus').mean()\n",
    "Virulence_Avg = Virulence_Avg.sort_values(by=['Virulence'], ascending=False)\n",
    "Virulence_Avg.columns = ['Avg Number of Virulent Matches']\n",
    "Virulence_Avg.head()"
   ]
  },
  {
   "cell_type": "code",
   "execution_count": 15,
   "metadata": {},
   "outputs": [
    {
     "data": {
      "text/html": [
       "<div>\n",
       "<style>\n",
       "    .dataframe thead tr:only-child th {\n",
       "        text-align: right;\n",
       "    }\n",
       "\n",
       "    .dataframe thead th {\n",
       "        text-align: left;\n",
       "    }\n",
       "\n",
       "    .dataframe tbody tr th {\n",
       "        vertical-align: top;\n",
       "    }\n",
       "</style>\n",
       "<table border=\"1\" class=\"dataframe\">\n",
       "  <thead>\n",
       "    <tr style=\"text-align: right;\">\n",
       "      <th></th>\n",
       "      <th>Number of Phages in Genus</th>\n",
       "    </tr>\n",
       "    <tr>\n",
       "      <th>Genus</th>\n",
       "      <th></th>\n",
       "    </tr>\n",
       "  </thead>\n",
       "  <tbody>\n",
       "    <tr>\n",
       "      <th>Mycobacterium</th>\n",
       "      <td>249</td>\n",
       "    </tr>\n",
       "    <tr>\n",
       "      <th>Pseudomonas</th>\n",
       "      <td>112</td>\n",
       "    </tr>\n",
       "    <tr>\n",
       "      <th>Escherichia</th>\n",
       "      <td>92</td>\n",
       "    </tr>\n",
       "    <tr>\n",
       "      <th>Bacillus</th>\n",
       "      <td>82</td>\n",
       "    </tr>\n",
       "    <tr>\n",
       "      <th>Salmonella</th>\n",
       "      <td>67</td>\n",
       "    </tr>\n",
       "  </tbody>\n",
       "</table>\n",
       "</div>"
      ],
      "text/plain": [
       "               Number of Phages in Genus\n",
       "Genus                                   \n",
       "Mycobacterium                        249\n",
       "Pseudomonas                          112\n",
       "Escherichia                           92\n",
       "Bacillus                              82\n",
       "Salmonella                            67"
      ]
     },
     "execution_count": 15,
     "metadata": {},
     "output_type": "execute_result"
    }
   ],
   "source": [
    "Number_of_phages = test.groupby('Genus').count()\n",
    "Number_of_phages = Number_of_phages.sort_values(by=['Virulence'], ascending=False)\n",
    "Number_of_phages.columns = ['Number of Phages in Genus']\n",
    "Number_of_phages.head()"
   ]
  },
  {
   "cell_type": "code",
   "execution_count": 20,
   "metadata": {},
   "outputs": [],
   "source": [
    "### Number of Viruses over 30 in Genus\n",
    "x = Number_of_phages[Number_of_phages['Number of Phages in Genus']>=30]\n",
    "abundant_phages = x.index"
   ]
  },
  {
   "cell_type": "code",
   "execution_count": 21,
   "metadata": {},
   "outputs": [
    {
     "data": {
      "text/html": [
       "<div>\n",
       "<style>\n",
       "    .dataframe thead tr:only-child th {\n",
       "        text-align: right;\n",
       "    }\n",
       "\n",
       "    .dataframe thead th {\n",
       "        text-align: left;\n",
       "    }\n",
       "\n",
       "    .dataframe tbody tr th {\n",
       "        vertical-align: top;\n",
       "    }\n",
       "</style>\n",
       "<table border=\"1\" class=\"dataframe\">\n",
       "  <thead>\n",
       "    <tr style=\"text-align: right;\">\n",
       "      <th></th>\n",
       "      <th>Avg Number of Virulent Matches</th>\n",
       "    </tr>\n",
       "    <tr>\n",
       "      <th>Genus</th>\n",
       "      <th></th>\n",
       "    </tr>\n",
       "  </thead>\n",
       "  <tbody>\n",
       "    <tr>\n",
       "      <th>Bacillus</th>\n",
       "      <td>16.304878</td>\n",
       "    </tr>\n",
       "    <tr>\n",
       "      <th>Escherichia</th>\n",
       "      <td>11.054348</td>\n",
       "    </tr>\n",
       "    <tr>\n",
       "      <th>Staphylococcus</th>\n",
       "      <td>8.724138</td>\n",
       "    </tr>\n",
       "    <tr>\n",
       "      <th>Salmonella</th>\n",
       "      <td>8.417910</td>\n",
       "    </tr>\n",
       "    <tr>\n",
       "      <th>Mycobacterium</th>\n",
       "      <td>8.048193</td>\n",
       "    </tr>\n",
       "    <tr>\n",
       "      <th>Vibrio</th>\n",
       "      <td>7.818182</td>\n",
       "    </tr>\n",
       "    <tr>\n",
       "      <th>Enterobacteria</th>\n",
       "      <td>7.050847</td>\n",
       "    </tr>\n",
       "    <tr>\n",
       "      <th>Gordonia</th>\n",
       "      <td>5.938462</td>\n",
       "    </tr>\n",
       "    <tr>\n",
       "      <th>Lactobacillus</th>\n",
       "      <td>5.848485</td>\n",
       "    </tr>\n",
       "    <tr>\n",
       "      <th>Propionibacterium</th>\n",
       "      <td>5.731707</td>\n",
       "    </tr>\n",
       "    <tr>\n",
       "      <th>Pseudomonas</th>\n",
       "      <td>5.571429</td>\n",
       "    </tr>\n",
       "    <tr>\n",
       "      <th>Streptococcus</th>\n",
       "      <td>5.209302</td>\n",
       "    </tr>\n",
       "    <tr>\n",
       "      <th>Lactococcus</th>\n",
       "      <td>5.142857</td>\n",
       "    </tr>\n",
       "  </tbody>\n",
       "</table>\n",
       "</div>"
      ],
      "text/plain": [
       "                   Avg Number of Virulent Matches\n",
       "Genus                                            \n",
       "Bacillus                                16.304878\n",
       "Escherichia                             11.054348\n",
       "Staphylococcus                           8.724138\n",
       "Salmonella                               8.417910\n",
       "Mycobacterium                            8.048193\n",
       "Vibrio                                   7.818182\n",
       "Enterobacteria                           7.050847\n",
       "Gordonia                                 5.938462\n",
       "Lactobacillus                            5.848485\n",
       "Propionibacterium                        5.731707\n",
       "Pseudomonas                              5.571429\n",
       "Streptococcus                            5.209302\n",
       "Lactococcus                              5.142857"
      ]
     },
     "execution_count": 21,
     "metadata": {},
     "output_type": "execute_result"
    }
   ],
   "source": [
    "Abundant_df = Virulence_Avg[(Virulence_Avg.index).isin(abundant_phages)]\n",
    "Abundant_df"
   ]
  },
  {
   "cell_type": "code",
   "execution_count": null,
   "metadata": {
    "collapsed": true
   },
   "outputs": [],
   "source": []
  },
  {
   "cell_type": "code",
   "execution_count": null,
   "metadata": {
    "collapsed": true
   },
   "outputs": [],
   "source": []
  },
  {
   "cell_type": "code",
   "execution_count": null,
   "metadata": {
    "collapsed": true
   },
   "outputs": [],
   "source": []
  },
  {
   "cell_type": "code",
   "execution_count": null,
   "metadata": {
    "collapsed": true
   },
   "outputs": [],
   "source": []
  },
  {
   "cell_type": "code",
   "execution_count": null,
   "metadata": {
    "collapsed": true
   },
   "outputs": [],
   "source": []
  }
 ],
 "metadata": {
  "kernelspec": {
   "display_name": "Python 2",
   "language": "python",
   "name": "python2"
  },
  "language_info": {
   "codemirror_mode": {
    "name": "ipython",
    "version": 2
   },
   "file_extension": ".py",
   "mimetype": "text/x-python",
   "name": "python",
   "nbconvert_exporter": "python",
   "pygments_lexer": "ipython2",
   "version": "2.7.14"
  }
 },
 "nbformat": 4,
 "nbformat_minor": 2
}
