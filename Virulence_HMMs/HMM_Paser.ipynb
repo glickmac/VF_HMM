{
 "cells": [
  {
   "cell_type": "markdown",
   "metadata": {},
   "source": [
    "## Virulance HMM Table Analysis"
   ]
  },
  {
   "cell_type": "code",
   "execution_count": 1,
   "metadata": {},
   "outputs": [
    {
     "name": "stderr",
     "output_type": "stream",
     "text": [
      "/Users/stronglab2/anaconda2/lib/python2.7/site-packages/Bio/SearchIO/__init__.py:211: BiopythonExperimentalWarning: Bio.SearchIO is an experimental submodule which may undergo significant changes prior to its future official release.\n",
      "  BiopythonExperimentalWarning)\n"
     ]
    },
    {
     "name": "stdout",
     "output_type": "stream",
     "text": [
      "19786\n"
     ]
    }
   ],
   "source": [
    "from Bio import SearchIO\n",
    "import pandas as pd\n",
    "num_hit = 0\n",
    "#now parse the output\n",
    "hit_list = []\n",
    "hit_ids = []\n",
    "with open('hmm_table.txt', 'r') as input:\n",
    "    for qresult in SearchIO.parse(input, 'hmmer3-text'):\n",
    "        query_id = qresult.id  #sequence ID from fasta\n",
    "        query_len = qresult.seq_len\n",
    "        hits = qresult.hits\n",
    "        hit_ids = hit_ids+qresult.hit_keys\n",
    "        hit_list.append(hits)\n",
    "        num_hits = len(hits)\n",
    "        num_hit = num_hit + num_hits\n",
    "print(num_hit)"
   ]
  },
  {
   "cell_type": "markdown",
   "metadata": {},
   "source": [
    "### Exploring Hit Table"
   ]
  },
  {
   "cell_type": "code",
   "execution_count": 3,
   "metadata": {},
   "outputs": [
    {
     "data": {
      "text/plain": [
       "19786"
      ]
     },
     "execution_count": 3,
     "metadata": {},
     "output_type": "execute_result"
    }
   ],
   "source": [
    "len(hit_ids)"
   ]
  },
  {
   "cell_type": "code",
   "execution_count": 2,
   "metadata": {
    "collapsed": true
   },
   "outputs": [],
   "source": [
    "#df = pd.read_table(\"hmm_table_test.txt\")"
   ]
  },
  {
   "cell_type": "code",
   "execution_count": 2,
   "metadata": {},
   "outputs": [
    {
     "data": {
      "text/plain": [
       "15389"
      ]
     },
     "execution_count": 2,
     "metadata": {},
     "output_type": "execute_result"
    }
   ],
   "source": [
    "uniq_hits = list(set(hit_ids))\n",
    "len(uniq_hits)"
   ]
  },
  {
   "cell_type": "code",
   "execution_count": null,
   "metadata": {
    "collapsed": true
   },
   "outputs": [],
   "source": []
  },
  {
   "cell_type": "markdown",
   "metadata": {},
   "source": [
    "### Count of Viral Species in Uniprot Database"
   ]
  },
  {
   "cell_type": "code",
   "execution_count": 3,
   "metadata": {
    "collapsed": true
   },
   "outputs": [],
   "source": [
    "from Bio import SeqIO\n",
    "ids = []\n",
    "names = []\n",
    "\n",
    "for seq_record in SeqIO.parse(\"viral.1.protein.faa\", \"fasta\"):\n",
    "    ids.append(seq_record.id)\n",
    "    names.append(seq_record.description)\n",
    "    "
   ]
  },
  {
   "cell_type": "code",
   "execution_count": null,
   "metadata": {
    "collapsed": true
   },
   "outputs": [],
   "source": []
  },
  {
   "cell_type": "code",
   "execution_count": 4,
   "metadata": {
    "collapsed": true
   },
   "outputs": [],
   "source": [
    "viral_names = [x.split('[', 1)[1].split(']')[0] for x in names]"
   ]
  },
  {
   "cell_type": "code",
   "execution_count": 15,
   "metadata": {},
   "outputs": [
    {
     "data": {
      "text/plain": [
       "['Paenibacillus phage phiIBB_Pl23',\n",
       " 'Paenibacillus phage phiIBB_Pl23',\n",
       " 'Paenibacillus phage phiIBB_Pl23',\n",
       " 'Paenibacillus phage phiIBB_Pl23',\n",
       " 'Paenibacillus phage phiIBB_Pl23',\n",
       " 'Paenibacillus phage phiIBB_Pl23',\n",
       " 'Paenibacillus phage phiIBB_Pl23',\n",
       " 'Paenibacillus phage phiIBB_Pl23',\n",
       " 'Paenibacillus phage phiIBB_Pl23']"
      ]
     },
     "execution_count": 15,
     "metadata": {},
     "output_type": "execute_result"
    }
   ],
   "source": [
    "len(viral_names)\n",
    "viral_names[1:10]"
   ]
  },
  {
   "cell_type": "code",
   "execution_count": null,
   "metadata": {
    "collapsed": true
   },
   "outputs": [],
   "source": []
  },
  {
   "cell_type": "code",
   "execution_count": 22,
   "metadata": {
    "collapsed": true
   },
   "outputs": [],
   "source": [
    "from collections import Counter\n",
    "\n",
    "freq = Counter(viral_names)\n"
   ]
  },
  {
   "cell_type": "code",
   "execution_count": 21,
   "metadata": {},
   "outputs": [
    {
     "data": {
      "text/plain": [
       "6580"
      ]
     },
     "execution_count": 21,
     "metadata": {},
     "output_type": "execute_result"
    }
   ],
   "source": [
    "#number of unique viral \n",
    "virnum = list(set(viral_names))\n",
    "len(virnum)"
   ]
  },
  {
   "cell_type": "code",
   "execution_count": null,
   "metadata": {
    "collapsed": true
   },
   "outputs": [],
   "source": []
  },
  {
   "cell_type": "code",
   "execution_count": null,
   "metadata": {
    "collapsed": true
   },
   "outputs": [],
   "source": []
  },
  {
   "cell_type": "code",
   "execution_count": 5,
   "metadata": {
    "collapsed": true
   },
   "outputs": [],
   "source": [
    "df = pd.DataFrame({'IDs': ids, \n",
    "                   'Viral Names': viral_names, \n",
    "                   'CompleteRecord': names}, columns=['IDs','Viral Names', 'Complete Record'])\n",
    "y = df['Viral Names'].str.contains('phage')\n",
    "df=df[y]"
   ]
  },
  {
   "cell_type": "code",
   "execution_count": 6,
   "metadata": {},
   "outputs": [
    {
     "data": {
      "text/html": [
       "<div>\n",
       "<style>\n",
       "    .dataframe thead tr:only-child th {\n",
       "        text-align: right;\n",
       "    }\n",
       "\n",
       "    .dataframe thead th {\n",
       "        text-align: left;\n",
       "    }\n",
       "\n",
       "    .dataframe tbody tr th {\n",
       "        vertical-align: top;\n",
       "    }\n",
       "</style>\n",
       "<table border=\"1\" class=\"dataframe\">\n",
       "  <thead>\n",
       "    <tr style=\"text-align: right;\">\n",
       "      <th></th>\n",
       "      <th>IDs</th>\n",
       "      <th>Viral Names</th>\n",
       "      <th>Complete Record</th>\n",
       "    </tr>\n",
       "  </thead>\n",
       "  <tbody>\n",
       "    <tr>\n",
       "      <th>0</th>\n",
       "      <td>YP_008320337.1</td>\n",
       "      <td>Paenibacillus phage phiIBB_Pl23</td>\n",
       "      <td>NaN</td>\n",
       "    </tr>\n",
       "    <tr>\n",
       "      <th>1</th>\n",
       "      <td>YP_008320338.1</td>\n",
       "      <td>Paenibacillus phage phiIBB_Pl23</td>\n",
       "      <td>NaN</td>\n",
       "    </tr>\n",
       "    <tr>\n",
       "      <th>2</th>\n",
       "      <td>YP_008320339.1</td>\n",
       "      <td>Paenibacillus phage phiIBB_Pl23</td>\n",
       "      <td>NaN</td>\n",
       "    </tr>\n",
       "    <tr>\n",
       "      <th>3</th>\n",
       "      <td>YP_008320340.1</td>\n",
       "      <td>Paenibacillus phage phiIBB_Pl23</td>\n",
       "      <td>NaN</td>\n",
       "    </tr>\n",
       "    <tr>\n",
       "      <th>4</th>\n",
       "      <td>YP_008320341.1</td>\n",
       "      <td>Paenibacillus phage phiIBB_Pl23</td>\n",
       "      <td>NaN</td>\n",
       "    </tr>\n",
       "  </tbody>\n",
       "</table>\n",
       "</div>"
      ],
      "text/plain": [
       "              IDs                      Viral Names Complete Record\n",
       "0  YP_008320337.1  Paenibacillus phage phiIBB_Pl23             NaN\n",
       "1  YP_008320338.1  Paenibacillus phage phiIBB_Pl23             NaN\n",
       "2  YP_008320339.1  Paenibacillus phage phiIBB_Pl23             NaN\n",
       "3  YP_008320340.1  Paenibacillus phage phiIBB_Pl23             NaN\n",
       "4  YP_008320341.1  Paenibacillus phage phiIBB_Pl23             NaN"
      ]
     },
     "execution_count": 6,
     "metadata": {},
     "output_type": "execute_result"
    }
   ],
   "source": [
    "df.head()"
   ]
  },
  {
   "cell_type": "markdown",
   "metadata": {},
   "source": [
    "### Add Hit by Protein ID "
   ]
  },
  {
   "cell_type": "code",
   "execution_count": 7,
   "metadata": {
    "collapsed": true
   },
   "outputs": [],
   "source": [
    "df['Virulence'] = [1 if x in uniq_hits else 0 for x in df['IDs']]"
   ]
  },
  {
   "cell_type": "code",
   "execution_count": 128,
   "metadata": {
    "collapsed": true
   },
   "outputs": [],
   "source": [
    "#import pickle\n",
    "#pickle.dump(df, open('Virulance_Dataframe.p', 'wb'))"
   ]
  },
  {
   "cell_type": "code",
   "execution_count": 8,
   "metadata": {},
   "outputs": [
    {
     "data": {
      "text/html": [
       "<div>\n",
       "<style>\n",
       "    .dataframe thead tr:only-child th {\n",
       "        text-align: right;\n",
       "    }\n",
       "\n",
       "    .dataframe thead th {\n",
       "        text-align: left;\n",
       "    }\n",
       "\n",
       "    .dataframe tbody tr th {\n",
       "        vertical-align: top;\n",
       "    }\n",
       "</style>\n",
       "<table border=\"1\" class=\"dataframe\">\n",
       "  <thead>\n",
       "    <tr style=\"text-align: right;\">\n",
       "      <th></th>\n",
       "      <th>IDs</th>\n",
       "      <th>Viral Names</th>\n",
       "      <th>Complete Record</th>\n",
       "      <th>Virulence</th>\n",
       "    </tr>\n",
       "  </thead>\n",
       "  <tbody>\n",
       "    <tr>\n",
       "      <th>0</th>\n",
       "      <td>YP_008320337.1</td>\n",
       "      <td>Paenibacillus phage phiIBB_Pl23</td>\n",
       "      <td>NaN</td>\n",
       "      <td>0</td>\n",
       "    </tr>\n",
       "    <tr>\n",
       "      <th>1</th>\n",
       "      <td>YP_008320338.1</td>\n",
       "      <td>Paenibacillus phage phiIBB_Pl23</td>\n",
       "      <td>NaN</td>\n",
       "      <td>0</td>\n",
       "    </tr>\n",
       "    <tr>\n",
       "      <th>2</th>\n",
       "      <td>YP_008320339.1</td>\n",
       "      <td>Paenibacillus phage phiIBB_Pl23</td>\n",
       "      <td>NaN</td>\n",
       "      <td>0</td>\n",
       "    </tr>\n",
       "    <tr>\n",
       "      <th>3</th>\n",
       "      <td>YP_008320340.1</td>\n",
       "      <td>Paenibacillus phage phiIBB_Pl23</td>\n",
       "      <td>NaN</td>\n",
       "      <td>0</td>\n",
       "    </tr>\n",
       "    <tr>\n",
       "      <th>4</th>\n",
       "      <td>YP_008320341.1</td>\n",
       "      <td>Paenibacillus phage phiIBB_Pl23</td>\n",
       "      <td>NaN</td>\n",
       "      <td>0</td>\n",
       "    </tr>\n",
       "  </tbody>\n",
       "</table>\n",
       "</div>"
      ],
      "text/plain": [
       "              IDs                      Viral Names Complete Record  Virulence\n",
       "0  YP_008320337.1  Paenibacillus phage phiIBB_Pl23             NaN          0\n",
       "1  YP_008320338.1  Paenibacillus phage phiIBB_Pl23             NaN          0\n",
       "2  YP_008320339.1  Paenibacillus phage phiIBB_Pl23             NaN          0\n",
       "3  YP_008320340.1  Paenibacillus phage phiIBB_Pl23             NaN          0\n",
       "4  YP_008320341.1  Paenibacillus phage phiIBB_Pl23             NaN          0"
      ]
     },
     "execution_count": 8,
     "metadata": {},
     "output_type": "execute_result"
    }
   ],
   "source": [
    "df.head()"
   ]
  },
  {
   "cell_type": "code",
   "execution_count": 9,
   "metadata": {
    "collapsed": true
   },
   "outputs": [],
   "source": [
    "## Group by\n",
    "test2 = df.groupby('Viral Names').sum()\n",
    "test3 = df.groupby('Viral Names').count()\n",
    "Gene_Count = list(test3['Virulence'])"
   ]
  },
  {
   "cell_type": "code",
   "execution_count": 10,
   "metadata": {},
   "outputs": [
    {
     "data": {
      "text/html": [
       "<div>\n",
       "<style>\n",
       "    .dataframe thead tr:only-child th {\n",
       "        text-align: right;\n",
       "    }\n",
       "\n",
       "    .dataframe thead th {\n",
       "        text-align: left;\n",
       "    }\n",
       "\n",
       "    .dataframe tbody tr th {\n",
       "        vertical-align: top;\n",
       "    }\n",
       "</style>\n",
       "<table border=\"1\" class=\"dataframe\">\n",
       "  <thead>\n",
       "    <tr style=\"text-align: right;\">\n",
       "      <th></th>\n",
       "      <th>Virulence</th>\n",
       "      <th>Gene_Count</th>\n",
       "    </tr>\n",
       "    <tr>\n",
       "      <th>Viral Names</th>\n",
       "      <th></th>\n",
       "      <th></th>\n",
       "    </tr>\n",
       "  </thead>\n",
       "  <tbody>\n",
       "    <tr>\n",
       "      <th>Acholeplasma phage MV-L1</th>\n",
       "      <td>0</td>\n",
       "      <td>4</td>\n",
       "    </tr>\n",
       "    <tr>\n",
       "      <th>Achromobacter phage 83-24</th>\n",
       "      <td>3</td>\n",
       "      <td>61</td>\n",
       "    </tr>\n",
       "    <tr>\n",
       "      <th>Achromobacter phage JWAlpha</th>\n",
       "      <td>3</td>\n",
       "      <td>91</td>\n",
       "    </tr>\n",
       "    <tr>\n",
       "      <th>Achromobacter phage JWF</th>\n",
       "      <td>9</td>\n",
       "      <td>118</td>\n",
       "    </tr>\n",
       "    <tr>\n",
       "      <th>Achromobacter phage JWX</th>\n",
       "      <td>3</td>\n",
       "      <td>67</td>\n",
       "    </tr>\n",
       "  </tbody>\n",
       "</table>\n",
       "</div>"
      ],
      "text/plain": [
       "                             Virulence  Gene_Count\n",
       "Viral Names                                       \n",
       "Acholeplasma phage MV-L1             0           4\n",
       "Achromobacter phage 83-24            3          61\n",
       "Achromobacter phage JWAlpha          3          91\n",
       "Achromobacter phage JWF              9         118\n",
       "Achromobacter phage JWX              3          67"
      ]
     },
     "execution_count": 10,
     "metadata": {},
     "output_type": "execute_result"
    }
   ],
   "source": [
    "test2['Gene_Count'] = Gene_Count\n",
    "\n",
    "test2.head()"
   ]
  },
  {
   "cell_type": "markdown",
   "metadata": {
    "collapsed": true
   },
   "source": [
    "### Filter Viral Names by Phages"
   ]
  },
  {
   "cell_type": "code",
   "execution_count": 11,
   "metadata": {},
   "outputs": [
    {
     "data": {
      "text/html": [
       "<div>\n",
       "<style>\n",
       "    .dataframe thead tr:only-child th {\n",
       "        text-align: right;\n",
       "    }\n",
       "\n",
       "    .dataframe thead th {\n",
       "        text-align: left;\n",
       "    }\n",
       "\n",
       "    .dataframe tbody tr th {\n",
       "        vertical-align: top;\n",
       "    }\n",
       "</style>\n",
       "<table border=\"1\" class=\"dataframe\">\n",
       "  <thead>\n",
       "    <tr style=\"text-align: right;\">\n",
       "      <th></th>\n",
       "      <th>Virulence</th>\n",
       "      <th>Gene_Count</th>\n",
       "      <th>VF_By_Count</th>\n",
       "    </tr>\n",
       "    <tr>\n",
       "      <th>Viral Names</th>\n",
       "      <th></th>\n",
       "      <th></th>\n",
       "      <th></th>\n",
       "    </tr>\n",
       "  </thead>\n",
       "  <tbody>\n",
       "    <tr>\n",
       "      <th>Acholeplasma phage MV-L1</th>\n",
       "      <td>0</td>\n",
       "      <td>4</td>\n",
       "      <td>0.000000</td>\n",
       "    </tr>\n",
       "    <tr>\n",
       "      <th>Achromobacter phage 83-24</th>\n",
       "      <td>3</td>\n",
       "      <td>61</td>\n",
       "      <td>4.918033</td>\n",
       "    </tr>\n",
       "    <tr>\n",
       "      <th>Achromobacter phage JWAlpha</th>\n",
       "      <td>3</td>\n",
       "      <td>91</td>\n",
       "      <td>3.296703</td>\n",
       "    </tr>\n",
       "    <tr>\n",
       "      <th>Achromobacter phage JWF</th>\n",
       "      <td>9</td>\n",
       "      <td>118</td>\n",
       "      <td>7.627119</td>\n",
       "    </tr>\n",
       "    <tr>\n",
       "      <th>Achromobacter phage JWX</th>\n",
       "      <td>3</td>\n",
       "      <td>67</td>\n",
       "      <td>4.477612</td>\n",
       "    </tr>\n",
       "  </tbody>\n",
       "</table>\n",
       "</div>"
      ],
      "text/plain": [
       "                             Virulence  Gene_Count  VF_By_Count\n",
       "Viral Names                                                    \n",
       "Acholeplasma phage MV-L1             0           4     0.000000\n",
       "Achromobacter phage 83-24            3          61     4.918033\n",
       "Achromobacter phage JWAlpha          3          91     3.296703\n",
       "Achromobacter phage JWF              9         118     7.627119\n",
       "Achromobacter phage JWX              3          67     4.477612"
      ]
     },
     "execution_count": 11,
     "metadata": {},
     "output_type": "execute_result"
    }
   ],
   "source": [
    "test2['VF_By_Count'] = list(map(lambda x,y: (x/float(y))*(100), test2['Virulence'],test2['Gene_Count']))\n",
    "test2.head()"
   ]
  },
  {
   "cell_type": "code",
   "execution_count": null,
   "metadata": {
    "collapsed": true
   },
   "outputs": [],
   "source": []
  },
  {
   "cell_type": "code",
   "execution_count": null,
   "metadata": {
    "collapsed": true
   },
   "outputs": [],
   "source": []
  },
  {
   "cell_type": "code",
   "execution_count": null,
   "metadata": {
    "collapsed": true
   },
   "outputs": [],
   "source": []
  },
  {
   "cell_type": "code",
   "execution_count": null,
   "metadata": {
    "collapsed": true
   },
   "outputs": [],
   "source": []
  },
  {
   "cell_type": "code",
   "execution_count": null,
   "metadata": {
    "collapsed": true
   },
   "outputs": [],
   "source": []
  },
  {
   "cell_type": "markdown",
   "metadata": {},
   "source": []
  },
  {
   "cell_type": "code",
   "execution_count": 39,
   "metadata": {},
   "outputs": [
    {
     "data": {
      "image/png": "[encoded data removed]",
      "text/plain": [
       "<matplotlib.figure.Figure at 0x11ec28810>"
      ]
     },
     "metadata": {},
     "output_type": "display_data"
    }
   ],
   "source": [
    "import matplotlib.pyplot as plt\n",
    "import matplotlib as mpl\n",
    "%matplotlib inline\n",
    "items = test2.VF_By_Count\n",
    "plt.figure(figsize=(7, 7))\n",
    "plt.boxplot(items, sym='')\n",
    "plt.xticks([])\n",
    "plt.rc('ytick', labelsize=10)\n",
    "plt.title('Percentage of Virlence Factor \\n Genes in Phage Genomes', fontsize=18)\n",
    "plt.xlabel('Phages', fontsize=18)\n",
    "plt.ylabel('Gene Percentage', fontsize=16)\n",
    "plt.tight_layout()\n",
    "plt.savefig('All_Phages_Percentage.jpg', transparent=True)"
   ]
  },
  {
   "cell_type": "markdown",
   "metadata": {
    "collapsed": true,
    "heading_collapsed": true
   },
   "source": [
    "#### Misc Discritizing"
   ]
  },
  {
   "cell_type": "code",
   "execution_count": 12,
   "metadata": {
    "collapsed": true,
    "hidden": true
   },
   "outputs": [],
   "source": [
    "zeros_in_test = test[test.Virulence == 0]\n",
    "low_count = test[(test.Virulence >= 1) & (test.Virulence <= 10)]\n",
    "tens_count = test[(test.Virulence > 10) & (test.Virulence <= 100)]"
   ]
  },
  {
   "cell_type": "code",
   "execution_count": 15,
   "metadata": {
    "hidden": true
   },
   "outputs": [
    {
     "data": {
      "text/plain": [
       "84"
      ]
     },
     "execution_count": 15,
     "metadata": {},
     "output_type": "execute_result"
    }
   ],
   "source": [
    "len(zeros_in_test)"
   ]
  },
  {
   "cell_type": "code",
   "execution_count": 13,
   "metadata": {
    "hidden": true
   },
   "outputs": [
    {
     "data": {
      "text/plain": [
       "1147"
      ]
     },
     "execution_count": 13,
     "metadata": {},
     "output_type": "execute_result"
    }
   ],
   "source": [
    "len(low_count)"
   ]
  },
  {
   "cell_type": "code",
   "execution_count": 14,
   "metadata": {
    "hidden": true
   },
   "outputs": [
    {
     "data": {
      "text/plain": [
       "279"
      ]
     },
     "execution_count": 14,
     "metadata": {},
     "output_type": "execute_result"
    }
   ],
   "source": [
    "len(tens_count)"
   ]
  },
  {
   "cell_type": "markdown",
   "metadata": {
    "collapsed": true
   },
   "source": [
    "#### Continued"
   ]
  },
  {
   "cell_type": "code",
   "execution_count": 40,
   "metadata": {
    "collapsed": true
   },
   "outputs": [],
   "source": [
    "## Group by Bacterial Genus\n",
    "genus_name = test2.index\n",
    "demo2 = [x.split(' ',1)[0] for x in genus_name]"
   ]
  },
  {
   "cell_type": "code",
   "execution_count": 87,
   "metadata": {},
   "outputs": [
    {
     "data": {
      "text/plain": [
       "1510"
      ]
     },
     "execution_count": 87,
     "metadata": {},
     "output_type": "execute_result"
    }
   ],
   "source": [
    "len(demo2)"
   ]
  },
  {
   "cell_type": "code",
   "execution_count": 41,
   "metadata": {
    "collapsed": true
   },
   "outputs": [],
   "source": [
    "test2['Genus'] = demo2"
   ]
  },
  {
   "cell_type": "code",
   "execution_count": 42,
   "metadata": {},
   "outputs": [
    {
     "data": {
      "text/html": [
       "<div>\n",
       "<style>\n",
       "    .dataframe thead tr:only-child th {\n",
       "        text-align: right;\n",
       "    }\n",
       "\n",
       "    .dataframe thead th {\n",
       "        text-align: left;\n",
       "    }\n",
       "\n",
       "    .dataframe tbody tr th {\n",
       "        vertical-align: top;\n",
       "    }\n",
       "</style>\n",
       "<table border=\"1\" class=\"dataframe\">\n",
       "  <thead>\n",
       "    <tr style=\"text-align: right;\">\n",
       "      <th></th>\n",
       "      <th>Virulence</th>\n",
       "      <th>Gene_Count</th>\n",
       "      <th>VF_By_Count</th>\n",
       "      <th>Genus</th>\n",
       "    </tr>\n",
       "    <tr>\n",
       "      <th>Viral Names</th>\n",
       "      <th></th>\n",
       "      <th></th>\n",
       "      <th></th>\n",
       "      <th></th>\n",
       "    </tr>\n",
       "  </thead>\n",
       "  <tbody>\n",
       "    <tr>\n",
       "      <th>Acholeplasma phage MV-L1</th>\n",
       "      <td>0</td>\n",
       "      <td>4</td>\n",
       "      <td>0.000000</td>\n",
       "      <td>Acholeplasma</td>\n",
       "    </tr>\n",
       "    <tr>\n",
       "      <th>Achromobacter phage 83-24</th>\n",
       "      <td>3</td>\n",
       "      <td>61</td>\n",
       "      <td>4.918033</td>\n",
       "      <td>Achromobacter</td>\n",
       "    </tr>\n",
       "    <tr>\n",
       "      <th>Achromobacter phage JWAlpha</th>\n",
       "      <td>3</td>\n",
       "      <td>91</td>\n",
       "      <td>3.296703</td>\n",
       "      <td>Achromobacter</td>\n",
       "    </tr>\n",
       "    <tr>\n",
       "      <th>Achromobacter phage JWF</th>\n",
       "      <td>9</td>\n",
       "      <td>118</td>\n",
       "      <td>7.627119</td>\n",
       "      <td>Achromobacter</td>\n",
       "    </tr>\n",
       "    <tr>\n",
       "      <th>Achromobacter phage JWX</th>\n",
       "      <td>3</td>\n",
       "      <td>67</td>\n",
       "      <td>4.477612</td>\n",
       "      <td>Achromobacter</td>\n",
       "    </tr>\n",
       "  </tbody>\n",
       "</table>\n",
       "</div>"
      ],
      "text/plain": [
       "                             Virulence  Gene_Count  VF_By_Count          Genus\n",
       "Viral Names                                                                   \n",
       "Acholeplasma phage MV-L1             0           4     0.000000   Acholeplasma\n",
       "Achromobacter phage 83-24            3          61     4.918033  Achromobacter\n",
       "Achromobacter phage JWAlpha          3          91     3.296703  Achromobacter\n",
       "Achromobacter phage JWF              9         118     7.627119  Achromobacter\n",
       "Achromobacter phage JWX              3          67     4.477612  Achromobacter"
      ]
     },
     "execution_count": 42,
     "metadata": {},
     "output_type": "execute_result"
    }
   ],
   "source": [
    "test2.head()"
   ]
  },
  {
   "cell_type": "code",
   "execution_count": 43,
   "metadata": {
    "collapsed": true
   },
   "outputs": [],
   "source": [
    "test2 = test2.drop(['Virulence', 'Gene_Count'], axis=1)"
   ]
  },
  {
   "cell_type": "code",
   "execution_count": 44,
   "metadata": {},
   "outputs": [
    {
     "data": {
      "text/html": [
       "<div>\n",
       "<style>\n",
       "    .dataframe thead tr:only-child th {\n",
       "        text-align: right;\n",
       "    }\n",
       "\n",
       "    .dataframe thead th {\n",
       "        text-align: left;\n",
       "    }\n",
       "\n",
       "    .dataframe tbody tr th {\n",
       "        vertical-align: top;\n",
       "    }\n",
       "</style>\n",
       "<table border=\"1\" class=\"dataframe\">\n",
       "  <thead>\n",
       "    <tr style=\"text-align: right;\">\n",
       "      <th></th>\n",
       "      <th>Avg Number of Virulent Matches</th>\n",
       "    </tr>\n",
       "    <tr>\n",
       "      <th>Genus</th>\n",
       "      <th></th>\n",
       "    </tr>\n",
       "  </thead>\n",
       "  <tbody>\n",
       "    <tr>\n",
       "      <th>Mycoplasma</th>\n",
       "      <td>56.666667</td>\n",
       "    </tr>\n",
       "    <tr>\n",
       "      <th>Thermoanaerobacterium</th>\n",
       "      <td>19.298246</td>\n",
       "    </tr>\n",
       "    <tr>\n",
       "      <th>Sodalis</th>\n",
       "      <td>19.148936</td>\n",
       "    </tr>\n",
       "    <tr>\n",
       "      <th>Brevibacillus</th>\n",
       "      <td>16.334109</td>\n",
       "    </tr>\n",
       "    <tr>\n",
       "      <th>Oenococcus</th>\n",
       "      <td>14.964903</td>\n",
       "    </tr>\n",
       "  </tbody>\n",
       "</table>\n",
       "</div>"
      ],
      "text/plain": [
       "                       Avg Number of Virulent Matches\n",
       "Genus                                                \n",
       "Mycoplasma                                  56.666667\n",
       "Thermoanaerobacterium                       19.298246\n",
       "Sodalis                                     19.148936\n",
       "Brevibacillus                               16.334109\n",
       "Oenococcus                                  14.964903"
      ]
     },
     "execution_count": 44,
     "metadata": {},
     "output_type": "execute_result"
    }
   ],
   "source": [
    "Virulence_Avg = test2.groupby('Genus').mean()\n",
    "Virulence_Avg = Virulence_Avg.sort_values(by=['VF_By_Count'], ascending=False)\n",
    "Virulence_Avg.columns = ['Avg Number of Virulent Matches']\n",
    "Virulence_Avg.head()"
   ]
  },
  {
   "cell_type": "code",
   "execution_count": 45,
   "metadata": {},
   "outputs": [
    {
     "data": {
      "text/html": [
       "<div>\n",
       "<style>\n",
       "    .dataframe thead tr:only-child th {\n",
       "        text-align: right;\n",
       "    }\n",
       "\n",
       "    .dataframe thead th {\n",
       "        text-align: left;\n",
       "    }\n",
       "\n",
       "    .dataframe tbody tr th {\n",
       "        vertical-align: top;\n",
       "    }\n",
       "</style>\n",
       "<table border=\"1\" class=\"dataframe\">\n",
       "  <thead>\n",
       "    <tr style=\"text-align: right;\">\n",
       "      <th></th>\n",
       "      <th>Number of Phages in Genus</th>\n",
       "    </tr>\n",
       "    <tr>\n",
       "      <th>Genus</th>\n",
       "      <th></th>\n",
       "    </tr>\n",
       "  </thead>\n",
       "  <tbody>\n",
       "    <tr>\n",
       "      <th>Mycobacterium</th>\n",
       "      <td>249</td>\n",
       "    </tr>\n",
       "    <tr>\n",
       "      <th>Pseudomonas</th>\n",
       "      <td>112</td>\n",
       "    </tr>\n",
       "    <tr>\n",
       "      <th>Escherichia</th>\n",
       "      <td>92</td>\n",
       "    </tr>\n",
       "    <tr>\n",
       "      <th>Bacillus</th>\n",
       "      <td>82</td>\n",
       "    </tr>\n",
       "    <tr>\n",
       "      <th>Salmonella</th>\n",
       "      <td>67</td>\n",
       "    </tr>\n",
       "  </tbody>\n",
       "</table>\n",
       "</div>"
      ],
      "text/plain": [
       "               Number of Phages in Genus\n",
       "Genus                                   \n",
       "Mycobacterium                        249\n",
       "Pseudomonas                          112\n",
       "Escherichia                           92\n",
       "Bacillus                              82\n",
       "Salmonella                            67"
      ]
     },
     "execution_count": 45,
     "metadata": {},
     "output_type": "execute_result"
    }
   ],
   "source": [
    "Number_of_phages = test2.groupby('Genus').count()\n",
    "Number_of_phages = Number_of_phages.sort_values(by=['VF_By_Count'], ascending=False)\n",
    "Number_of_phages.columns = ['Number of Phages in Genus']\n",
    "Number_of_phages.head()"
   ]
  },
  {
   "cell_type": "code",
   "execution_count": null,
   "metadata": {
    "collapsed": true
   },
   "outputs": [],
   "source": []
  },
  {
   "cell_type": "code",
   "execution_count": 46,
   "metadata": {
    "collapsed": true
   },
   "outputs": [],
   "source": [
    "### Number of Viruses over 30 in Genus\n",
    "x = Number_of_phages[Number_of_phages['Number of Phages in Genus']>=30]\n",
    "abundant = list(x.index)"
   ]
  },
  {
   "cell_type": "code",
   "execution_count": 47,
   "metadata": {},
   "outputs": [
    {
     "data": {
      "text/plain": [
       "1510"
      ]
     },
     "execution_count": 47,
     "metadata": {},
     "output_type": "execute_result"
    }
   ],
   "source": [
    "len(test2)"
   ]
  },
  {
   "cell_type": "code",
   "execution_count": 48,
   "metadata": {},
   "outputs": [
    {
     "data": {
      "text/plain": [
       "969"
      ]
     },
     "execution_count": 48,
     "metadata": {},
     "output_type": "execute_result"
    }
   ],
   "source": [
    "test3 = test2[test2['Genus'].isin(abundant)]\n",
    "len(test3)"
   ]
  },
  {
   "cell_type": "code",
   "execution_count": 49,
   "metadata": {
    "collapsed": true
   },
   "outputs": [],
   "source": [
    "genera = test3.groupby('Genus').median()\n",
    "genera = genera.sort_values(by=['VF_By_Count'], ascending=False)\n",
    "order_med = list(genera.index)"
   ]
  },
  {
   "cell_type": "code",
   "execution_count": null,
   "metadata": {
    "collapsed": true
   },
   "outputs": [],
   "source": []
  },
  {
   "cell_type": "code",
   "execution_count": 50,
   "metadata": {},
   "outputs": [
    {
     "data": {
      "text/html": [
       "<div>\n",
       "<style>\n",
       "    .dataframe thead tr:only-child th {\n",
       "        text-align: right;\n",
       "    }\n",
       "\n",
       "    .dataframe thead th {\n",
       "        text-align: left;\n",
       "    }\n",
       "\n",
       "    .dataframe tbody tr th {\n",
       "        vertical-align: top;\n",
       "    }\n",
       "</style>\n",
       "<table border=\"1\" class=\"dataframe\">\n",
       "  <thead>\n",
       "    <tr style=\"text-align: right;\">\n",
       "      <th></th>\n",
       "      <th>Avg Number of Virulent Matches</th>\n",
       "    </tr>\n",
       "    <tr>\n",
       "      <th>Genus</th>\n",
       "      <th></th>\n",
       "    </tr>\n",
       "  </thead>\n",
       "  <tbody>\n",
       "    <tr>\n",
       "      <th>Lactobacillus</th>\n",
       "      <td>14.816337</td>\n",
       "    </tr>\n",
       "    <tr>\n",
       "      <th>Streptococcus</th>\n",
       "      <td>13.366515</td>\n",
       "    </tr>\n",
       "    <tr>\n",
       "      <th>Staphylococcus</th>\n",
       "      <td>12.632024</td>\n",
       "    </tr>\n",
       "    <tr>\n",
       "      <th>Bacillus</th>\n",
       "      <td>9.948788</td>\n",
       "    </tr>\n",
       "    <tr>\n",
       "      <th>Lactococcus</th>\n",
       "      <td>7.928499</td>\n",
       "    </tr>\n",
       "    <tr>\n",
       "      <th>Enterobacteria</th>\n",
       "      <td>7.858452</td>\n",
       "    </tr>\n",
       "    <tr>\n",
       "      <th>Vibrio</th>\n",
       "      <td>7.681407</td>\n",
       "    </tr>\n",
       "    <tr>\n",
       "      <th>Salmonella</th>\n",
       "      <td>7.000089</td>\n",
       "    </tr>\n",
       "    <tr>\n",
       "      <th>Propionibacterium</th>\n",
       "      <td>5.735978</td>\n",
       "    </tr>\n",
       "    <tr>\n",
       "      <th>Gordonia</th>\n",
       "      <td>5.693531</td>\n",
       "    </tr>\n",
       "    <tr>\n",
       "      <th>Mycobacterium</th>\n",
       "      <td>5.289296</td>\n",
       "    </tr>\n",
       "    <tr>\n",
       "      <th>Escherichia</th>\n",
       "      <td>5.013071</td>\n",
       "    </tr>\n",
       "    <tr>\n",
       "      <th>Pseudomonas</th>\n",
       "      <td>4.814988</td>\n",
       "    </tr>\n",
       "  </tbody>\n",
       "</table>\n",
       "</div>"
      ],
      "text/plain": [
       "                   Avg Number of Virulent Matches\n",
       "Genus                                            \n",
       "Lactobacillus                           14.816337\n",
       "Streptococcus                           13.366515\n",
       "Staphylococcus                          12.632024\n",
       "Bacillus                                 9.948788\n",
       "Lactococcus                              7.928499\n",
       "Enterobacteria                           7.858452\n",
       "Vibrio                                   7.681407\n",
       "Salmonella                               7.000089\n",
       "Propionibacterium                        5.735978\n",
       "Gordonia                                 5.693531\n",
       "Mycobacterium                            5.289296\n",
       "Escherichia                              5.013071\n",
       "Pseudomonas                              4.814988"
      ]
     },
     "execution_count": 50,
     "metadata": {},
     "output_type": "execute_result"
    }
   ],
   "source": [
    "abundant_phages = x.index\n",
    "Abundant_df = Virulence_Avg[(Virulence_Avg.index).isin(abundant_phages)]\n",
    "Abundant_df\n",
    "order_ab = list(Abundant_df.index)\n",
    "Abundant_df"
   ]
  },
  {
   "cell_type": "code",
   "execution_count": 82,
   "metadata": {},
   "outputs": [
    {
     "data": {
      "image/png": "[encoded data removed]",
      "text/plain": [
       "<matplotlib.figure.Figure at 0x1a256fffd0>"
      ]
     },
     "metadata": {},
     "output_type": "display_data"
    }
   ],
   "source": [
    "import numpy as np\n",
    "import seaborn as sns\n",
    "import matplotlib.pyplot as plt\n",
    "\n",
    "\n",
    "\n",
    "sns.set(style=\"whitegrid\")\n",
    "f = plt.subplots(figsize=(10, 10))\n",
    "\n",
    "\n",
    "sns.boxplot(x=\"VF_By_Count\", y=\"Genus\", data=test3,\n",
    "                whis=1.5, palette=\"vlag\", order=order_med)\n",
    "\n",
    "\n",
    "# Add in points to show each observation\n",
    "sns.swarmplot(x=\"VF_By_Count\", y=\"Genus\", data=test3,size=4, color=\".3\", linewidth=0, order=order_med)\n",
    "\n",
    "\n",
    "axes = plt.gca()\n",
    "axes.set_xlim([0,30])\n",
    "plt.yticks(fontsize=15)\n",
    "plt.xticks(fontsize=15)\n",
    "plt.title('Percentage of Virlence Factor \\n Genes in Abundant Phage Genomes', fontsize=18)\n",
    "plt.xlabel('VF Gene Percentages', fontsize=18)\n",
    "plt.ylabel('Abundant Phage Genera', fontsize=16)\n",
    "plt.tight_layout()\n",
    "\n",
    "sns.despine(trim=True, left=True)\n",
    "plt.savefig('Top_Phages_Percentage_50.jpg', transparent=True)"
   ]
  },
  {
   "cell_type": "code",
   "execution_count": null,
   "metadata": {
    "collapsed": true
   },
   "outputs": [],
   "source": []
  },
  {
   "cell_type": "code",
   "execution_count": 23,
   "metadata": {
    "collapsed": true
   },
   "outputs": [],
   "source": []
  },
  {
   "cell_type": "code",
   "execution_count": null,
   "metadata": {
    "collapsed": true
   },
   "outputs": [],
   "source": []
  },
  {
   "cell_type": "code",
   "execution_count": null,
   "metadata": {
    "collapsed": true
   },
   "outputs": [],
   "source": []
  },
  {
   "cell_type": "code",
   "execution_count": 100,
   "metadata": {},
   "outputs": [
    {
     "name": "stdout",
     "output_type": "stream",
     "text": [
      "Shaprio-Wilks Test of Normality of Bacillus Virulent Genes p-value = 2.15159934669e-06\n",
      "Shaprio-Wilks Test of Normality of Staphylococcus Virulent Genes p-value = 0.00137221289333\n",
      "Shaprio-Wilks Test of Normality of Lactobacillus Virulent Genes p-value = 0.765015006065\n",
      "Shaprio-Wilks Test of Normality of Escherichia Virulent Genes p-value = 0.000526050454937\n",
      "Shaprio-Wilks Test of Normality of Streptococcus Virulent Genes p-value = 0.677013516426\n",
      "Shaprio-Wilks Test of Normality of Salmonella Virulent Genes p-value = 0.00818017590791\n",
      "Shaprio-Wilks Test of Normality of Enterobacteria Virulent Genes p-value = 5.35688080561e-08\n",
      "Shaprio-Wilks Test of Normality of Mycobacterium Virulent Genes p-value = 0.00030387940933\n",
      "Shaprio-Wilks Test of Normality of Vibrio Virulent Genes p-value = 0.0078563913703\n",
      "Shaprio-Wilks Test of Normality of Gordonia Virulent Genes p-value = 0.000471107457997\n",
      "Shaprio-Wilks Test of Normality of Lactococcus Virulent Genes p-value = 0.139323234558\n",
      "Shaprio-Wilks Test of Normality of Pseudomonas Virulent Genes p-value = 5.72934879983e-07\n",
      "Shaprio-Wilks Test of Normality of Propionibacterium Virulent Genes p-value = 8.08754994068e-05\n"
     ]
    }
   ],
   "source": [
    "from scipy import stats\n",
    "## Bacilus Distribution\n",
    "bacillus_disto = test2[test2['Genus']=='Bacillus']\n",
    "l = list(bacillus_disto['VF_By_Count'])\n",
    "q = stats.shapiro(l)\n",
    "print(\"Shaprio-Wilks Test of Normality of Bacillus Virulent Genes p-value = %s\" % q[1])\n",
    "## Staphylococcus Distribution\n",
    "Staphylococcus_disto = test2[test2['Genus']=='Staphylococcus']\n",
    "y = list(Staphylococcus_disto['VF_By_Count'])\n",
    "q = stats.shapiro(y)\n",
    "print(\"Shaprio-Wilks Test of Normality of Staphylococcus Virulent Genes p-value = %s\" % q[1])\n",
    "## Lactobacillus Distribution\n",
    "Lactobacillus_disto = test2[test2['Genus']=='Lactobacillus']\n",
    "y = list(Lactobacillus_disto['VF_By_Count'])\n",
    "q = stats.shapiro(y)\n",
    "print(\"Shaprio-Wilks Test of Normality of Lactobacillus Virulent Genes p-value = %s\" % q[1])\n",
    "## Escherichia Distribution\n",
    "Escherichia_disto = test2[test2['Genus']=='Escherichia']\n",
    "y = list(Escherichia_disto['VF_By_Count'])\n",
    "q = stats.shapiro(y)\n",
    "print(\"Shaprio-Wilks Test of Normality of Escherichia Virulent Genes p-value = %s\" % q[1])\n",
    "## Streptococcus Distribution\n",
    "Streptococcus_disto = test2[test2['Genus']=='Streptococcus']\n",
    "y = list(Streptococcus_disto['VF_By_Count'])\n",
    "q = stats.shapiro(y)\n",
    "print(\"Shaprio-Wilks Test of Normality of Streptococcus Virulent Genes p-value = %s\" % q[1])\n",
    "## Salmonella Distribution\n",
    "Salmonella_disto = test2[test2['Genus']=='Salmonella']\n",
    "y = list(Salmonella_disto['VF_By_Count'])\n",
    "q = stats.shapiro(y)\n",
    "print(\"Shaprio-Wilks Test of Normality of Salmonella Virulent Genes p-value = %s\" % q[1])\n",
    "## Enterobacteria Distribution\n",
    "Enterobacteria_disto = test2[test2['Genus']=='Enterobacteria']\n",
    "y = list(Enterobacteria_disto['VF_By_Count'])\n",
    "q = stats.shapiro(y)\n",
    "print(\"Shaprio-Wilks Test of Normality of Enterobacteria Virulent Genes p-value = %s\" % q[1])\n",
    "## Mycobacterium Distribution\n",
    "Mycobacterium_disto = test2[test2['Genus']=='Mycobacterium']\n",
    "y = list(Mycobacterium_disto['VF_By_Count'])\n",
    "q = stats.shapiro(y)\n",
    "print(\"Shaprio-Wilks Test of Normality of Mycobacterium Virulent Genes p-value = %s\" % q[1])\n",
    "## Vibrio Distribution\n",
    "Vibrio_disto = test2[test2['Genus']=='Vibrio']\n",
    "y = list(Vibrio_disto['VF_By_Count'])\n",
    "q = stats.shapiro(y)\n",
    "print(\"Shaprio-Wilks Test of Normality of Vibrio Virulent Genes p-value = %s\" % q[1])\n",
    "## Gordonia Distribution\n",
    "Gordonia_disto = test2[test2['Genus']=='Gordonia']\n",
    "y = list(Gordonia_disto['VF_By_Count'])\n",
    "q = stats.shapiro(y)\n",
    "print(\"Shaprio-Wilks Test of Normality of Gordonia Virulent Genes p-value = %s\" % q[1])\n",
    "## Lactococcus Distribution\n",
    "Lactococcus_disto = test2[test2['Genus']=='Lactococcus']\n",
    "y = list(Lactococcus_disto['VF_By_Count'])\n",
    "q = stats.shapiro(y)\n",
    "print(\"Shaprio-Wilks Test of Normality of Lactococcus Virulent Genes p-value = %s\" % q[1])\n",
    "## Pseudomonas Distribution\n",
    "Pseudomonas_disto = test2[test2['Genus']=='Pseudomonas']\n",
    "t = list(Pseudomonas_disto['VF_By_Count'])\n",
    "q = stats.shapiro(t)\n",
    "print(\"Shaprio-Wilks Test of Normality of Pseudomonas Virulent Genes p-value = %s\" % q[1])\n",
    "## Propionibacterium Distribution\n",
    "Propionibacterium_disto = test2[test2['Genus']=='Propionibacterium']\n",
    "y = list(Propionibacterium_disto['VF_By_Count'])\n",
    "q = stats.shapiro(y)\n",
    "print(\"Shaprio-Wilks Test of Normality of Propionibacterium Virulent Genes p-value = %s\" % q[1])"
   ]
  },
  {
   "cell_type": "markdown",
   "metadata": {},
   "source": [
    "### Stats To-Do\n",
    "Considering Normlizing counts between 0 and 1 then applying the same normalization to observation. Then performing a one sample t-test or outlier detection"
   ]
  },
  {
   "cell_type": "code",
   "execution_count": 97,
   "metadata": {},
   "outputs": [
    {
     "data": {
      "text/plain": [
       "1.0612730517549076"
      ]
     },
     "execution_count": 97,
     "metadata": {},
     "output_type": "execute_result"
    }
   ],
   "source": [
    "import numpy as np\n",
    "z = np.mean(y)\n",
    "variance = np.var(y)\n",
    "variance"
   ]
  },
  {
   "cell_type": "code",
   "execution_count": 102,
   "metadata": {},
   "outputs": [
    {
     "data": {
      "text/plain": [
       "43.998810232004764"
      ]
     },
     "execution_count": 102,
     "metadata": {},
     "output_type": "execute_result"
    }
   ],
   "source": [
    "import numpy as np\n",
    "z = np.mean(l)\n",
    "variance = np.var(l)\n",
    "variance\n",
    "#z"
   ]
  },
  {
   "cell_type": "code",
   "execution_count": 78,
   "metadata": {},
   "outputs": [
    {
     "data": {
      "text/plain": [
       "Ttest_1sampResult(statistic=-2.2460728058830486, pvalue=0.030290382881324712)"
      ]
     },
     "execution_count": 78,
     "metadata": {},
     "output_type": "execute_result"
    }
   ],
   "source": [
    "qw = stats.ttest_1samp(y,3)\n",
    "qw"
   ]
  },
  {
   "cell_type": "code",
   "execution_count": 88,
   "metadata": {
    "collapsed": true
   },
   "outputs": [],
   "source": [
    "# Calculate Sample Mean\n",
    "def mean(x):\n",
    "    return sum(x)/(len(x)*1.0) \n",
    "\n",
    "# Calculate Sample Standard Deviation\n",
    "def sd(x):\n",
    "    xb = sum(x)/(len(x)*1.0) \n",
    "    return (sum([(i-xb)**2 for i in x])/(len(x)-1))**(0.5) "
   ]
  },
  {
   "cell_type": "code",
   "execution_count": 91,
   "metadata": {
    "collapsed": true
   },
   "outputs": [],
   "source": [
    "def one_sample_ttest(x,mu,alt='neq'):\n",
    "    # Calculate t statistic and p-value.\n",
    "    ttest_onesample = stats.ttest_1samp(x, mu)\n",
    "    # Extract t-stat\n",
    "    t = ttest_onesample[0]\n",
    "    # Sample Size\n",
    "    n = len(x)\n",
    "    # Degress of Freedom\n",
    "    df = n-1\n",
    "    # Calculate Standard Error\n",
    "    se = sd(x)/((n)**(0.5))\n",
    "    # Calculate the correct p value if gt is selected\n",
    "    if(alt == 'gt'):   \n",
    "        # Correct p-value for one sided alt\n",
    "        if(t>=0):\n",
    "            p = (ttest_onesample[1])/(2.0)\n",
    "        elif(t==0):\n",
    "            p = 1-(ttest_onesample[1])/(2.0)\n",
    "        if(t<=0):\n",
    "            p = (ttest_onesample[1])/(2.0)\n",
    "            \n",
    "        hypothesis = \"less than\"\n",
    "        # Calculate 95 percent conf limits\n",
    "        ts = stats.t.ppf(.05, df)\n",
    "        ul = mean(x)-se*ts\n",
    "        ll = float(\"-inf\")\n",
    "    else:\n",
    "        p = ttest_onesample[1]\n",
    "        # Calculate 95 percent conf limits\n",
    "        hypothesis = \"not equal to\"\n",
    "        ts = stats.t.ppf(0.025, df)\n",
    "        ll = mean(x)-se*ts\n",
    "        ul = mean(x)+se*ts\n",
    "        \n",
    "    print \"One Sample t-test:\"\n",
    "    print \"t = %.4f,\" % t,\"df = %.f,\" % df, \"p-value = %.4f\" % p \n",
    "    print \"alternative hypothesis: true mean is\", hypothesis , mu, \"\\n\"\n",
    "    print \"95 percent confidence interval:\"\n",
    "    print \"\\t (%.4f,\" % ll , \"%.4f)\" % ul, \"\\n\""
   ]
  },
  {
   "cell_type": "code",
   "execution_count": 96,
   "metadata": {},
   "outputs": [
    {
     "name": "stdout",
     "output_type": "stream",
     "text": [
      "One Sample t-test:\n",
      "t = -2.2461, df = 40, p-value = 0.0151\n",
      "alternative hypothesis: true mean is less than 3 \n",
      "\n",
      "95 percent confidence interval:\n",
      "\t (-inf, 2.9084) \n",
      "\n"
     ]
    }
   ],
   "source": [
    "one_sample_ttest(y, 3, 'gt')"
   ]
  },
  {
   "cell_type": "code",
   "execution_count": null,
   "metadata": {
    "collapsed": true
   },
   "outputs": [],
   "source": []
  },
  {
   "cell_type": "code",
   "execution_count": 101,
   "metadata": {},
   "outputs": [
    {
     "ename": "ValueError",
     "evalue": "invalid literal for int() with base 16: 'Z1'",
     "output_type": "error",
     "traceback": [
      "\u001b[0;31m---------------------------------------------------------------------------\u001b[0m",
      "\u001b[0;31mValueError\u001b[0m                                Traceback (most recent call last)",
      "\u001b[0;32m<ipython-input-101-be035ce3b8e0>\u001b[0m in \u001b[0;36m<module>\u001b[0;34m()\u001b[0m\n\u001b[1;32m      1\u001b[0m \u001b[0mstuff\u001b[0m \u001b[0;34m=\u001b[0m \u001b[0;34m'Z1'\u001b[0m\u001b[0;34m\u001b[0m\u001b[0m\n\u001b[0;32m----> 2\u001b[0;31m \u001b[0mx\u001b[0m \u001b[0;34m=\u001b[0m \u001b[0mint\u001b[0m\u001b[0;34m(\u001b[0m\u001b[0mstuff\u001b[0m\u001b[0;34m,\u001b[0m \u001b[0;36m16\u001b[0m\u001b[0;34m)\u001b[0m\u001b[0;34m\u001b[0m\u001b[0m\n\u001b[0m\u001b[1;32m      3\u001b[0m \u001b[0mx\u001b[0m\u001b[0;34m\u001b[0m\u001b[0m\n",
      "\u001b[0;31mValueError\u001b[0m: invalid literal for int() with base 16: 'Z1'"
     ]
    }
   ],
   "source": [
    "stuff = 'Z1'\n",
    "x = int(stuff, 16)\n",
    "x"
   ]
  },
  {
   "cell_type": "code",
   "execution_count": null,
   "metadata": {
    "collapsed": true
   },
   "outputs": [],
   "source": []
  }
 ],
 "metadata": {
  "kernelspec": {
   "display_name": "Python 2",
   "language": "python",
   "name": "python2"
  },
  "language_info": {
   "codemirror_mode": {
    "name": "ipython",
    "version": 2
   },
   "file_extension": ".py",
   "mimetype": "text/x-python",
   "name": "python",
   "nbconvert_exporter": "python",
   "pygments_lexer": "ipython2",
   "version": "2.7.14"
  },
  "toc": {
   "base_numbering": 1,
   "nav_menu": {},
   "number_sections": true,
   "sideBar": true,
   "skip_h1_title": false,
   "title_cell": "Table of Contents",
   "title_sidebar": "Contents",
   "toc_cell": false,
   "toc_position": {},
   "toc_section_display": true,
   "toc_window_display": false
  }
 },
 "nbformat": 4,
 "nbformat_minor": 2
}
