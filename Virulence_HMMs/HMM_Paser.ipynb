{
 "cells": [
  {
   "cell_type": "markdown",
   "metadata": {},
   "source": [
    "## Virulance HMM Table Analysis"
   ]
  },
  {
   "cell_type": "code",
   "execution_count": 8,
   "metadata": {},
   "outputs": [
    {
     "name": "stdout",
     "output_type": "stream",
     "text": [
      "19786\n"
     ]
    }
   ],
   "source": [
    "from Bio import SearchIO\n",
    "import pandas as pd\n",
    "num_hit = 0\n",
    "#now parse the output\n",
    "hit_list = []\n",
    "hit_ids = []\n",
    "with open('hmm_table.txt', 'r') as input:\n",
    "    for qresult in SearchIO.parse(input, 'hmmer3-text'):\n",
    "        query_id = qresult.id  #sequence ID from fasta\n",
    "        query_len = qresult.seq_len\n",
    "        hits = qresult.hits\n",
    "        hit_ids = hit_ids+qresult.hit_keys\n",
    "        hit_list.append(hits)\n",
    "        num_hits = len(hits)\n",
    "        num_hit = num_hit + num_hits\n",
    "print(num_hit)"
   ]
  },
  {
   "cell_type": "markdown",
   "metadata": {},
   "source": [
    "### Exploring Hit Table"
   ]
  },
  {
   "cell_type": "code",
   "execution_count": 9,
   "metadata": {},
   "outputs": [
    {
     "data": {
      "text/plain": [
       "19786"
      ]
     },
     "execution_count": 9,
     "metadata": {},
     "output_type": "execute_result"
    }
   ],
   "source": [
    "len(hit_ids)"
   ]
  },
  {
   "cell_type": "code",
   "execution_count": 2,
   "metadata": {
    "collapsed": true
   },
   "outputs": [],
   "source": [
    "#df = pd.read_table(\"hmm_table_test.txt\")"
   ]
  },
  {
   "cell_type": "code",
   "execution_count": 10,
   "metadata": {},
   "outputs": [
    {
     "data": {
      "text/plain": [
       "15389"
      ]
     },
     "execution_count": 10,
     "metadata": {},
     "output_type": "execute_result"
    }
   ],
   "source": [
    "uniq_hits = list(set(hit_ids))\n",
    "len(uniq_hits)"
   ]
  },
  {
   "cell_type": "code",
   "execution_count": null,
   "metadata": {
    "collapsed": true
   },
   "outputs": [],
   "source": []
  },
  {
   "cell_type": "markdown",
   "metadata": {},
   "source": [
    "### Count of Viral Species in Uniprot Database"
   ]
  },
  {
   "cell_type": "code",
   "execution_count": 11,
   "metadata": {
    "collapsed": true
   },
   "outputs": [],
   "source": [
    "from Bio import SeqIO\n",
    "ids = []\n",
    "names = []\n",
    "for seq_record in SeqIO.parse(\"viral.1.protein.faa\", \"fasta\"):\n",
    "    ids.append(seq_record.id)\n",
    "    names.append(seq_record.description)"
   ]
  },
  {
   "cell_type": "code",
   "execution_count": 83,
   "metadata": {},
   "outputs": [
    {
     "data": {
      "text/plain": [
       "252202"
      ]
     },
     "execution_count": 83,
     "metadata": {},
     "output_type": "execute_result"
    }
   ],
   "source": [
    "len(names)"
   ]
  },
  {
   "cell_type": "code",
   "execution_count": 12,
   "metadata": {
    "collapsed": true
   },
   "outputs": [],
   "source": [
    "viral_names = [x.split('[', 1)[1].split(']')[0] for x in names]"
   ]
  },
  {
   "cell_type": "code",
   "execution_count": 195,
   "metadata": {},
   "outputs": [
    {
     "data": {
      "text/plain": [
       "['Paenibacillus phage phiIBB_Pl23',\n",
       " 'Paenibacillus phage phiIBB_Pl23',\n",
       " 'Paenibacillus phage phiIBB_Pl23',\n",
       " 'Paenibacillus phage phiIBB_Pl23',\n",
       " 'Paenibacillus phage phiIBB_Pl23',\n",
       " 'Paenibacillus phage phiIBB_Pl23',\n",
       " 'Paenibacillus phage phiIBB_Pl23',\n",
       " 'Paenibacillus phage phiIBB_Pl23',\n",
       " 'Paenibacillus phage phiIBB_Pl23']"
      ]
     },
     "execution_count": 195,
     "metadata": {},
     "output_type": "execute_result"
    }
   ],
   "source": [
    "len(viral_names)\n",
    "viral_names[1:10]"
   ]
  },
  {
   "cell_type": "code",
   "execution_count": 122,
   "metadata": {},
   "outputs": [
    {
     "data": {
      "text/plain": [
       "Counter({'Paenibacillus phage phiIBB_Pl23': 68,\n",
       "         'Bacillus virus Curly': 77,\n",
       "         'Shigella phage SfII': 58,\n",
       "         'Salmonella phage FSL SP-058': 86,\n",
       "         'Salmonella phage FSL SP-076': 82,\n",
       "         'Human endogenous retrovirus K113': 1,\n",
       "         'Tomato mottle mosaic virus': 4,\n",
       "         'Porcine stool-associated circular virus 2': 2,\n",
       "         'Porcine stool-associated circular virus 3': 2,\n",
       "         'Sweet potato latent virus': 1,\n",
       "         'Bacillus phage B4': 277,\n",
       "         'Pseudomonas phage MPK7': 53,\n",
       "         'Drosophila obscura sigmavirus 10A': 6,\n",
       "         'Eel virus European X': 6,\n",
       "         'Lactobacillus phage phiAQ113': 56,\n",
       "         'Feline astrovirus 2': 3,\n",
       "         'Euphorbia mosaic virus': 2,\n",
       "         'Hemileuca sp. nucleopolyhedrovirus': 137,\n",
       "         'Staphylococcus phage SA12': 58,\n",
       "         'Pokeweed mosaic virus': 11,\n",
       "         'Sulfolobus virus STSV2': 75,\n",
       "         'Red clover cryptic virus 1': 2,\n",
       "         'Rhizoctonia cerealis alphaendornavirus 1': 1,\n",
       "         'Razdan virus': 4,\n",
       "         'Escherichia virus JL1': 60,\n",
       "         'Mesocricetus auratus papillomavirus 1': 7,\n",
       "         'Aino virus': 4,\n",
       "         'Sathuperi orthobunyavirus': 4,\n",
       "         'Shamonda orthobunyavirus': 4,\n",
       "         'Simbu orthobunyavirus': 4,\n",
       "         'Streptomyces phage Lika': 75,\n",
       "         'Streptomyces phage Sujidade': 77,\n",
       "         'Streptomyces phage Zemlya': 76,\n",
       "         'Erwinia phage FE44': 51,\n",
       "         'Tall oatgrass mosaic virus': 1,\n",
       "         'Pseudomonas phage MPK6': 50,\n",
       "         'Vibrio phage VPUSM 8': 43,\n",
       "         'Solenopsis invicta densovirus': 5,\n",
       "         'Shigella phage SfIV': 54,\n",
       "         'Cyanophage PP': 41,\n",
       "         'Salmonella phage SETP13': 69,\n",
       "         'Mycobacterium phage Fredward': 103,\n",
       "         'Streptococcus phage TP-778L': 52,\n",
       "         'Gyrovirus Tu243': 3,\n",
       "         'Gyrovirus Tu789': 3,\n",
       "         'Streptococcus phage phiBHN167': 49,\n",
       "         'Acheta domestica mini ambidensovirus': 4,\n",
       "         'Staphylococcus phage JS01': 66,\n",
       "         'Feline bocavirus 2': 4,\n",
       "         'Human papillomavirus 167': 6,\n",
       "         'Donkey orchid symptomless virus': 6,\n",
       "         'Sclerotinia sclerotiorum hypovirus 2': 1,\n",
       "         'Ralstonia phage RSK1': 54,\n",
       "         'Ralstonia phage RSB3': 50,\n",
       "         'African elephant polyomavirus 1': 5,\n",
       "         'Staphylococcus phage phiRS7': 62,\n",
       "         'Burkholderia phage JG068': 49,\n",
       "         'Garlic virus D': 6,\n",
       "         'Bovine hungarovirus 1': 13,\n",
       "         'Rosa rugosa leaf distortion virus': 6,\n",
       "         'Pseudomonas phage PAK_P5': 164,\n",
       "         'Pseudomonas phage PAK_P2': 176,\n",
       "         'Pseudomonas phage CHA_P1': 166,\n",
       "         'Zamilon virus': 20,\n",
       "         'Pseudomonas phage PAK_P1': 181,\n",
       "         'Enterobacteria phage fiAA91-ss': 40,\n",
       "         'Lactobacillus virus LLKu': 51,\n",
       "         'Salmonella phage SETP3': 63,\n",
       "         'Butcherbird polyomavirus': 6,\n",
       "         'Staphylococcus phage Sb-1': 168,\n",
       "         'Lamium mild mosaic virus': 10,\n",
       "         'Ralstonia phage RSM1': 15,\n",
       "         'Bacillus phage phiAGATE': 210,\n",
       "         'Ndumu virus': 5,\n",
       "         'Wallal virus': 10,\n",
       "         'Murrumbidgee virus': 3,\n",
       "         'Porcine parvovirus 5': 2,\n",
       "         'Spinach yellow vein Sikar virus': 6,\n",
       "         'Blackberry vein banding-associated virus': 11,\n",
       "         'Cardamom bushy dwarf virus satellite': 1,\n",
       "         'Feline infectious peritonitis virus': 9,\n",
       "         'Breda virus': 6,\n",
       "         'Turkey coronavirus': 26,\n",
       "         'Rousettus bat coronavirus HKU10': 9,\n",
       "         'Shigella phage pSf-1': 94,\n",
       "         'Lactate dehydrogenase-elevating virus': 12,\n",
       "         'Cavally virus': 7,\n",
       "         'Escherichia phage Lw1': 273,\n",
       "         'Rice yellow mottle virus': 7,\n",
       "         'Sesbania mosaic virus': 14,\n",
       "         'Ryegrass mottle virus': 7,\n",
       "         'Southern bean mosaic virus': 11,\n",
       "         'Turnip rosette virus': 5,\n",
       "         'Soybean yellow common mosaic virus': 13,\n",
       "         'Artemisia virus A': 7,\n",
       "         'Papaya lethal yellowing virus': 7,\n",
       "         'American bat vesiculovirus TFFN-2013': 5,\n",
       "         'Salmonella phage SPN9CC': 62,\n",
       "         'Turkey aviadenovirus 4': 33,\n",
       "         'Turkey aviadenovirus 5': 37,\n",
       "         'Mobuck virus': 10,\n",
       "         'Halyomorpha halys virus': 1,\n",
       "         'Changuinola virus': 10,\n",
       "         'Xanthomonas citri phage CP2': 40,\n",
       "         'Xanthomonas virus CP1': 47,\n",
       "         'Pea necrotic yellow dwarf virus': 8,\n",
       "         'Carp picornavirus 1': 12,\n",
       "         'Porcine pestivirus isolate Bungowannah': 1,\n",
       "         'Formica exsecta virus 1': 2,\n",
       "         'Formica exsecta virus 2': 1,\n",
       "         'Papaya leaf curl alphasatellite': 1,\n",
       "         'Tomato leaf curl Gandhinagar betasatellite': 1,\n",
       "         'Magnaporthe oryzae chrysovirus 3': 5,\n",
       "         'Chaetoceros tenuissimus DNA virus': 3,\n",
       "         'Castor canadensis papillomavirus 1': 5,\n",
       "         'Marine gokushovirus': 6,\n",
       "         'Mycobacterium virus L5': 90,\n",
       "         'Clostridium phage phiSM101': 53,\n",
       "         'Aggregatibacter phage S1249': 66,\n",
       "         'Enterococcus phage EF62phi': 48,\n",
       "         'Streptococcus phage YMC-2011': 55,\n",
       "         'Squirrelpox virus': 141,\n",
       "         'Choristoneura murinana nucleopolyhedrovirus': 147,\n",
       "         'Tyuleniy virus': 1,\n",
       "         'Avian hepatitis E virus': 3,\n",
       "         'Kama virus': 1,\n",
       "         'Wallerfield virus': 3,\n",
       "         'Chaetoceros sp. DNA virus 7': 3,\n",
       "         'Buzura suppressaria nucleopolyhedrovirus': 127,\n",
       "         'Ageratum yellow vein China alphasatellite': 1,\n",
       "         'Chlamydia virus CPAR39': 6,\n",
       "         'Habenaria mosaic virus': 12,\n",
       "         'Hibiscus bacilliform virus GD1': 4,\n",
       "         'Inachis io cypovirus 2': 10,\n",
       "         'Saimiri sciureus papillomavirus 1': 6,\n",
       "         'Mosquito flavivirus': 1,\n",
       "         'Bluegill picornavirus': 12,\n",
       "         'Streptococcus thermophilus DSM 20617': 3,\n",
       "         'Streptococcus phage 20617': 65,\n",
       "         'Piper yellow mottle virus': 4,\n",
       "         'Zucchini tigre mosaic virus': 10,\n",
       "         'Apricot vein clearing associated virus': 4,\n",
       "         'Fathead minnow picornavirus': 1,\n",
       "         'Mycobacterium phage Validus': 105,\n",
       "         'Rhizobium phage vB_RleS_L338C': 181,\n",
       "         'Pseudomonas phage phiIBB-PAA2': 69,\n",
       "         'Oenococcus phage phi9805': 55,\n",
       "         'Oenococcus phage phiS13': 54,\n",
       "         'Vibrio phage VH7D': 327,\n",
       "         'Oenococcus phage phiS11': 59,\n",
       "         'Staphylococcus phage phiSA12': 207,\n",
       "         'Pseudomonas phage TL': 65,\n",
       "         'Sulfolobus monocaudavirus SMV1': 51,\n",
       "         'Ralstonia phage 1 NP-2014': 16,\n",
       "         'Haloarcula hispanica pleomorphic virus 2': 8,\n",
       "         'Sclerotinia sclerotiorum mitovirus 6': 1,\n",
       "         'Pseudomonas phage phiPsa374': 173,\n",
       "         'Erwinia phage PhiEaH1': 241,\n",
       "         'Invertebrate iridescent virus 30': 176,\n",
       "         'GSEE': 2,\n",
       "         'Invertebrate iridescent virus 22': 172,\n",
       "         'I/L': 1,\n",
       "         'Laodelphax striatella honeydew virus 1': 1,\n",
       "         'Edwardsiella phage eiAU-183': 54,\n",
       "         'Achromobacter phage JWAlpha': 91,\n",
       "         'Enterobacter phage PG7': 294,\n",
       "         'Mycobacterium phage Suffolk': 97,\n",
       "         'Mycobacterium phage MichelleMyBell': 70,\n",
       "         'Mycobacterium phage Oaker': 92,\n",
       "         'Mycobacterium phage Saal': 101,\n",
       "         'Stenotrophomonas phage Smp131': 46,\n",
       "         'Acinetobacter phage IME_AB3': 57,\n",
       "         'Mycobacterium phage Adler': 125,\n",
       "         'Escherichia phage KBNP1711': 126,\n",
       "         'Bacillus phage phiCM3': 56,\n",
       "         'Bovine astrovirus B76/HK': 3,\n",
       "         'Bovine astrovirus B76-2/HK': 3,\n",
       "         'Bovine astrovirus B18/HK': 3,\n",
       "         'Bovine astrovirus B170/HK': 3,\n",
       "         'Arumowot virus': 4,\n",
       "         'Enterococcus phage IME-EF4': 60,\n",
       "         'Mycobacterium phage 39HC': 100,\n",
       "         'Vibrio phage PVA1': 21,\n",
       "         'Anomala cuprea entomopoxvirus': 263,\n",
       "         'Penaeus monodon circovirus VN11': 3,\n",
       "         'Coconut foliar decay alphasatellite': 6,\n",
       "         'Citrus endogenous pararetrovirus': 5,\n",
       "         'Serratia phage Eta': 69,\n",
       "         'Lactococcus phage phiL47': 189,\n",
       "         'Porcine astrovirus 5': 3,\n",
       "         'Posavirus 1': 1,\n",
       "         'Posavirus 2': 1,\n",
       "         'Pseudomonas phage PaBG': 308,\n",
       "         'Lactobacillus phage J-1': 63,\n",
       "         'Lactobacillus phage PL-1': 59,\n",
       "         'Porcine astrovirus 2': 3,\n",
       "         'Porcine astrovirus 4': 3,\n",
       "         'Spodoptera exigua iflavirus 2': 1,\n",
       "         'Chimpanzee herpesvirus strain 105640': 77,\n",
       "         'Phaseolus vulgaris alphaendornavirus 1': 1,\n",
       "         'Wheat dwarf virus': 4,\n",
       "         'Milk vetch dwarf C10 alphasatellite': 1,\n",
       "         'Chickpea chlorotic dwarf virus': 4,\n",
       "         'Staphylococcus phage GRCS': 21,\n",
       "         'Mamestra brassicae multiple nucleopolyhedrovirus': 159,\n",
       "         'Mycobacterium phage Gadjet': 102,\n",
       "         'Mycobacterium virus Bruns': 96,\n",
       "         'Aeromonas phage PX29': 330,\n",
       "         'Mycobacterium phage Lilac': 140,\n",
       "         'Mycobacterium virus Courthouse': 241,\n",
       "         'Rhodococcus phage ReqiPoco6': 107,\n",
       "         'Mycobacterium phage Violet': 90,\n",
       "         'Mycobacterium virus Avani': 107,\n",
       "         'Mycobacterium virus SG4': 105,\n",
       "         'Pseudomonas virus PA1KOR': 51,\n",
       "         'Mycobacterium virus Acadian': 97,\n",
       "         'Mycobacterium virus Kugel': 95,\n",
       "         'Mycobacterium phage Dori': 94,\n",
       "         'Mycobacterium virus Doom': 85,\n",
       "         'Mycobacterium virus Liefie': 61,\n",
       "         'Rhodococcus phage ReqiDocB7': 105,\n",
       "         'Mycobacterium phage Dreamboat': 94,\n",
       "         'Mycobacterium phage RidgeCB': 94,\n",
       "         'Mycobacterium virus Firecracker': 128,\n",
       "         'Mycobacterium phage LinStu': 227,\n",
       "         'Yersinia phage Yep-phi': 45,\n",
       "         'Cronobacter phage CR9': 281,\n",
       "         'Pseudomonas phage phiPto-bp6g': 68,\n",
       "         'Bacillus virus G': 675,\n",
       "         'Mycobacterium virus Perseus': 92,\n",
       "         'Mycobacterium virus Drago': 103,\n",
       "         'Rhodococcus phage ReqiPine5': 84,\n",
       "         'Mycobacterium virus Larva': 97,\n",
       "         'Mycobacterium virus Euphoria': 94,\n",
       "         'Mycobacterium phage Charlie': 68,\n",
       "         'Mycobacterium phage Redi': 69,\n",
       "         'Mycobacterium virus Rumpelstiltskin': 110,\n",
       "         'Psychrobacter phage Psymv2': 49,\n",
       "         'Rhodococcus phage ReqiPepy6': 107,\n",
       "         'Ralstonia phage RSB2': 52,\n",
       "         'Mycobacterium phage Thibault': 216,\n",
       "         'Mycobacterium phage JacAttac': 102,\n",
       "         'Escherichia phage EB49': 74,\n",
       "         'Mink coronavirus strain WD1127': 10,\n",
       "         'ROUT virus': 4,\n",
       "         'Merino Walk mammarenavirus': 4,\n",
       "         'Tomato leaf curl Gandhinagar virus': 6,\n",
       "         'Human papillomavirus type 179': 6,\n",
       "         'Tamus red mosaic virus': 5,\n",
       "         'Orchid fleck dichorhavirus': 6,\n",
       "         'Bush viper reovirus': 8,\n",
       "         'Madariaga virus': 11,\n",
       "         'Antheraea pernyi iflavirus': 1,\n",
       "         'Rhinovirus B14': 12,\n",
       "         'Enterovirus J': 24,\n",
       "         'Enterovirus B': 12,\n",
       "         'Rhinovirus A': 12,\n",
       "         'Enterovirus A': 12,\n",
       "         'Rhinovirus C': 12,\n",
       "         'Pithovirus sibericum': 467,\n",
       "         'University of Helsinki virus': 4,\n",
       "         'Flavobacterium phage 6H': 63,\n",
       "         'Enterovirus F': 12,\n",
       "         'Sweet potato leaf curl Shanghai virus': 6,\n",
       "         'Porcine bocavirus': 4,\n",
       "         'Dunaliella viridis virus SI2': 51,\n",
       "         'Pouzolzia golden mosaic virus': 7,\n",
       "         'Canis familiaris papillomavirus 13': 7,\n",
       "         'Dragonfly circularisvirus': 2,\n",
       "         'Dragonfly orbiculatusvirus': 2,\n",
       "         'Dragonfly cyclicusvirus': 2,\n",
       "         'Mycobacterium phage Jabbawokkie': 106,\n",
       "         'Potato black ringspot virus': 2,\n",
       "         'Porcine torovirus': 6,\n",
       "         'Yellow tailflower mild mottle virus': 4,\n",
       "         'Salmonella phage vB_SalM_SJ2': 197,\n",
       "         'Chicken megrivirus': 1,\n",
       "         'Mycobacterium phage Alsfro': 98,\n",
       "         'Nepavirus': 3,\n",
       "         'Baminivirus': 3,\n",
       "         'Niminivirus': 4,\n",
       "         'Sida yellow mosaic China virus - [Hainan 8': 6,\n",
       "         'Nilaparvata lugens honeydew virus-2': 1,\n",
       "         'Nilaparvata lugens honeydew virus-3': 1,\n",
       "         'Fur seal faeces associated circular DNA virus': 2,\n",
       "         'Cyanoramphus nest associated circular X DNA virus': 2,\n",
       "         'Cyanoramphus nest associated circular K DNA virus': 2,\n",
       "         'Turkey stool associated circular ssDNA virus': 2,\n",
       "         'Circo-like virus-Brazil hs1': 4,\n",
       "         'Tomato leaf curl Liwa virus': 6,\n",
       "         'Enhydra lutris papillomavirus 1': 7,\n",
       "         'Gaillardia latent virus': 6,\n",
       "         'Malvastrum leaf curl Guangdong betasatellite': 1,\n",
       "         'Dragonfly associated cyclovirus 1': 2,\n",
       "         'Betacoronavirus Erinaceus/VMC/DEU/2012': 12,\n",
       "         'Dragonfly associated cyclovirus 5': 2,\n",
       "         'Dragonfly associated cyclovirus 4': 2,\n",
       "         'Dragonfly associated cyclovirus 3': 3,\n",
       "         'Dragonfly associated cyclovirus 2': 2,\n",
       "         'Dragonfly associated gemykibivirus 1': 4,\n",
       "         'Dragonfly-associated circular virus 3': 4,\n",
       "         'Dragonfly-associated circular virus 2': 4,\n",
       "         'Fusarium graminearum hypovirus 1': 2,\n",
       "         'Bacillus phage vB_BanS-Tsamsa': 272,\n",
       "         'Mycobacterium phage Stinger': 95,\n",
       "         'Mycobacterium phage Akoma': 104,\n",
       "         'Mycobacterium phage DS6A': 97,\n",
       "         'Mycobacterium phage BarrelRoll': 95,\n",
       "         'Mycobacterium phage SkiPole': 102,\n",
       "         'Persimmon latent virus': 2,\n",
       "         'Amazon lily mild mottle virus': 4,\n",
       "         'Pseudomonas phage vB_PaeP_Tr60_Ab31': 69,\n",
       "         'Human cosavirus': 1,\n",
       "         'Casuarina virus': 6,\n",
       "         'Allamanda leaf mottle distortion virus': 6,\n",
       "         'Jatropha mosaic virus': 7,\n",
       "         'Porcine stool-associated circular virus 4': 2,\n",
       "         'Cyanophage P-SSP2': 56,\n",
       "         'Synechococcus phage S-RIM2 R1_1999': 210,\n",
       "         'Pseudoalteromonas phage RIO-1': 56,\n",
       "         'Synechococcus phage S-CAM8': 204,\n",
       "         'Salmonella virus iEPS5': 73,\n",
       "         'Felis catus papillomavirus 4': 7,\n",
       "         'Klebsiella phage F19': 51,\n",
       "         'Danaus plexippus plexippus iteravirus': 3,\n",
       "         'Black medic leafroll alphasatellite 1': 1,\n",
       "         'Faba bean necrotic stunt alphasatellite 2': 1,\n",
       "         'Faba bean necrotic stunt alphasatellite 1': 1,\n",
       "         'Rosavirus A2': 1,\n",
       "         'Enterovirus sp.': 1,\n",
       "         'Feline sakobuvirus A': 12,\n",
       "         'Invertebrate iridovirus 25': 177,\n",
       "         'Dolichos yellow mosaic virus': 8,\n",
       "         'Turnip crinkle virus': 5,\n",
       "         'Pelargonium chlorotic ring pattern virus': 6,\n",
       "         'Hemidesmus yellow mosaic virus': 7,\n",
       "         'Leishmania aethiopica RNA virus': 5,\n",
       "         'Tomato leaf curl Barka virus': 6,\n",
       "         'Sweet potato leaf curl Henan virus': 12,\n",
       "         'PoSCV Kor J481': 2,\n",
       "         'Helicoverpa armigera densovirus': 3,\n",
       "         'MW polyomavirus': 5,\n",
       "         'Bacillus phage Troll': 289,\n",
       "         'Duck megrivirus': 1,\n",
       "         'Serratia phage PS2': 275,\n",
       "         'Mycobacterium phage Bernal13': 60,\n",
       "         'Mycobacterium phage Seabiscuit': 94,\n",
       "         'Mycobacterium phage MosMoris': 111,\n",
       "         'Mycobacterium phage Lamina13': 96,\n",
       "         'Clostridium phage CDMH1': 84,\n",
       "         'Enterobacteria phage 9g': 83,\n",
       "         'Mycobacterium phage ZoeJ': 92,\n",
       "         'Eggplant mottled crinkle virus': 5,\n",
       "         'Beauveria bassiana victorivirus NZL/1980': 2,\n",
       "         'Cucumber leaf spot virus': 5,\n",
       "         'Guar leaf curl alphasatellite': 1,\n",
       "         'Human papillomavirus 178': 7,\n",
       "         'Escherichia phage e4/1c': 72,\n",
       "         'Enterococcus phage VD13': 88,\n",
       "         'Lactococcus phage P092': 76,\n",
       "         'Lactococcus phage P118': 80,\n",
       "         'Mycobacterium phage Hawkeye': 104,\n",
       "         'Lactococcus phage P162': 82,\n",
       "         'Lactococcus phage P078': 78,\n",
       "         'Nitrincola phage 1M3-16': 144,\n",
       "         'Pelagibacter phage HTVC010P': 64,\n",
       "         'Pelagibacter phage HTVC019P': 59,\n",
       "         'Pelagibacter phage HTVC008M': 198,\n",
       "         'Edwardsiella phage PEi21': 71,\n",
       "         'Pelagibacter phage HTVC011P': 45,\n",
       "         'Bovine astrovirus': 3,\n",
       "         'Sclerotinia sclerotiorum debilitation-associated RNA virus 2': 1,\n",
       "         'Fulmarus glacialis papillomavirus 1': 12,\n",
       "         'Pagoda yellow mosaic associated virus': 5,\n",
       "         'Fruit bat alphaherpesvirus 1': 70,\n",
       "         'Human immunodeficiency virus 1': 28,\n",
       "         'Staphylococcus virus K': 233,\n",
       "         'Vibrio phage CHOED': 91,\n",
       "         'Bacillus phage Bcp1': 229,\n",
       "         'Mycobacterium phage Jolie1': 98,\n",
       "         'Mycobacterium phage 32HC': 86,\n",
       "         'Mycobacterium phage Jolie2': 62,\n",
       "         'Mycobacterium phage Hosp': 97,\n",
       "         'Marseillevirus marseillevirus': 428,\n",
       "         'Penaeus monodon hepandensovirus 1': 3,\n",
       "         'Penaeus monodon hepandensovirus 4': 3,\n",
       "         'Aedes aegypti densovirus 2': 3,\n",
       "         'Human bocavirus 4 NI': 5,\n",
       "         'Pseudomonas phage JD024': 58,\n",
       "         'Listeria phage LMSP-25': 187,\n",
       "         'Listeria phage List-36': 174,\n",
       "         'Pseudomonas phage phiPSA1': 52,\n",
       "         'Luffa puckering and leaf distortion-associated betasatellite [India:Gurdaspur:Okra:2013': 1,\n",
       "         'Chilli leaf curl alphasatellite': 1,\n",
       "         'Cronobacter phage CR8': 269,\n",
       "         'Pseudomonas phage phiPSA2': 47,\n",
       "         'Mycobacterium phage Manad': 101,\n",
       "         'Mycobacterium phage OkiRoe': 96,\n",
       "         'Dinoroseobacter phage DFL12phi1': 86,\n",
       "         'Mycobacterium phage Pinto': 87,\n",
       "         'Mycobacterium phage Damien': 93,\n",
       "         'Simian pegivirus': 11,\n",
       "         'Pseudomonas phage vB_PaeS_SCH_Ab26': 52,\n",
       "         'Leuconostoc phage phiLNTR3': 41,\n",
       "         'Leuconostoc phage phiLN6B': 39,\n",
       "         'Leuconostoc phage phiLN12': 41,\n",
       "         'Leuconostoc phage phiLN25': 41,\n",
       "         'Leuconostoc phage phiLN34': 41,\n",
       "         'Leuconostoc phage phiLNTR2': 42,\n",
       "         'Leuconostoc phage phiLN03': 39,\n",
       "         'Staphylococcus phage DW2': 62,\n",
       "         'Roundleaf bat hepatitis B virus': 4,\n",
       "         'Horseshoe bat hepatitis B virus': 4,\n",
       "         'Tent-making bat hepatitis B virus': 4,\n",
       "         'Penguinpox virus': 242,\n",
       "         'Pigeonpox virus': 224,\n",
       "         'Falconid herpesvirus 1': 130,\n",
       "         'Citrobacter phage CR8': 57,\n",
       "         'Chicken parvovirus ABU-P1': 4,\n",
       "         'Turkey parvovirus 1078': 4,\n",
       "         'Elephantid betaherpesvirus 1': 113,\n",
       "         'Sulfitobacter phage pCB2047-C': 73,\n",
       "         'Sulfitobacter phage pCB2047-A': 72,\n",
       "         'Pitaya virus X': 5,\n",
       "         'Caulobacter virus phiCbK': 342,\n",
       "         'Caulobacter phage CcrColossus': 452,\n",
       "         'Caulobacter virus Magneto': 351,\n",
       "         'Caulobacter virus Rogue': 354,\n",
       "         'Caulobacter virus Karma': 357,\n",
       "         'Caulobacter virus Swift': 347,\n",
       "         'Bacillus phage CampHawk': 233,\n",
       "         'Bacillus phage Spock': 283,\n",
       "         'Bacillus phage Page': 50,\n",
       "         'Bacillus virus Riggi': 79,\n",
       "         'Bacillus virus Glittering': 78,\n",
       "         'Bacillus phage Staley': 113,\n",
       "         'Salmonella phage Maynard': 202,\n",
       "         'Bacillus phage BigBertha': 291,\n",
       "         'Bacillus phage Pony': 48,\n",
       "         'Bacillus phage Grass': 252,\n",
       "         'Salmonella phage Marshall': 207,\n",
       "         'Bacillus virus Blastoid': 79,\n",
       "         'Bacillus phage Slash': 111,\n",
       "         'Clavibacter phage CN1A': 78,\n",
       "         'Acinetobacter phage Petty': 45,\n",
       "         'Acinetobacter phage Presley': 95,\n",
       "         'Cronobacter phage vB_CsaM_GAP32': 546,\n",
       "         'Staphylococcus phage StauST398-1': 69,\n",
       "         'Mycobacterium phage Wanda': 240,\n",
       "         'Staphylococcus phage StauST398-4': 65,\n",
       "         'Staphylococcus phage StauST398-5': 65,\n",
       "         'Enterovirus E': 12,\n",
       "         'Cyclovirus VN': 2,\n",
       "         'Dragonfly larvae associated circular virus-1': 2,\n",
       "         'Human astrovirus BF34': 3,\n",
       "         'Pigeon adenovirus 1': 37,\n",
       "         'Dragonfly larvae associated circular virus-2': 2,\n",
       "         'Dragonfly larvae associated circular virus-3': 2,\n",
       "         'Dragonfly larvae associated circular virus-4': 2,\n",
       "         'Dragonfly larvae associated circular virus-5': 2,\n",
       "         'Dragonfly larvae associated circular virus-6': 2,\n",
       "         'Dragonfly larvae associated circular virus-7': 2,\n",
       "         'Dragonfly larvae associated circular virus-9': 2,\n",
       "         'Dragonfly larvae associated circular virus-10': 2,\n",
       "         'Dragonfly larvae associated circular virus-8': 2,\n",
       "         'Sierra Nevada virus': 6,\n",
       "         'Listeria phage LP-048': 177,\n",
       "         'Listeria phage LP-026': 114,\n",
       "         'Listeria phage LP-083-2': 189,\n",
       "         'Listeria phage LP-030-3': 73,\n",
       "         'Listeria phage LP-101': 70,\n",
       "         'Listeria phage LP-114': 116,\n",
       "         'McMurdo Ice Shelf pond-associated circular DNA virus-1': 3,\n",
       "         'McMurdo Ice Shelf pond-associated circular DNA virus-2': 4,\n",
       "         'McMurdo Ice Shelf pond-associated circular DNA virus-3': 2,\n",
       "         'McMurdo Ice Shelf pond-associated circular DNA virus-4': 3,\n",
       "         'McMurdo Ice Shelf pond-associated circular DNA virus-5': 2,\n",
       "         'McMurdo Ice Shelf pond-associated circular DNA virus-6': 3,\n",
       "         'McMurdo Ice Shelf pond-associated circular DNA virus-7': 2,\n",
       "         'McMurdo Ice Shelf pond-associated circular DNA virus-8': 3,\n",
       "         'Drosophila subobscura Nora virus': 4,\n",
       "         'Drosophila immigrans Nora virus': 4,\n",
       "         'Asterionellopsis glacialis RNA virus': 2,\n",
       "         'Mirabilis leaf curl India virus associated betasatellite': 1,\n",
       "         'Senegalese sole Iberian betanodavirus': 2,\n",
       "         'Heartland virus': 4,\n",
       "         'Umatilla virus': 10,\n",
       "         'Bovine astrovirus CH13': 3,\n",
       "         'Aedes albopictus densovirus 2': 3,\n",
       "         'Alcelaphine gammaherpesvirus 2': 70,\n",
       "         'Listeria phage LP-030-2': 69,\n",
       "         'Listeria phage LP-125': 189,\n",
       "         'Listeria phage LP-110': 113,\n",
       "         'Listeria phage LP-037': 114,\n",
       "         'Bovine gammaherpesvirus 6': 79,\n",
       "         'Citrobacter phage CR44b': 57,\n",
       "         'Faba bean necrotic yellows C7 alphasatellite': 1,\n",
       "         'Faba bean necrotic yellows C9 alphasatellite': 1,\n",
       "         'Faba bean necrotic yellows C11 alphasatellite': 1,\n",
       "         'Sulfitobacter phage phiCB2047-B': 75,\n",
       "         'Phomopsis longicolla hypovirus': 1,\n",
       "         'Prunus virus T': 3,\n",
       "         'Rose leaf curl virus': 6,\n",
       "         'Sweet potato leaf curl Guangxi virus': 6,\n",
       "         'Human circovirus VS6600022': 4,\n",
       "         'Rose leaf curl betasatellite': 1,\n",
       "         'Aureococcus anophagefferens virus': 376,\n",
       "         'Saimiriine betaherpesvirus 4': 141,\n",
       "         'Soybean cyst nematode socyvirus': 5,\n",
       "         'Cladosporium cladosporioides virus 1': 5,\n",
       "         'Staphylococcus phage 6ec': 142,\n",
       "         'Influenza C virus (C/Ann Arbor/1/50)': 9,\n",
       "         'Thogoto virus': 7,\n",
       "         'Infectious salmon anemia virus': 10,\n",
       "         'Penaeus monodon nudivirus': 115,\n",
       "         'Elephant endotheliotropic herpesvirus 5': 115,\n",
       "         'Ball python nidovirus 1': 8,\n",
       "         'Ageratum conyzoides associated symptomless alphasatellite': 1,\n",
       "         'Thermoanaerobacterium phage THSA-485A': 57,\n",
       "         'Chicken picornavirus 1': 12,\n",
       "         'Chicken picornavirus 2': 11,\n",
       "         'Chicken picornavirus 3': 11,\n",
       "         'Chicken picornavirus 4': 12,\n",
       "         'Chicken picornavirus 5': 12,\n",
       "         'Chicken gallivirus 1': 12,\n",
       "         'Porcine stool-associated circular virus 1': 2,\n",
       "         'Porcine stool-associated circular virus 7': 2,\n",
       "         'Porcine stool-associated circular virus 9': 2,\n",
       "         'Porcine stool-associated circular virus 8': 2,\n",
       "         'Porcine stool-associated circular virus 6': 2,\n",
       "         'Milk vetch dwarf C1 alphasatellite': 1,\n",
       "         'Milk vetch dwarf C3 alphasatellite': 1,\n",
       "         'Milk vetch dwarf C2 alphasatellite': 1,\n",
       "         'Synechococcus phage ACG-2014h': 221,\n",
       "         'Pseudomonas phage MP48': 50,\n",
       "         'Escherichia phage EK99P-1': 62,\n",
       "         'Escherichia phage vB_EcoS_AHS24': 81,\n",
       "         'Acinetobacter phage YMC-13-01-C62': 84,\n",
       "         'Escherichia phage vB_EcoP_PhAPEC5': 83,\n",
       "         'Listeria phage LMTA-148': 177,\n",
       "         'Escherichia phage vB_EcoS_AKS96': 74,\n",
       "         'Escherichia phage vB_EcoP_PhAPEC7': 83,\n",
       "         'Vibrio phage ICP2_2013_A_Haiti': 57,\n",
       "         'Bacillus phage Bobb': 247,\n",
       "         'Escherichia phage vB_EcoS_AHP42': 76,\n",
       "         'Escherichia phage vB_EcoM_PhAPEC2': 254,\n",
       "         'Subterranean clover stunt C2 alphasatellite': 1,\n",
       "         'Human betacoronavirus 2c EMC/2012': 37,\n",
       "         'Mink circovirus': 2,\n",
       "         'Faba bean necrotic yellows C1 alphasatellite': 3,\n",
       "         'Bufavirus-3': 4,\n",
       "         'Seal anellovirus 3': 3,\n",
       "         'Seal anellovirus 2': 3,\n",
       "         'Apodemus sylvaticus papillomavirus 1': 7,\n",
       "         'Bacillus phage BPS10C': 271,\n",
       "         'Pectobacterium phage PM1': 63,\n",
       "         'Rose leaf rosette-associated virus': 16,\n",
       "         'Microbacterium phage vB_MoxS-ISF9': 120,\n",
       "         'Erwinia phage Ea35-70': 318,\n",
       "         'Bat coronavirus CDPHE15/USA/2006': 24,\n",
       "         'Ralstonia phage RSY1': 49,\n",
       "         'Peristrophe mosaic virus': 2,\n",
       "         'Cuban alphasatellite 1': 2,\n",
       "         'Bean necrotic mosaic virus': 2,\n",
       "         'HCBI8.215 virus': 3,\n",
       "         'HCBI9.212 virus': 3,\n",
       "         'MSSI2.225 virus': 3,\n",
       "         'Halovirus VNH-1': 7,\n",
       "         'Gyrovirus GyV7-SF': 3,\n",
       "         'Botryosphaeria dothidea victorivirus 1': 2,\n",
       "         'Cimodo virus': 12,\n",
       "         'Asparagus virus 3': 10,\n",
       "         'Silurus glanis circovirus': 2,\n",
       "         'Swan circovirus': 2,\n",
       "         'Vanilla distortion mosaic virus': 1,\n",
       "         'Bokeloh bat lyssavirus': 5,\n",
       "         'Yam virus X': 5,\n",
       "         'Farmington virus': 5,\n",
       "         'Carrot thin leaf virus': 1,\n",
       "         'Maraba virus': 6,\n",
       "         'Bat Paramyxovirus Eid_hel/GH-M74a/GHA/2009': 7,\n",
       "         'Erinnyis ello granulovirus': 130,\n",
       "         'Tomato mottle wrinkle virus': 8,\n",
       "         'Equid alphaherpesvirus 3': 80,\n",
       "         'Feline morbillivirus': 6,\n",
       "         'Long Island tick rhabdovirus': 5,\n",
       "         'Fikirini rhabdovirus': 5,\n",
       "         'Kolente virus': 5,\n",
       "         'Sosuga virus': 7,\n",
       "         'Canine pneumovirus': 11,\n",
       "         'Sunshine Coast virus': 6,\n",
       "         'Rabbit astrovirus TN/2208/2010': 3,\n",
       "         'Avian avulavirus 7': 6,\n",
       "         'Tuhoko virus 2': 7,\n",
       "         'Tuhoko virus 3': 7,\n",
       "         'Cedar virus': 7,\n",
       "         'Vesicular stomatitis Alagoas virus': 5,\n",
       "         'Pike fry sprivivirus': 5,\n",
       "         'Berrimah virus': 10,\n",
       "         'Salmon aquaparamyxovirus': 9,\n",
       "         'Avian avulavirus 5': 8,\n",
       "         'Xiburema virus': 7,\n",
       "         'Avian avulavirus 12': 6,\n",
       "         'Malpais Spring vesiculovirus': 5,\n",
       "         'Shimoni bat lyssavirus': 5,\n",
       "         'Ustilaginoidea virens RNA virus M': 1,\n",
       "         'Tench rhabdovirus S64': 5,\n",
       "         'Avian avulavirus 3': 6,\n",
       "         'Avian avulavirus 8': 8,\n",
       "         'Stygiolobus rod-shaped virus': 37,\n",
       "         'Grass carp rhabdovirus V76': 5,\n",
       "         'West Caucasian bat lyssavirus': 5,\n",
       "         'Yug Bogdanovac vesiculovirus': 5,\n",
       "         'Mamastrovirus 3': 2,\n",
       "         'Mojiang virus': 9,\n",
       "         'Moussa virus': 5,\n",
       "         'Spodoptera frugiperda rhabdovirus': 6,\n",
       "         'Sclerotinia sclerotiorum negative-stranded RNA virus 1': 6,\n",
       "         'Culex tritaeniorhynchus rhabdovirus': 5,\n",
       "         'Escherichia virus T4': 278,\n",
       "         'Arthrobacter phage vB_ArS-ArV2': 68,\n",
       "         'Khujand lyssavirus': 5,\n",
       "         'Salem virus': 8,\n",
       "         'Scophthalmus maximus rhabdovirus': 7,\n",
       "         'Asian prunus virus 1': 5,\n",
       "         'Eggplant mottled dwarf nucleorhabdovirus': 7,\n",
       "         'Avian avulavirus 9': 6,\n",
       "         'Jurona vesiculovirus': 5,\n",
       "         'Arboretum almendravirus': 6,\n",
       "         'Perinet vesiculovirus': 5,\n",
       "         'Puerto Almendras virus': 6,\n",
       "         'Kimberley virus': 9,\n",
       "         'Coastal Plains virus': 9,\n",
       "         'Oak-Vale virus': 7,\n",
       "         'Malakal virus': 10,\n",
       "         'Sunguru virus': 7,\n",
       "         'Porcine respirovirus 1': 9,\n",
       "         'Achimota virus 1': 8,\n",
       "         'Achimota virus 2': 8,\n",
       "         'Niakha virus': 5,\n",
       "         'Dolphin rhabdovirus': 5,\n",
       "         'Avian avulavirus 11': 7,\n",
       "         'Lyssavirus Ozernoe': 5,\n",
       "         'Tuhoko virus 1': 7,\n",
       "         'Boiling Springs Lake RNA-DNA hybrid virus': 3,\n",
       "         'Mycobacterium phage vB_MapS_FF47': 73,\n",
       "         'Staphylococcus phage YMC/09/04/R1988': 62,\n",
       "         'Escherichia phage 4MG': 271,\n",
       "         'Vibrio phage SHOU24': 96,\n",
       "         'Geobacillus phage GBK2': 62,\n",
       "         'Synedrella leaf curl alphasatellite': 1,\n",
       "         'Middelburg virus': 2,\n",
       "         'Duck picornavirus GL/12': 1,\n",
       "         'Sugarcane white streak virus': 4,\n",
       "         'Heliconius erato iflavirus': 1,\n",
       "         'Pronghorn antelope pestivirus': 1,\n",
       "         'Atlantic salmon calicivirus': 2,\n",
       "         'Tanay virus': 3,\n",
       "         'Soybean cyst nematode virus 5': 1,\n",
       "         'Goose calicivirus': 2,\n",
       "         'Cherry twisted leaf associated virus': 7,\n",
       "         'Yerba mate alphaendornavirus': 1,\n",
       "         'Yellow oat-grass mosaic virus': 1,\n",
       "         'Rosellinia necatrix fusarivirus 1': 2,\n",
       "         'Synechococcus phage ACG-2014c': 225,\n",
       "         'Macaca fascicularis polyomavirus 1': 4,\n",
       "         'Ateles paniscus polyomavirus 1': 4,\n",
       "         'Cebus albifrons polyomavirus 1': 4,\n",
       "         'Canine bocavirus 1': 4,\n",
       "         'Ustilaginoidea virens RNA virus 1': 2,\n",
       "         'Citrus vein enation virus': 5,\n",
       "         'Stenotrophomonas phage SMA7': 10,\n",
       "         'Grapevine red blotch virus': 6,\n",
       "         'Hedyotis yellow mosaic betasatellite': 2,\n",
       "         'Caprine kobuvirus': 12,\n",
       "         'Ustilaginoidea virens RNA virus 3': 2,\n",
       "         'Enterococcus phage IME_EF3': 69,\n",
       "         'Narcissus late season yellows virus': 10,\n",
       "         'Rhizoctonia solani dsRNA virus 2': 2,\n",
       "         'Sicinivirus A': 12,\n",
       "         'Axonopus compressus streak virus': 4,\n",
       "         'Porcine stool-associated circular virus 5': 2,\n",
       "         'Equus asinus papillomavirus 1': 5,\n",
       "         'Pygoscelis adeliae papillomavirus 1': 7,\n",
       "         'Rupicapra rupicapra papillomavirus 1': 6,\n",
       "         'Mosavirus A2': 1,\n",
       "         'Salmonella phage vB_SalM_SJ3': 210,\n",
       "         'Escherichia phage FFH2': 218,\n",
       "         'Escherichia phage vB_EcoS_FFH1': 156,\n",
       "         'Bacillus phage Hoody T': 270,\n",
       "         'Bacillus phage Evoli': 294,\n",
       "         'Bacillus phage Megatron': 290,\n",
       "         'Bacillus phage Hakuna': 294,\n",
       "         'Bacillus phage CAM003': 287,\n",
       "         'Streptococcus phage K13': 53,\n",
       "         'Streptococcus phage DCC1738': 56,\n",
       "         'Streptococcus phage IC1': 49,\n",
       "         'Bacillus phage Riley': 290,\n",
       "         'Almpiwar virus': 8,\n",
       "         'Lactobacillus phage Ld25A': 51,\n",
       "         'Lactobacillus phage Ld17': 50,\n",
       "         'Lactobacillus phage Ld3': 49,\n",
       "         'Bacillus phage Waukesha92': 72,\n",
       "         'Staphylococcus phage P108': 226,\n",
       "         'Ruegeria phage DSS3-P1': 82,\n",
       "         'Rhizobium phage vB_RleM_P10VF': 257,\n",
       "         'Mesorhizobium phage vB_MloP_Lo5R7ANS': 64,\n",
       "         'Mycobacterium phage Taj': 110,\n",
       "         'Shewanella sp. phage 1/4': 235,\n",
       "         'Mycobacterium phage Soto': 98,\n",
       "         'Idiomarinaceae phage 1N2-2': 56,\n",
       "         'Salmonella phage 9NA': 84,\n",
       "         'Escherichia phage 121Q': 611,\n",
       "         'Escherichia phage ECML-134': 270,\n",
       "         'Acinetobacter phage vB_AbaP_Acibel007': 53,\n",
       "         'Shewanella sp. phage 1/41': 69,\n",
       "         'Aeromonas phage pAh6-C': 86,\n",
       "         'Acinetobacter phage vB_AbaM_Acibel004': 156,\n",
       "         'Shewanella sp. phage 1/44': 75,\n",
       "         'Enterococcus phage EfaCPT1': 69,\n",
       "         'Shewanella sp. phage 3/49': 70,\n",
       "         'Dickeya phage RC-2014': 196,\n",
       "         'Marburg marburgvirus': 14,\n",
       "         'Lloviu cuevavirus': 9,\n",
       "         'Lymantria dispar iflavirus 1': 1,\n",
       "         'Shewanella sp. phage 1/40': 236,\n",
       "         'Lizard adenovirus 2': 34,\n",
       "         'Mikumi yellow baboon virus 1': 13,\n",
       "         'Southwest baboon virus 1': 14,\n",
       "         'Idiomarinaceae phage Phi1M2-2': 65,\n",
       "         'Fako virus': 9,\n",
       "         'Human parvovirus 4 G1': 2,\n",
       "         'Penaeid shrimp infectious myonecrosis virus': 2,\n",
       "         'Hibiscus latent Singapore virus': 4,\n",
       "         'Hibiscus latent Fort Pierce virus': 4,\n",
       "         'Bidens mosaic virus': 1,\n",
       "         'Carrot Ch virus 2': 3,\n",
       "         'Carrot Ch virus 1': 3,\n",
       "         'Lilac leaf chlorosis virus': 4,\n",
       "         'Cassava Ivorian bacilliform virus': 4,\n",
       "         'Torque teno Tadarida brasiliensis virus': 3,\n",
       "         'Chickpea yellow dwarf virus': 4,\n",
       "         'Norway rat hunnivirus': 1,\n",
       "         'Norway rat pestivirus': 1,\n",
       "         'Simian adenovirus DM-2014': 34,\n",
       "         'Norway rat pegivirus': 1,\n",
       "         'Tomato yellow leaf curl Axarquia virus': 6,\n",
       "         'African swine fever virus': 159,\n",
       "         'Goutanap virus': 3,\n",
       "         'Feline astrovirus D1': 3,\n",
       "         'Lactoccocus phage WP-2': 24,\n",
       "         'Sweet potato leaf curl Sao Paulo virus': 6,\n",
       "         'Enterococcus phage IME-EFm1': 70,\n",
       "         'Po-Circo-like virus 21': 5,\n",
       "         'Po-Circo-like virus 41': 3,\n",
       "         'Po-Circo-like virus 51': 3,\n",
       "         'Circoviridae 1 LDMD-2013': 4,\n",
       "         'Circoviridae 2 LDMD-2013': 2,\n",
       "         'Bacillariodnavirus LDMD-2013': 4,\n",
       "         'Circoviridae 3 LDMD-2013': 2,\n",
       "         'Circoviridae 4 LDMD-2013': 3,\n",
       "         'Circoviridae 5 LDMD-2013': 3,\n",
       "         'Circoviridae 6 LDMD-2013': 3,\n",
       "         'Circoviridae 7 LDMD-2013': 5,\n",
       "         'Circoviridae 8 LDMD-2013': 5,\n",
       "         'Circoviridae 9 LDMD-2013': 3,\n",
       "         'Circoviridae 10 LDMD-2013': 3,\n",
       "         'Circoviridae 11 LDMD-2013': 5,\n",
       "         'Circoviridae 13 LDMD-2013': 2,\n",
       "         'Circoviridae 14 LDMD-2013': 3,\n",
       "         'Circoviridae 15 LDMD-2013': 3,\n",
       "         'Circoviridae 16 LDMD-2013': 4,\n",
       "         'Circoviridae 18 LDMD-2013': 2,\n",
       "         'Circoviridae 19 LDMD-2013': 1,\n",
       "         'Circoviridae 21 LDMD-2013': 3,\n",
       "         'Chicken orivirus 1': 1,\n",
       "         'Feline cyclovirus': 2,\n",
       "         'Penicillium roqueforti ssRNA mycovirus 1': 2,\n",
       "         'Staphylococcus phage phiSa119': 68,\n",
       "         'Staphylococcus phage MCE-2014': 204,\n",
       "         'Staphylococcus phage Team1': 217,\n",
       "         'Caulobacter phage Cr30': 286,\n",
       "         'Bacillus phage CP-51': 221,\n",
       "         'Shigella phage POCJ13': 79,\n",
       "         'Shigella phage Shf125875': 267,\n",
       "         'Listeria phage WIL-1': 38,\n",
       "         'Escherichia phage ECML-117': 94,\n",
       "         'Enterobacteria phage J8-65': 47,\n",
       "         'Escherichia phage ECML-4': 198,\n",
       "         'Enterococcus phage EFC-1': 59,\n",
       "         'Staphylococcus phage vB_SepS_SEP9': 129,\n",
       "         'Shigella phage pSb-1': 103,\n",
       "         'Yersinia phage vB_YenP_AP5': 45,\n",
       "         'Jatropha leaf crumple virus': 7,\n",
       "         'Torque teno mini virus ALA22': 3,\n",
       "         'Torque teno mini virus ALH8': 2,\n",
       "         'Faeces associated gemycircularvirus 12': 2,\n",
       "         'Faeces associated gemycircularvirus 11': 2,\n",
       "         'Faeces associated gemycircularvirus 10': 2,\n",
       "         'Blackbird associated gemykibivirus 1': 2,\n",
       "         'Black robin associated gemykibivirus 1': 2,\n",
       "         'Faeces associated gemycircularvirus 7': 2,\n",
       "         'Faeces associated gemycircularvirus 6': 2,\n",
       "         'Faeces associated gemycircularvirus 5': 2,\n",
       "         'Faeces associated gemycircularvirus 4': 2,\n",
       "         'Faeces associated gemycircularvirus 3': 2,\n",
       "         'Faeces associated gemycircularvirus 2': 2,\n",
       "         'Baboon endogenous virus strain M7': 13,\n",
       "         'Laodelphax striatellus picorna-like virus 2': 1,\n",
       "         'Garlic virus B': 6,\n",
       "         'Adeno-associated virus - 2': 9,\n",
       "         'Curionopolis virus': 8,\n",
       "         'Escherichia phage vB_EcoM_112': 279,\n",
       "         'Bovine polyomavirus 2': 6,\n",
       "         'Salmonella phage SE2': 61,\n",
       "         'Asparagus virus 1': 1,\n",
       "         'Vibrio phage phi-A318': 46,\n",
       "         'Raccoon dog amdovirus': 5,\n",
       "         'Enterobacteria phage fd': 10,\n",
       "         'Shigella phage pSs-1': 266,\n",
       "         'Switchgrass mosaic-associated virus 1': 4,\n",
       "         'Sauropus yellowing virus': 6,\n",
       "         'Dendrolimus punctatus cypovirus 22': 16,\n",
       "         'Chum salmon reovirus CS': 9,\n",
       "         'Chaetoceros tenuissimus RNA virus type-II': 2,\n",
       "         'Tortoise picornavirus': 13,\n",
       "         'Slow loris parvovirus 1': 2,\n",
       "         'Yellow baboon polyomavirus 1': 5,\n",
       "         'Delphinus delphis polyomavirus 1': 5,\n",
       "         'Merkel cell polyomavirus': 4,\n",
       "         'Salmonella phage SETP7': 67,\n",
       "         'Salmonella phage L13': 28,\n",
       "         'Murine polyomavirus strain BG': 6,\n",
       "         'Dromedary stool-associated circular ssDNA virus': 3,\n",
       "         'Cosavirus JMY-2014': 1,\n",
       "         'Parapoxvirus red deer/HL953': 130,\n",
       "         'Catharanthus yellow mosaic virus': 6,\n",
       "         'Psittacine adenovirus 3': 29,\n",
       "         'Lagenaria siceraria endornavirus-California': 1,\n",
       "         'Synechococcus phage metaG-MbCM1': 234,\n",
       "         'Vibrio phage X29': 67,\n",
       "         'Tadarida brasiliensis polyomavirus 1': 5,\n",
       "         'Microviridae IME-16': 7,\n",
       "         'Enterobacteria phage P88': 53,\n",
       "         'Tadarida brasiliensis polyomavirus 2': 5,\n",
       "         'Wenzhou mammarenavirus': 4,\n",
       "         'Pelargonium line pattern virus': 6,\n",
       "         'Alternaria brassicicola betaendornavirus 1': 1,\n",
       "         'Erwinia phage Ea9-2': 94,\n",
       "         'Phomopsis vexans RNA virus': 2,\n",
       "         'Human polyomavirus 6': 5,\n",
       "         'Human polyomavirus 7': 5,\n",
       "         'Elderberry latent virus': 5,\n",
       "         'Bromus-associated circular DNA virus 1': 4,\n",
       "         'Bromus-associated circular DNA virus 2': 4,\n",
       "         'Bromus-associated circular DNA virus 4': 3,\n",
       "         'Bovine picornavirus': 1,\n",
       "         'Thaumetopoea pityocampa iflavirus 1': 1,\n",
       "         'Human smacovirus 1': 2,\n",
       "         'Escherichia phage ECBP1': 82,\n",
       "         'Escherichia phage ECBP2': 120,\n",
       "         'Sweet potato leaf curl Henan4 virus': 6,\n",
       "         'Escherichia phage RB3': 273,\n",
       "         'Salmonella virus Chi': 75,\n",
       "         'Enterobacteria phage RB27': 271,\n",
       "         'Ralstonia phage RS603': 13,\n",
       "         'Salmonella phage LSPA1': 58,\n",
       "         'San Miguel sea lion virus 8': 3,\n",
       "         'Bromus-associated circular DNA virus 3': 2,\n",
       "         'Trifolium-associated circular DNA virus 1': 3,\n",
       "         'Oxalis yellow vein virus': 6,\n",
       "         'Black howler monkey smacovirus': 2,\n",
       "         'Chimpanzee smacovirus': 2,\n",
       "         'Gorilla smacovirus': 2,\n",
       "         'Lemur smacovirus': 2,\n",
       "         'Porcine parvovirus 6': 2,\n",
       "         'Lelliottia phage phD2B': 49,\n",
       "         'Cangyuan orthoreovirus': 10,\n",
       "         'Influenza A virus (A/New York/392/2004(H3N2))': 14,\n",
       "         'Enterobacteria phage GEC-3S': 277,\n",
       "         'Leopards Hill virus': 3,\n",
       "         'Influenza A virus (A/Shanghai/02/2013(H7N9))': 14,\n",
       "         'Condylorrhiza vestigialis MNPV': 138,\n",
       "         'Gentian ovary ringspot virus': 7,\n",
       "         'Murine mastadenovirus A': 26,\n",
       "         'Pseudomonas phage Pf1': 15,\n",
       "         'Japanese eel endothelial cells-infecting virus': 14,\n",
       "         'Euphorbia yellow mosaic virus': 6,\n",
       "         'Rhynchosia golden mosaic Yucatan virus': 6,\n",
       "         'Tomato leaf curl Nigeria virus-[Nigeria:2006': 6,\n",
       "         'Pedilanthus leaf curl virus': 12,\n",
       "         'Bhendi yellow vein Bhubhaneswar virus': 7,\n",
       "         'Wissadula golden mosaic virus': 7,\n",
       "         'Moroccan pepper virus': 6,\n",
       "         'Pothos latent virus': 5,\n",
       "         'Possum enterovirus W1': 12,\n",
       "         'Enterovirus D': 14,\n",
       "         'Enterovirus H': 12,\n",
       "         'Beet curly top virus': 6,\n",
       "         'Gossypium darwinii symptomless virus': 6,\n",
       "         'Lucerne transient streak virus': 7,\n",
       "         'Velvet tobacco mottle virus': 7,\n",
       "         'Imperata yellow mottle virus': 7,\n",
       "         'Sowbane mosaic virus': 7,\n",
       "         'Cocksfoot mottle virus': 9,\n",
       "         'Subterranean clover mottle virus': 9,\n",
       "         'Southern cowpea mosaic virus': 13,\n",
       "         'Eilat virus': 3,\n",
       "         'Aura virus': 14,\n",
       "         'Southern elephant seal virus': 5,\n",
       "         'Bebaru virus': 3,\n",
       "         'Whataroa virus': 5,\n",
       "         'Porcine epidemic diarrhea virus': 19,\n",
       "         'Barmah Forest virus': 13,\n",
       "         'Enterobacteria phage phiX174 sensu lato': 11,\n",
       "         'Epsilonpapillomavirus 1': 6,\n",
       "         'Cosavirus D': 12,\n",
       "         'Human cosavirus B': 12,\n",
       "         'Cosavirus E': 12,\n",
       "         'Rodent hepacivirus': 11,\n",
       "         'Canna yellow streak virus': 12,\n",
       "         'Turkey astrovirus 2': 3,\n",
       "         'Ugandan cassava brown streak virus': 12,\n",
       "         'Sheeppox virus': 148,\n",
       "         'Rabbit fibroma virus': 165,\n",
       "         'Bidens mottle virus': 12,\n",
       "         'Tomato leaf curl Patna betasatellite': 1,\n",
       "         'Okra leaf curl virus': 6,\n",
       "         'Fritillary virus Y': 12,\n",
       "         'Grapevine Syrah virus 1': 5,\n",
       "         'Sugarcane streak mosaic virus': 11,\n",
       "         'Triticum mosaic virus': 11,\n",
       "         'Hollyhock yellow vein mosaic virus': 6,\n",
       "         'Persea americana alphaendornavirus 1': 1,\n",
       "         'Porcine bocavirus 5/JS677': 4,\n",
       "         'Yambean mosaic virus': 12,\n",
       "         'Potato yellow dwarf nucleorhabdovirus': 7,\n",
       "         'Chilli ringspot virus': 12,\n",
       "         'Hardenbergia mosaic virus': 12,\n",
       "         'Tobacco yellow crinkle virus': 7,\n",
       "         'Banana streak IM virus': 3,\n",
       "         'Banana streak CA virus': 3,\n",
       "         'Banana streak UM virus': 3,\n",
       "         'Banana streak UL virus': 3,\n",
       "         'Banana streak UI virus': 3,\n",
       "         'Banana streak UA virus': 3,\n",
       "         'Merremia mosaic Puerto Rico virus': 6,\n",
       "         'Rhynchosia mild mosaic virus': 6,\n",
       "         'Bean yellow mosaic Mexico virus': 4,\n",
       "         'Celery mosaic virus': 12,\n",
       "         'Grapevine berry inner necrosis virus': 3,\n",
       "         'Santeuil nodavirus': 3,\n",
       "         'Lupinus mosaic virus': 12,\n",
       "         'Malvastrum yellow mosaic Cameroon alphasatellite': 1,\n",
       "         'Okra yellow crinkle Cameroon alphasatellite [CM:Lys1sp2:09': 1,\n",
       "         'Apium virus Y': 12,\n",
       "         'Mud crab virus': 2,\n",
       "         'Sweet potato virus C': 11,\n",
       "         'Porcine parvovirus 4': 3,\n",
       "         'Torque teno virus 2': 2,\n",
       "         'Brugmansia suaveolens mottle virus': 12,\n",
       "         'Rotavirus D chicken/05V0049/DEU/2005': 11,\n",
       "         'Schlumbergera virus X': 5,\n",
       "         'East African cassava mosaic Kenya virus': 8,\n",
       "         'Lettuce big-vein associated varicosavirus': 6,\n",
       "         'Munia coronavirus HKU13-3514': 9,\n",
       "         'Thrush coronavirus HKU12-600': 9,\n",
       "         'Hosta virus X': 5,\n",
       "         'Hippeastrum latent virus': 6,\n",
       "         'Kluyvera phage Kvp1': 47,\n",
       "         'Zantedeschia mild mosaic virus': 12,\n",
       "         'Anagyris vein yellowing virus': 3,\n",
       "         'Narcissus yellow stripe virus': 12,\n",
       "         'Plantago mottle virus': 3,\n",
       "         'Nemesia ring necrosis virus': 3,\n",
       "         'Scrophularia mottle virus': 3,\n",
       "         'Grapevine Algerian latent virus': 5,\n",
       "         'Lettuce yellow mottle virus': 6,\n",
       "         'Anopheles gambiae densovirus': 3,\n",
       "         'Algerian watermelon mosaic virus': 12,\n",
       "         'Verbena virus Y': 12,\n",
       "         'Pepper leaf curl Yunnan virus-[YN323': 6,\n",
       "         'Hop mosaic virus': 6,\n",
       "         'Squash vein yellowing virus': 12,\n",
       "         'Panax virus Y': 12,\n",
       "         'Freesia mosaic virus': 12,\n",
       "         'Sunflower chlorotic mottle virus': 12,\n",
       "         'Sunn hemp leaf distortion virus': 2,\n",
       "         'Emilia yellow vein virus-associated DNA beta': 1,\n",
       "         'Ageratum leaf curl Cameroon betasatellite': 1,\n",
       "         'African oil palm ringspot virus': 5,\n",
       "         'Tomato leaf curl Patna virus': 7,\n",
       "         'Gossypium punctatum mild leaf curl virus': 8,\n",
       "         'Rudbeckia flower distortion virus': 7,\n",
       "         'Pepper veinal mottle virus': 12,\n",
       "         'Asparagus virus 2': 5,\n",
       "         'Macroptilium golden mosaic virus': 6,\n",
       "         'Brugmansia mild mottle virus': 4,\n",
       "         'Macaque simian foamy virus': 5,\n",
       "         'African green monkey simian foamy virus': 5,\n",
       "         ...})"
      ]
     },
     "execution_count": 122,
     "metadata": {},
     "output_type": "execute_result"
    }
   ],
   "source": [
    "from collections import Counter\n",
    "\n",
    "freq = Counter(viral_names)\n",
    "freq"
   ]
  },
  {
   "cell_type": "code",
   "execution_count": 121,
   "metadata": {},
   "outputs": [
    {
     "data": {
      "text/plain": [
       "6580"
      ]
     },
     "execution_count": 121,
     "metadata": {},
     "output_type": "execute_result"
    }
   ],
   "source": [
    "#number of unique viral \n",
    "virnum = list(set(viral_names))\n",
    "len(virnum)"
   ]
  },
  {
   "cell_type": "code",
   "execution_count": null,
   "metadata": {
    "collapsed": true
   },
   "outputs": [],
   "source": []
  },
  {
   "cell_type": "code",
   "execution_count": null,
   "metadata": {
    "collapsed": true
   },
   "outputs": [],
   "source": []
  },
  {
   "cell_type": "code",
   "execution_count": 13,
   "metadata": {
    "collapsed": true
   },
   "outputs": [],
   "source": [
    "df = pd.DataFrame({'IDs': ids, \n",
    "                   'Viral Names': viral_names, \n",
    "                   'CompleteRecord': names}, columns=['IDs','Viral Names', 'Complete Record'])"
   ]
  },
  {
   "cell_type": "code",
   "execution_count": 107,
   "metadata": {},
   "outputs": [
    {
     "data": {
      "text/html": [
       "<div>\n",
       "<style>\n",
       "    .dataframe thead tr:only-child th {\n",
       "        text-align: right;\n",
       "    }\n",
       "\n",
       "    .dataframe thead th {\n",
       "        text-align: left;\n",
       "    }\n",
       "\n",
       "    .dataframe tbody tr th {\n",
       "        vertical-align: top;\n",
       "    }\n",
       "</style>\n",
       "<table border=\"1\" class=\"dataframe\">\n",
       "  <thead>\n",
       "    <tr style=\"text-align: right;\">\n",
       "      <th></th>\n",
       "      <th>IDs</th>\n",
       "      <th>Viral Names</th>\n",
       "      <th>Complete Record</th>\n",
       "    </tr>\n",
       "  </thead>\n",
       "  <tbody>\n",
       "    <tr>\n",
       "      <th>0</th>\n",
       "      <td>YP_008320337.1</td>\n",
       "      <td>Paenibacillus phage phiIBB_Pl23</td>\n",
       "      <td>YP_008320337.1 terminase small subunit [Paenib...</td>\n",
       "    </tr>\n",
       "    <tr>\n",
       "      <th>1</th>\n",
       "      <td>YP_008320338.1</td>\n",
       "      <td>Paenibacillus phage phiIBB_Pl23</td>\n",
       "      <td>YP_008320338.1 terminase large subunit [Paenib...</td>\n",
       "    </tr>\n",
       "    <tr>\n",
       "      <th>2</th>\n",
       "      <td>YP_008320339.1</td>\n",
       "      <td>Paenibacillus phage phiIBB_Pl23</td>\n",
       "      <td>YP_008320339.1 portal protein [Paenibacillus p...</td>\n",
       "    </tr>\n",
       "    <tr>\n",
       "      <th>3</th>\n",
       "      <td>YP_008320340.1</td>\n",
       "      <td>Paenibacillus phage phiIBB_Pl23</td>\n",
       "      <td>YP_008320340.1 Clp protease-like protein [Paen...</td>\n",
       "    </tr>\n",
       "    <tr>\n",
       "      <th>4</th>\n",
       "      <td>YP_008320341.1</td>\n",
       "      <td>Paenibacillus phage phiIBB_Pl23</td>\n",
       "      <td>YP_008320341.1 major capsid protein [Paenibaci...</td>\n",
       "    </tr>\n",
       "  </tbody>\n",
       "</table>\n",
       "</div>"
      ],
      "text/plain": [
       "              IDs                      Viral Names  \\\n",
       "0  YP_008320337.1  Paenibacillus phage phiIBB_Pl23   \n",
       "1  YP_008320338.1  Paenibacillus phage phiIBB_Pl23   \n",
       "2  YP_008320339.1  Paenibacillus phage phiIBB_Pl23   \n",
       "3  YP_008320340.1  Paenibacillus phage phiIBB_Pl23   \n",
       "4  YP_008320341.1  Paenibacillus phage phiIBB_Pl23   \n",
       "\n",
       "                                     Complete Record  \n",
       "0  YP_008320337.1 terminase small subunit [Paenib...  \n",
       "1  YP_008320338.1 terminase large subunit [Paenib...  \n",
       "2  YP_008320339.1 portal protein [Paenibacillus p...  \n",
       "3  YP_008320340.1 Clp protease-like protein [Paen...  \n",
       "4  YP_008320341.1 major capsid protein [Paenibaci...  "
      ]
     },
     "execution_count": 107,
     "metadata": {},
     "output_type": "execute_result"
    }
   ],
   "source": [
    "df.head()"
   ]
  },
  {
   "cell_type": "markdown",
   "metadata": {},
   "source": [
    "### Add Hit by Protein ID "
   ]
  },
  {
   "cell_type": "code",
   "execution_count": 14,
   "metadata": {
    "collapsed": true
   },
   "outputs": [],
   "source": [
    "df['Virulence'] = [1 if x in uniq_hits else 0 for x in df['IDs']]"
   ]
  },
  {
   "cell_type": "code",
   "execution_count": 128,
   "metadata": {
    "collapsed": true
   },
   "outputs": [],
   "source": [
    "import pickle\n",
    "pickle.dump(df, open('Virulance_Dataframe.p', 'wb'))"
   ]
  },
  {
   "cell_type": "code",
   "execution_count": 149,
   "metadata": {},
   "outputs": [
    {
     "data": {
      "text/plain": [
       "15389"
      ]
     },
     "execution_count": 149,
     "metadata": {},
     "output_type": "execute_result"
    }
   ],
   "source": [
    "## Group by\n",
    "test2 = df.groupby('Viral Names').sum()\n",
    "sum(test2.Virulence)"
   ]
  },
  {
   "cell_type": "markdown",
   "metadata": {
    "collapsed": true
   },
   "source": [
    "### Filter Viral Names by Phages"
   ]
  },
  {
   "cell_type": "code",
   "execution_count": 15,
   "metadata": {
    "collapsed": true
   },
   "outputs": [],
   "source": [
    "y = df['Viral Names'].str.contains('phage')"
   ]
  },
  {
   "cell_type": "code",
   "execution_count": 16,
   "metadata": {
    "collapsed": true
   },
   "outputs": [],
   "source": [
    "df2=df[y]"
   ]
  },
  {
   "cell_type": "code",
   "execution_count": 146,
   "metadata": {},
   "outputs": [
    {
     "data": {
      "text/plain": [
       "155606"
      ]
     },
     "execution_count": 146,
     "metadata": {},
     "output_type": "execute_result"
    }
   ],
   "source": [
    "## 155606/252202 = 62.70%\n",
    "len(df2)"
   ]
  },
  {
   "cell_type": "code",
   "execution_count": 17,
   "metadata": {
    "collapsed": true
   },
   "outputs": [],
   "source": [
    "## Group by\n",
    "test = df2.groupby('Viral Names').sum()"
   ]
  },
  {
   "cell_type": "code",
   "execution_count": 228,
   "metadata": {},
   "outputs": [
    {
     "data": {
      "text/plain": [
       "1510"
      ]
     },
     "execution_count": 228,
     "metadata": {},
     "output_type": "execute_result"
    }
   ],
   "source": [
    "len(test)"
   ]
  },
  {
   "cell_type": "code",
   "execution_count": 148,
   "metadata": {},
   "outputs": [
    {
     "data": {
      "text/plain": [
       "9816"
      ]
     },
     "execution_count": 148,
     "metadata": {},
     "output_type": "execute_result"
    }
   ],
   "source": [
    "sum(test.Virulence)"
   ]
  },
  {
   "cell_type": "markdown",
   "metadata": {},
   "source": []
  },
  {
   "cell_type": "code",
   "execution_count": null,
   "metadata": {
    "collapsed": true
   },
   "outputs": [],
   "source": [
    "import matplotlib.pyplot as plt\n",
    "import matplotlib as mpl\n",
    "%matplotlib inline\n",
    "items = test.Virulence\n",
    "plt.xkcd()\n",
    "plt.boxplot(items)"
   ]
  },
  {
   "cell_type": "code",
   "execution_count": 12,
   "metadata": {
    "collapsed": true
   },
   "outputs": [],
   "source": [
    "zeros_in_test = test[test.Virulence == 0]\n",
    "low_count = test[(test.Virulence >= 1) & (test.Virulence <= 10)]\n",
    "tens_count = test[(test.Virulence > 10) & (test.Virulence <= 100)]"
   ]
  },
  {
   "cell_type": "code",
   "execution_count": 15,
   "metadata": {},
   "outputs": [
    {
     "data": {
      "text/plain": [
       "84"
      ]
     },
     "execution_count": 15,
     "metadata": {},
     "output_type": "execute_result"
    }
   ],
   "source": [
    "len(zeros_in_test)"
   ]
  },
  {
   "cell_type": "code",
   "execution_count": 13,
   "metadata": {},
   "outputs": [
    {
     "data": {
      "text/plain": [
       "1147"
      ]
     },
     "execution_count": 13,
     "metadata": {},
     "output_type": "execute_result"
    }
   ],
   "source": [
    "len(low_count)"
   ]
  },
  {
   "cell_type": "code",
   "execution_count": 14,
   "metadata": {},
   "outputs": [
    {
     "data": {
      "text/plain": [
       "279"
      ]
     },
     "execution_count": 14,
     "metadata": {},
     "output_type": "execute_result"
    }
   ],
   "source": [
    "len(tens_count)"
   ]
  },
  {
   "cell_type": "code",
   "execution_count": null,
   "metadata": {
    "collapsed": true
   },
   "outputs": [],
   "source": []
  },
  {
   "cell_type": "code",
   "execution_count": null,
   "metadata": {
    "collapsed": true
   },
   "outputs": [],
   "source": []
  },
  {
   "cell_type": "code",
   "execution_count": 18,
   "metadata": {
    "collapsed": true
   },
   "outputs": [],
   "source": [
    "## Group by Bacterial Genus\n",
    "genus_name = test.index\n",
    "demo2 = [x.split(' ',1)[0] for x in genus_name]"
   ]
  },
  {
   "cell_type": "code",
   "execution_count": 196,
   "metadata": {},
   "outputs": [
    {
     "data": {
      "text/plain": [
       "1510"
      ]
     },
     "execution_count": 196,
     "metadata": {},
     "output_type": "execute_result"
    }
   ],
   "source": [
    "len(demo2)"
   ]
  },
  {
   "cell_type": "code",
   "execution_count": 19,
   "metadata": {
    "collapsed": true
   },
   "outputs": [],
   "source": [
    "test['Genus'] = demo2"
   ]
  },
  {
   "cell_type": "raw",
   "metadata": {
    "collapsed": true
   },
   "source": []
  },
  {
   "cell_type": "code",
   "execution_count": 20,
   "metadata": {},
   "outputs": [
    {
     "data": {
      "text/html": [
       "<div>\n",
       "<style>\n",
       "    .dataframe thead tr:only-child th {\n",
       "        text-align: right;\n",
       "    }\n",
       "\n",
       "    .dataframe thead th {\n",
       "        text-align: left;\n",
       "    }\n",
       "\n",
       "    .dataframe tbody tr th {\n",
       "        vertical-align: top;\n",
       "    }\n",
       "</style>\n",
       "<table border=\"1\" class=\"dataframe\">\n",
       "  <thead>\n",
       "    <tr style=\"text-align: right;\">\n",
       "      <th></th>\n",
       "      <th>Avg Number of Virulent Matches</th>\n",
       "    </tr>\n",
       "    <tr>\n",
       "      <th>Genus</th>\n",
       "      <th></th>\n",
       "    </tr>\n",
       "  </thead>\n",
       "  <tbody>\n",
       "    <tr>\n",
       "      <th>Aureococcus</th>\n",
       "      <td>41.000000</td>\n",
       "    </tr>\n",
       "    <tr>\n",
       "      <th>Brevibacillus</th>\n",
       "      <td>18.833333</td>\n",
       "    </tr>\n",
       "    <tr>\n",
       "      <th>Prochlorococcus</th>\n",
       "      <td>14.666667</td>\n",
       "    </tr>\n",
       "    <tr>\n",
       "      <th>Bacillus</th>\n",
       "      <td>14.414634</td>\n",
       "    </tr>\n",
       "    <tr>\n",
       "      <th>Dickeya</th>\n",
       "      <td>14.000000</td>\n",
       "    </tr>\n",
       "  </tbody>\n",
       "</table>\n",
       "</div>"
      ],
      "text/plain": [
       "                 Avg Number of Virulent Matches\n",
       "Genus                                          \n",
       "Aureococcus                           41.000000\n",
       "Brevibacillus                         18.833333\n",
       "Prochlorococcus                       14.666667\n",
       "Bacillus                              14.414634\n",
       "Dickeya                               14.000000"
      ]
     },
     "execution_count": 20,
     "metadata": {},
     "output_type": "execute_result"
    }
   ],
   "source": [
    "Virulence_Avg = test.groupby('Genus').mean()\n",
    "Virulence_Avg = Virulence_Avg.sort_values(by=['Virulence'], ascending=False)\n",
    "Virulence_Avg.columns = ['Avg Number of Virulent Matches']\n",
    "Virulence_Avg.head()"
   ]
  },
  {
   "cell_type": "code",
   "execution_count": 21,
   "metadata": {},
   "outputs": [
    {
     "data": {
      "text/html": [
       "<div>\n",
       "<style>\n",
       "    .dataframe thead tr:only-child th {\n",
       "        text-align: right;\n",
       "    }\n",
       "\n",
       "    .dataframe thead th {\n",
       "        text-align: left;\n",
       "    }\n",
       "\n",
       "    .dataframe tbody tr th {\n",
       "        vertical-align: top;\n",
       "    }\n",
       "</style>\n",
       "<table border=\"1\" class=\"dataframe\">\n",
       "  <thead>\n",
       "    <tr style=\"text-align: right;\">\n",
       "      <th></th>\n",
       "      <th>Number of Phages in Genus</th>\n",
       "    </tr>\n",
       "    <tr>\n",
       "      <th>Genus</th>\n",
       "      <th></th>\n",
       "    </tr>\n",
       "  </thead>\n",
       "  <tbody>\n",
       "    <tr>\n",
       "      <th>Mycobacterium</th>\n",
       "      <td>249</td>\n",
       "    </tr>\n",
       "    <tr>\n",
       "      <th>Pseudomonas</th>\n",
       "      <td>112</td>\n",
       "    </tr>\n",
       "    <tr>\n",
       "      <th>Escherichia</th>\n",
       "      <td>92</td>\n",
       "    </tr>\n",
       "    <tr>\n",
       "      <th>Bacillus</th>\n",
       "      <td>82</td>\n",
       "    </tr>\n",
       "    <tr>\n",
       "      <th>Salmonella</th>\n",
       "      <td>67</td>\n",
       "    </tr>\n",
       "  </tbody>\n",
       "</table>\n",
       "</div>"
      ],
      "text/plain": [
       "               Number of Phages in Genus\n",
       "Genus                                   \n",
       "Mycobacterium                        249\n",
       "Pseudomonas                          112\n",
       "Escherichia                           92\n",
       "Bacillus                              82\n",
       "Salmonella                            67"
      ]
     },
     "execution_count": 21,
     "metadata": {},
     "output_type": "execute_result"
    }
   ],
   "source": [
    "Number_of_phages = test.groupby('Genus').count()\n",
    "Number_of_phages = Number_of_phages.sort_values(by=['Virulence'], ascending=False)\n",
    "Number_of_phages.columns = ['Number of Phages in Genus']\n",
    "Number_of_phages.head()"
   ]
  },
  {
   "cell_type": "code",
   "execution_count": null,
   "metadata": {
    "collapsed": true
   },
   "outputs": [],
   "source": []
  },
  {
   "cell_type": "code",
   "execution_count": 22,
   "metadata": {},
   "outputs": [
    {
     "data": {
      "text/plain": [
       "13"
      ]
     },
     "execution_count": 22,
     "metadata": {},
     "output_type": "execute_result"
    }
   ],
   "source": [
    "### Number of Viruses over 30 in Genus\n",
    "x = Number_of_phages[Number_of_phages['Number of Phages in Genus']>=30]\n",
    "len(x)"
   ]
  },
  {
   "cell_type": "code",
   "execution_count": 23,
   "metadata": {
    "collapsed": true
   },
   "outputs": [],
   "source": [
    "abundant_phages = x.index"
   ]
  },
  {
   "cell_type": "code",
   "execution_count": 24,
   "metadata": {},
   "outputs": [
    {
     "data": {
      "text/html": [
       "<div>\n",
       "<style>\n",
       "    .dataframe thead tr:only-child th {\n",
       "        text-align: right;\n",
       "    }\n",
       "\n",
       "    .dataframe thead th {\n",
       "        text-align: left;\n",
       "    }\n",
       "\n",
       "    .dataframe tbody tr th {\n",
       "        vertical-align: top;\n",
       "    }\n",
       "</style>\n",
       "<table border=\"1\" class=\"dataframe\">\n",
       "  <thead>\n",
       "    <tr style=\"text-align: right;\">\n",
       "      <th></th>\n",
       "      <th>Avg Number of Virulent Matches</th>\n",
       "    </tr>\n",
       "    <tr>\n",
       "      <th>Genus</th>\n",
       "      <th></th>\n",
       "    </tr>\n",
       "  </thead>\n",
       "  <tbody>\n",
       "    <tr>\n",
       "      <th>Bacillus</th>\n",
       "      <td>14.414634</td>\n",
       "    </tr>\n",
       "    <tr>\n",
       "      <th>Staphylococcus</th>\n",
       "      <td>9.965517</td>\n",
       "    </tr>\n",
       "    <tr>\n",
       "      <th>Lactobacillus</th>\n",
       "      <td>8.424242</td>\n",
       "    </tr>\n",
       "    <tr>\n",
       "      <th>Escherichia</th>\n",
       "      <td>7.543478</td>\n",
       "    </tr>\n",
       "    <tr>\n",
       "      <th>Streptococcus</th>\n",
       "      <td>6.953488</td>\n",
       "    </tr>\n",
       "    <tr>\n",
       "      <th>Salmonella</th>\n",
       "      <td>6.507463</td>\n",
       "    </tr>\n",
       "    <tr>\n",
       "      <th>Enterobacteria</th>\n",
       "      <td>5.677966</td>\n",
       "    </tr>\n",
       "    <tr>\n",
       "      <th>Mycobacterium</th>\n",
       "      <td>5.542169</td>\n",
       "    </tr>\n",
       "    <tr>\n",
       "      <th>Vibrio</th>\n",
       "      <td>5.272727</td>\n",
       "    </tr>\n",
       "    <tr>\n",
       "      <th>Gordonia</th>\n",
       "      <td>5.000000</td>\n",
       "    </tr>\n",
       "    <tr>\n",
       "      <th>Lactococcus</th>\n",
       "      <td>4.485714</td>\n",
       "    </tr>\n",
       "    <tr>\n",
       "      <th>Pseudomonas</th>\n",
       "      <td>3.866071</td>\n",
       "    </tr>\n",
       "    <tr>\n",
       "      <th>Propionibacterium</th>\n",
       "      <td>2.634146</td>\n",
       "    </tr>\n",
       "  </tbody>\n",
       "</table>\n",
       "</div>"
      ],
      "text/plain": [
       "                   Avg Number of Virulent Matches\n",
       "Genus                                            \n",
       "Bacillus                                14.414634\n",
       "Staphylococcus                           9.965517\n",
       "Lactobacillus                            8.424242\n",
       "Escherichia                              7.543478\n",
       "Streptococcus                            6.953488\n",
       "Salmonella                               6.507463\n",
       "Enterobacteria                           5.677966\n",
       "Mycobacterium                            5.542169\n",
       "Vibrio                                   5.272727\n",
       "Gordonia                                 5.000000\n",
       "Lactococcus                              4.485714\n",
       "Pseudomonas                              3.866071\n",
       "Propionibacterium                        2.634146"
      ]
     },
     "execution_count": 24,
     "metadata": {},
     "output_type": "execute_result"
    }
   ],
   "source": [
    "Abundant_df = Virulence_Avg[(Virulence_Avg.index).isin(abundant_phages)]\n",
    "Abundant_df"
   ]
  },
  {
   "cell_type": "code",
   "execution_count": null,
   "metadata": {
    "collapsed": true
   },
   "outputs": [],
   "source": []
  },
  {
   "cell_type": "code",
   "execution_count": null,
   "metadata": {
    "collapsed": true
   },
   "outputs": [],
   "source": []
  },
  {
   "cell_type": "code",
   "execution_count": 98,
   "metadata": {},
   "outputs": [
    {
     "name": "stdout",
     "output_type": "stream",
     "text": [
      "Shaprio-Wilks Test of Normality of Bacillus Virulent Genes p-value = 0.0100819077343\n",
      "Shaprio-Wilks Test of Normality of Staphylococcus Virulent Genes p-value = 0.000621999613941\n",
      "Shaprio-Wilks Test of Normality of Lactobacillus Virulent Genes p-value = 0.168927758932\n",
      "Shaprio-Wilks Test of Normality of Escherichia Virulent Genes p-value = 4.39726392187e-07\n",
      "Shaprio-Wilks Test of Normality of Streptococcus Virulent Genes p-value = 0.529277861118\n",
      "Shaprio-Wilks Test of Normality of Salmonella Virulent Genes p-value = 0.0118698384613\n",
      "Shaprio-Wilks Test of Normality of Enterobacteria Virulent Genes p-value = 9.23852257984e-06\n",
      "Shaprio-Wilks Test of Normality of Mycobacterium Virulent Genes p-value = 1.5640644051e-05\n",
      "Shaprio-Wilks Test of Normality of Vibrio Virulent Genes p-value = 5.77306855121e-06\n",
      "Shaprio-Wilks Test of Normality of Gordonia Virulent Genes p-value = 0.0050412658602\n",
      "Shaprio-Wilks Test of Normality of Lactococcus Virulent Genes p-value = 0.00584692088887\n",
      "Shaprio-Wilks Test of Normality of Pseudomonas Virulent Genes p-value = 4.80723181531e-14\n",
      "Shaprio-Wilks Test of Normality of Propionibacterium Virulent Genes p-value = 6.40479129288e-07\n"
     ]
    }
   ],
   "source": [
    "from scipy import stats\n",
    "## Bacilus Distribution\n",
    "bacillus_disto = test[test['Genus']=='Bacillus']\n",
    "l = list(bacillus_disto['Virulence'])\n",
    "q = stats.shapiro(l)\n",
    "print(\"Shaprio-Wilks Test of Normality of Bacillus Virulent Genes p-value = %s\" % q[1])\n",
    "## Staphylococcus Distribution\n",
    "Staphylococcus_disto = test[test['Genus']=='Staphylococcus']\n",
    "y = list(Staphylococcus_disto['Virulence'])\n",
    "q = stats.shapiro(y)\n",
    "print(\"Shaprio-Wilks Test of Normality of Staphylococcus Virulent Genes p-value = %s\" % q[1])\n",
    "## Lactobacillus Distribution\n",
    "Lactobacillus_disto = test[test['Genus']=='Lactobacillus']\n",
    "y = list(Lactobacillus_disto['Virulence'])\n",
    "q = stats.shapiro(y)\n",
    "print(\"Shaprio-Wilks Test of Normality of Lactobacillus Virulent Genes p-value = %s\" % q[1])\n",
    "## Escherichia Distribution\n",
    "Escherichia_disto = test[test['Genus']=='Escherichia']\n",
    "y = list(Escherichia_disto['Virulence'])\n",
    "q = stats.shapiro(y)\n",
    "print(\"Shaprio-Wilks Test of Normality of Escherichia Virulent Genes p-value = %s\" % q[1])\n",
    "## Streptococcus Distribution\n",
    "Streptococcus_disto = test[test['Genus']=='Streptococcus']\n",
    "y = list(Streptococcus_disto['Virulence'])\n",
    "q = stats.shapiro(y)\n",
    "print(\"Shaprio-Wilks Test of Normality of Streptococcus Virulent Genes p-value = %s\" % q[1])\n",
    "## Salmonella Distribution\n",
    "Salmonella_disto = test[test['Genus']=='Salmonella']\n",
    "y = list(Salmonella_disto['Virulence'])\n",
    "q = stats.shapiro(y)\n",
    "print(\"Shaprio-Wilks Test of Normality of Salmonella Virulent Genes p-value = %s\" % q[1])\n",
    "## Enterobacteria Distribution\n",
    "Enterobacteria_disto = test[test['Genus']=='Enterobacteria']\n",
    "y = list(Enterobacteria_disto['Virulence'])\n",
    "q = stats.shapiro(y)\n",
    "print(\"Shaprio-Wilks Test of Normality of Enterobacteria Virulent Genes p-value = %s\" % q[1])\n",
    "## Mycobacterium Distribution\n",
    "Mycobacterium_disto = test[test['Genus']=='Mycobacterium']\n",
    "y = list(Mycobacterium_disto['Virulence'])\n",
    "q = stats.shapiro(y)\n",
    "print(\"Shaprio-Wilks Test of Normality of Mycobacterium Virulent Genes p-value = %s\" % q[1])\n",
    "## Vibrio Distribution\n",
    "Vibrio_disto = test[test['Genus']=='Vibrio']\n",
    "y = list(Vibrio_disto['Virulence'])\n",
    "q = stats.shapiro(y)\n",
    "print(\"Shaprio-Wilks Test of Normality of Vibrio Virulent Genes p-value = %s\" % q[1])\n",
    "## Gordonia Distribution\n",
    "Gordonia_disto = test[test['Genus']=='Gordonia']\n",
    "y = list(Gordonia_disto['Virulence'])\n",
    "q = stats.shapiro(y)\n",
    "print(\"Shaprio-Wilks Test of Normality of Gordonia Virulent Genes p-value = %s\" % q[1])\n",
    "## Lactococcus Distribution\n",
    "Lactococcus_disto = test[test['Genus']=='Lactococcus']\n",
    "y = list(Lactococcus_disto['Virulence'])\n",
    "q = stats.shapiro(y)\n",
    "print(\"Shaprio-Wilks Test of Normality of Lactococcus Virulent Genes p-value = %s\" % q[1])\n",
    "## Pseudomonas Distribution\n",
    "Pseudomonas_disto = test[test['Genus']=='Pseudomonas']\n",
    "t = list(Pseudomonas_disto['Virulence'])\n",
    "q = stats.shapiro(t)\n",
    "print(\"Shaprio-Wilks Test of Normality of Pseudomonas Virulent Genes p-value = %s\" % q[1])\n",
    "## Propionibacterium Distribution\n",
    "Propionibacterium_disto = test[test['Genus']=='Propionibacterium']\n",
    "y = list(Propionibacterium_disto['Virulence'])\n",
    "q = stats.shapiro(y)\n",
    "print(\"Shaprio-Wilks Test of Normality of Propionibacterium Virulent Genes p-value = %s\" % q[1])"
   ]
  },
  {
   "cell_type": "markdown",
   "metadata": {},
   "source": [
    "### Stats To-Do\n",
    "Considering Normlizing counts between 0 and 1 then applying the same normalization to observation. Then performing a one sample t-test or outlier detection"
   ]
  },
  {
   "cell_type": "code",
   "execution_count": 97,
   "metadata": {},
   "outputs": [
    {
     "data": {
      "text/plain": [
       "1.0612730517549076"
      ]
     },
     "execution_count": 97,
     "metadata": {},
     "output_type": "execute_result"
    }
   ],
   "source": [
    "import numpy as np\n",
    "z = np.mean(y)\n",
    "variance = np.var(y)\n",
    "variance"
   ]
  },
  {
   "cell_type": "code",
   "execution_count": 102,
   "metadata": {},
   "outputs": [
    {
     "data": {
      "text/plain": [
       "43.998810232004764"
      ]
     },
     "execution_count": 102,
     "metadata": {},
     "output_type": "execute_result"
    }
   ],
   "source": [
    "import numpy as np\n",
    "z = np.mean(l)\n",
    "variance = np.var(l)\n",
    "variance\n",
    "#z"
   ]
  },
  {
   "cell_type": "code",
   "execution_count": 78,
   "metadata": {},
   "outputs": [
    {
     "data": {
      "text/plain": [
       "Ttest_1sampResult(statistic=-2.2460728058830486, pvalue=0.030290382881324712)"
      ]
     },
     "execution_count": 78,
     "metadata": {},
     "output_type": "execute_result"
    }
   ],
   "source": [
    "qw = stats.ttest_1samp(y,3)\n",
    "qw"
   ]
  },
  {
   "cell_type": "code",
   "execution_count": 88,
   "metadata": {
    "collapsed": true
   },
   "outputs": [],
   "source": [
    "# Calculate Sample Mean\n",
    "def mean(x):\n",
    "    return sum(x)/(len(x)*1.0) \n",
    "\n",
    "# Calculate Sample Standard Deviation\n",
    "def sd(x):\n",
    "    xb = sum(x)/(len(x)*1.0) \n",
    "    return (sum([(i-xb)**2 for i in x])/(len(x)-1))**(0.5) "
   ]
  },
  {
   "cell_type": "code",
   "execution_count": 91,
   "metadata": {
    "collapsed": true
   },
   "outputs": [],
   "source": [
    "def one_sample_ttest(x,mu,alt='neq'):\n",
    "    # Calculate t statistic and p-value.\n",
    "    ttest_onesample = stats.ttest_1samp(x, mu)\n",
    "    # Extract t-stat\n",
    "    t = ttest_onesample[0]\n",
    "    # Sample Size\n",
    "    n = len(x)\n",
    "    # Degress of Freedom\n",
    "    df = n-1\n",
    "    # Calculate Standard Error\n",
    "    se = sd(x)/((n)**(0.5))\n",
    "    # Calculate the correct p value if gt is selected\n",
    "    if(alt == 'gt'):   \n",
    "        # Correct p-value for one sided alt\n",
    "        if(t>=0):\n",
    "            p = (ttest_onesample[1])/(2.0)\n",
    "        elif(t==0):\n",
    "            p = 1-(ttest_onesample[1])/(2.0)\n",
    "        if(t<=0):\n",
    "            p = (ttest_onesample[1])/(2.0)\n",
    "            \n",
    "        hypothesis = \"less than\"\n",
    "        # Calculate 95 percent conf limits\n",
    "        ts = stats.t.ppf(.05, df)\n",
    "        ul = mean(x)-se*ts\n",
    "        ll = float(\"-inf\")\n",
    "    else:\n",
    "        p = ttest_onesample[1]\n",
    "        # Calculate 95 percent conf limits\n",
    "        hypothesis = \"not equal to\"\n",
    "        ts = stats.t.ppf(0.025, df)\n",
    "        ll = mean(x)-se*ts\n",
    "        ul = mean(x)+se*ts\n",
    "        \n",
    "    print \"One Sample t-test:\"\n",
    "    print \"t = %.4f,\" % t,\"df = %.f,\" % df, \"p-value = %.4f\" % p \n",
    "    print \"alternative hypothesis: true mean is\", hypothesis , mu, \"\\n\"\n",
    "    print \"95 percent confidence interval:\"\n",
    "    print \"\\t (%.4f,\" % ll , \"%.4f)\" % ul, \"\\n\""
   ]
  },
  {
   "cell_type": "code",
   "execution_count": 96,
   "metadata": {},
   "outputs": [
    {
     "name": "stdout",
     "output_type": "stream",
     "text": [
      "One Sample t-test:\n",
      "t = -2.2461, df = 40, p-value = 0.0151\n",
      "alternative hypothesis: true mean is less than 3 \n",
      "\n",
      "95 percent confidence interval:\n",
      "\t (-inf, 2.9084) \n",
      "\n"
     ]
    }
   ],
   "source": [
    "one_sample_ttest(y, 3, 'gt')"
   ]
  },
  {
   "cell_type": "code",
   "execution_count": null,
   "metadata": {
    "collapsed": true
   },
   "outputs": [],
   "source": []
  },
  {
   "cell_type": "code",
   "execution_count": null,
   "metadata": {
    "collapsed": true
   },
   "outputs": [],
   "source": []
  }
 ],
 "metadata": {
  "kernelspec": {
   "display_name": "Python 2",
   "language": "python",
   "name": "python2"
  },
  "language_info": {
   "codemirror_mode": {
    "name": "ipython",
    "version": 2
   },
   "file_extension": ".py",
   "mimetype": "text/x-python",
   "name": "python",
   "nbconvert_exporter": "python",
   "pygments_lexer": "ipython2",
   "version": "2.7.14"
  }
 },
 "nbformat": 4,
 "nbformat_minor": 2
}
